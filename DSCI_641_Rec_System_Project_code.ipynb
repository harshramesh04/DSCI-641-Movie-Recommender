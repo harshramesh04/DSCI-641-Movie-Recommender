{
  "cells": [
    {
      "cell_type": "code",
      "execution_count": 2,
      "id": "f692e029",
      "metadata": {
        "colab": {
          "base_uri": "https://localhost:8080/"
        },
        "id": "f692e029",
        "outputId": "549ba8d8-d6a6-4b70-e197-03377f5fe264"
      },
      "outputs": [],
      "source": [
        "#from google.colab import drive\n",
        "#drive.mount('/content/drive')\n",
        "\n",
        "import pandas as pd\n",
        "import numpy as np\n",
        "import matplotlib.pyplot as plt\n",
        "import seaborn as sns\n",
        "from sklearn.feature_extraction.text import TfidfVectorizer\n",
        "from sklearn.metrics.pairwise import cosine_similarity\n",
        "\n",
        "from surprise import Reader, SVD, Dataset, accuracy\n",
        "from surprise.model_selection import GridSearchCV, train_test_split, cross_validate\n",
        "\n",
        "from tqdm import tqdm\n",
        "\n",
        "import torch\n",
        "import torch.nn as nn\n",
        "from torch.utils.data import Dataset, DataLoader\n",
        "import pytorch_lightning as pl"
      ]
    },
    {
      "cell_type": "code",
      "execution_count": 3,
      "id": "f25f3105",
      "metadata": {
        "colab": {
          "base_uri": "https://localhost:8080/",
          "height": 206
        },
        "id": "f25f3105",
        "outputId": "78e1c92e-ba6e-4f81-ca6f-c31c0a3d2d12"
      },
      "outputs": [
        {
          "data": {
            "text/html": [
              "<div>\n",
              "<style scoped>\n",
              "    .dataframe tbody tr th:only-of-type {\n",
              "        vertical-align: middle;\n",
              "    }\n",
              "\n",
              "    .dataframe tbody tr th {\n",
              "        vertical-align: top;\n",
              "    }\n",
              "\n",
              "    .dataframe thead th {\n",
              "        text-align: right;\n",
              "    }\n",
              "</style>\n",
              "<table border=\"1\" class=\"dataframe\">\n",
              "  <thead>\n",
              "    <tr style=\"text-align: right;\">\n",
              "      <th></th>\n",
              "      <th>userId</th>\n",
              "      <th>movieId</th>\n",
              "      <th>tag</th>\n",
              "      <th>timestamp</th>\n",
              "    </tr>\n",
              "  </thead>\n",
              "  <tbody>\n",
              "    <tr>\n",
              "      <th>0</th>\n",
              "      <td>18</td>\n",
              "      <td>4141</td>\n",
              "      <td>Mark Waters</td>\n",
              "      <td>1240597180</td>\n",
              "    </tr>\n",
              "    <tr>\n",
              "      <th>1</th>\n",
              "      <td>65</td>\n",
              "      <td>208</td>\n",
              "      <td>dark hero</td>\n",
              "      <td>1368150078</td>\n",
              "    </tr>\n",
              "    <tr>\n",
              "      <th>2</th>\n",
              "      <td>65</td>\n",
              "      <td>353</td>\n",
              "      <td>dark hero</td>\n",
              "      <td>1368150079</td>\n",
              "    </tr>\n",
              "    <tr>\n",
              "      <th>3</th>\n",
              "      <td>65</td>\n",
              "      <td>521</td>\n",
              "      <td>noir thriller</td>\n",
              "      <td>1368149983</td>\n",
              "    </tr>\n",
              "    <tr>\n",
              "      <th>4</th>\n",
              "      <td>65</td>\n",
              "      <td>592</td>\n",
              "      <td>dark hero</td>\n",
              "      <td>1368150078</td>\n",
              "    </tr>\n",
              "  </tbody>\n",
              "</table>\n",
              "</div>"
            ],
            "text/plain": [
              "   userId  movieId            tag   timestamp\n",
              "0      18     4141    Mark Waters  1240597180\n",
              "1      65      208      dark hero  1368150078\n",
              "2      65      353      dark hero  1368150079\n",
              "3      65      521  noir thriller  1368149983\n",
              "4      65      592      dark hero  1368150078"
            ]
          },
          "execution_count": 3,
          "metadata": {},
          "output_type": "execute_result"
        }
      ],
      "source": [
        "tag_df = pd.read_csv(\"ml-20m/ml-20m/tags.csv\")\n",
        "tag_df.head()"
      ]
    },
    {
      "cell_type": "code",
      "execution_count": 4,
      "id": "475747ea",
      "metadata": {
        "colab": {
          "base_uri": "https://localhost:8080/"
        },
        "id": "475747ea",
        "outputId": "2b685040-da74-45d8-aac6-e5d1e7288f38"
      },
      "outputs": [
        {
          "data": {
            "text/plain": [
              "(465564, 4)"
            ]
          },
          "execution_count": 4,
          "metadata": {},
          "output_type": "execute_result"
        }
      ],
      "source": [
        "tag_df.shape"
      ]
    },
    {
      "cell_type": "code",
      "execution_count": 5,
      "id": "e504d98d",
      "metadata": {
        "colab": {
          "base_uri": "https://localhost:8080/"
        },
        "id": "e504d98d",
        "outputId": "e7cebb88-d7d1-477e-955b-6f8392d53006"
      },
      "outputs": [
        {
          "data": {
            "text/plain": [
              "userId        0\n",
              "movieId       0\n",
              "tag          16\n",
              "timestamp     0\n",
              "dtype: int64"
            ]
          },
          "execution_count": 5,
          "metadata": {},
          "output_type": "execute_result"
        }
      ],
      "source": [
        "tag_df.isnull().sum()"
      ]
    },
    {
      "cell_type": "code",
      "execution_count": 6,
      "id": "a3297bab",
      "metadata": {
        "id": "a3297bab"
      },
      "outputs": [],
      "source": [
        "\n",
        "\n",
        "tag_df.rename(columns={'tag':'user_tag'}, inplace=True)\n",
        "\n",
        "\n",
        "tag_df['timestamp'] = pd.to_datetime(tag_df['timestamp'])\n",
        "tag_df['year'] = tag_df['timestamp'].dt.year\n",
        "tag_df['month'] = tag_df['timestamp'].dt.month\n",
        "\n",
        "\n",
        "\n",
        "tag_df['user_tag'] = tag_df['user_tag'].str.lower()"
      ]
    },
    {
      "cell_type": "code",
      "execution_count": 7,
      "id": "0e3cfbfd",
      "metadata": {
        "colab": {
          "base_uri": "https://localhost:8080/"
        },
        "id": "0e3cfbfd",
        "outputId": "dd7796ea-5a5e-4072-f186-85a7d32d26f6"
      },
      "outputs": [
        {
          "name": "stdout",
          "output_type": "stream",
          "text": [
            "   userId  movieId       user_tag                     timestamp  year  month\n",
            "0      18     4141    mark waters 1970-01-01 00:00:01.240597180  1970      1\n",
            "1      65      208      dark hero 1970-01-01 00:00:01.368150078  1970      1\n",
            "2      65      353      dark hero 1970-01-01 00:00:01.368150079  1970      1\n",
            "3      65      521  noir thriller 1970-01-01 00:00:01.368149983  1970      1\n",
            "4      65      592      dark hero 1970-01-01 00:00:01.368150078  1970      1\n"
          ]
        },
        {
          "data": {
            "text/plain": [
              "(465564, 6)"
            ]
          },
          "execution_count": 7,
          "metadata": {},
          "output_type": "execute_result"
        }
      ],
      "source": [
        "print(tag_df.head())\n",
        "tag_df.shape"
      ]
    },
    {
      "cell_type": "code",
      "execution_count": 8,
      "id": "a9e3789c",
      "metadata": {
        "colab": {
          "base_uri": "https://localhost:8080/"
        },
        "id": "a9e3789c",
        "outputId": "1ec7d3ba-68a0-4010-a3aa-dac4897ba920"
      },
      "outputs": [
        {
          "name": "stdout",
          "output_type": "stream",
          "text": [
            "<class 'pandas.core.frame.DataFrame'>\n",
            "RangeIndex: 465564 entries, 0 to 465563\n",
            "Data columns (total 6 columns):\n",
            " #   Column     Non-Null Count   Dtype         \n",
            "---  ------     --------------   -----         \n",
            " 0   userId     465564 non-null  int64         \n",
            " 1   movieId    465564 non-null  int64         \n",
            " 2   user_tag   465548 non-null  object        \n",
            " 3   timestamp  465564 non-null  datetime64[ns]\n",
            " 4   year       465564 non-null  int32         \n",
            " 5   month      465564 non-null  int32         \n",
            "dtypes: datetime64[ns](1), int32(2), int64(2), object(1)\n",
            "memory usage: 17.8+ MB\n"
          ]
        }
      ],
      "source": [
        "tag_df.info()"
      ]
    },
    {
      "cell_type": "code",
      "execution_count": 9,
      "id": "d5fd0af9",
      "metadata": {
        "colab": {
          "base_uri": "https://localhost:8080/"
        },
        "id": "d5fd0af9",
        "outputId": "373190c0-9b8c-424c-afcc-149bbda4800f"
      },
      "outputs": [
        {
          "data": {
            "text/plain": [
              "user_tag\n",
              "sci-fi                      3576\n",
              "based on a book             3307\n",
              "atmospheric                 3169\n",
              "comedy                      3078\n",
              "action                      3068\n",
              "                            ... \n",
              "touchstone                     1\n",
              "pg:some brief language         1\n",
              "playwright:aaron sorkin        1\n",
              "screenwriter:neil labute       1\n",
              "topless scene                  1\n",
              "Name: count, Length: 35172, dtype: int64"
            ]
          },
          "execution_count": 9,
          "metadata": {},
          "output_type": "execute_result"
        }
      ],
      "source": [
        "tag_df.user_tag.value_counts()"
      ]
    },
    {
      "cell_type": "code",
      "execution_count": 10,
      "id": "f02fdeaa",
      "metadata": {
        "colab": {
          "base_uri": "https://localhost:8080/"
        },
        "id": "f02fdeaa",
        "outputId": "09eafdd9-24eb-455a-993d-71450423f0fa"
      },
      "outputs": [
        {
          "data": {
            "text/plain": [
              "user_tag\n",
              "sci-fi              3576\n",
              "based on a book     3307\n",
              "atmospheric         3169\n",
              "comedy              3078\n",
              "action              3068\n",
              "nudity (topless)    2646\n",
              "surreal             2528\n",
              "twist ending        2367\n",
              "bd-r                2334\n",
              "funny               2253\n",
              "Name: count, dtype: int64"
            ]
          },
          "execution_count": 10,
          "metadata": {},
          "output_type": "execute_result"
        }
      ],
      "source": [
        "\n",
        "tag_df.user_tag.value_counts().head(10)\n"
      ]
    },
    {
      "cell_type": "code",
      "execution_count": 11,
      "id": "9f8637db",
      "metadata": {
        "colab": {
          "base_uri": "https://localhost:8080/",
          "height": 564
        },
        "id": "9f8637db",
        "outputId": "9058410a-c91e-4a88-fb2e-447fa94decc3"
      },
      "outputs": [
        {
          "data": {
            "image/png": "[encoded data removed]",
            "text/plain": [
              "<Figure size 1000x600 with 1 Axes>"
            ]
          },
          "metadata": {},
          "output_type": "display_data"
        }
      ],
      "source": [
        "\n",
        "common_tags = tag_df['user_tag'].value_counts().head(10)\n",
        "plt.figure(figsize=(10,6))\n",
        "sns.barplot(x=common_tags.values,y=common_tags.index, orient='h')\n",
        "plt.title('Top 10 User_Genrated Tags')\n",
        "plt.xlabel(\"Count\")\n",
        "plt.ylabel(\"User Generated Tag \")\n",
        "plt.show()"
      ]
    },
    {
      "cell_type": "code",
      "execution_count": 12,
      "id": "f1f8c7e0",
      "metadata": {
        "colab": {
          "base_uri": "https://localhost:8080/",
          "height": 206
        },
        "id": "f1f8c7e0",
        "outputId": "ddaa4efb-8902-4437-dffe-095968477035"
      },
      "outputs": [
        {
          "data": {
            "text/html": [
              "<div>\n",
              "<style scoped>\n",
              "    .dataframe tbody tr th:only-of-type {\n",
              "        vertical-align: middle;\n",
              "    }\n",
              "\n",
              "    .dataframe tbody tr th {\n",
              "        vertical-align: top;\n",
              "    }\n",
              "\n",
              "    .dataframe thead th {\n",
              "        text-align: right;\n",
              "    }\n",
              "</style>\n",
              "<table border=\"1\" class=\"dataframe\">\n",
              "  <thead>\n",
              "    <tr style=\"text-align: right;\">\n",
              "      <th></th>\n",
              "      <th>userId</th>\n",
              "      <th>movieId</th>\n",
              "      <th>rating</th>\n",
              "      <th>timestamp</th>\n",
              "    </tr>\n",
              "  </thead>\n",
              "  <tbody>\n",
              "    <tr>\n",
              "      <th>0</th>\n",
              "      <td>1</td>\n",
              "      <td>2</td>\n",
              "      <td>3.5</td>\n",
              "      <td>1112486027</td>\n",
              "    </tr>\n",
              "    <tr>\n",
              "      <th>1</th>\n",
              "      <td>1</td>\n",
              "      <td>29</td>\n",
              "      <td>3.5</td>\n",
              "      <td>1112484676</td>\n",
              "    </tr>\n",
              "    <tr>\n",
              "      <th>2</th>\n",
              "      <td>1</td>\n",
              "      <td>32</td>\n",
              "      <td>3.5</td>\n",
              "      <td>1112484819</td>\n",
              "    </tr>\n",
              "    <tr>\n",
              "      <th>3</th>\n",
              "      <td>1</td>\n",
              "      <td>47</td>\n",
              "      <td>3.5</td>\n",
              "      <td>1112484727</td>\n",
              "    </tr>\n",
              "    <tr>\n",
              "      <th>4</th>\n",
              "      <td>1</td>\n",
              "      <td>50</td>\n",
              "      <td>3.5</td>\n",
              "      <td>1112484580</td>\n",
              "    </tr>\n",
              "  </tbody>\n",
              "</table>\n",
              "</div>"
            ],
            "text/plain": [
              "   userId  movieId  rating   timestamp\n",
              "0       1        2     3.5  1112486027\n",
              "1       1       29     3.5  1112484676\n",
              "2       1       32     3.5  1112484819\n",
              "3       1       47     3.5  1112484727\n",
              "4       1       50     3.5  1112484580"
            ]
          },
          "execution_count": 12,
          "metadata": {},
          "output_type": "execute_result"
        }
      ],
      "source": [
        "rating_df = pd.read_csv(\"ml-20m/ml-20m/ratings.csv\")\n",
        "rating_df.head()"
      ]
    },
    {
      "cell_type": "code",
      "execution_count": 13,
      "id": "41513598",
      "metadata": {
        "colab": {
          "base_uri": "https://localhost:8080/"
        },
        "id": "41513598",
        "outputId": "f1fd1c06-93e5-4bc0-ce35-fa9caa182335"
      },
      "outputs": [
        {
          "data": {
            "text/plain": [
              "(20000263, 4)"
            ]
          },
          "execution_count": 13,
          "metadata": {},
          "output_type": "execute_result"
        }
      ],
      "source": [
        "rating_df.shape"
      ]
    },
    {
      "cell_type": "code",
      "execution_count": 14,
      "id": "91ef58d5",
      "metadata": {
        "colab": {
          "base_uri": "https://localhost:8080/"
        },
        "id": "91ef58d5",
        "outputId": "3f155b2d-6c98-4d26-926c-09ac10a0808a"
      },
      "outputs": [
        {
          "data": {
            "text/plain": [
              "userId       0\n",
              "movieId      0\n",
              "rating       0\n",
              "timestamp    0\n",
              "dtype: int64"
            ]
          },
          "execution_count": 14,
          "metadata": {},
          "output_type": "execute_result"
        }
      ],
      "source": [
        "rating_df.isnull().sum()"
      ]
    },
    {
      "cell_type": "code",
      "execution_count": 15,
      "id": "9cad6f53",
      "metadata": {
        "id": "9cad6f53"
      },
      "outputs": [],
      "source": [
        "\n",
        "rating_df['timestamp'] = pd.to_datetime(rating_df['timestamp'])\n",
        "rating_df['year'] = rating_df['timestamp'].dt.year\n",
        "rating_df['month'] = rating_df['timestamp'].dt.month\n"
      ]
    },
    {
      "cell_type": "code",
      "execution_count": 16,
      "id": "c9bfb7f6",
      "metadata": {
        "colab": {
          "base_uri": "https://localhost:8080/"
        },
        "id": "c9bfb7f6",
        "outputId": "5cc98f3d-3b48-4254-bf94-e6f5f3280dc6"
      },
      "outputs": [
        {
          "name": "stdout",
          "output_type": "stream",
          "text": [
            "<class 'pandas.core.frame.DataFrame'>\n",
            "RangeIndex: 20000263 entries, 0 to 20000262\n",
            "Data columns (total 6 columns):\n",
            " #   Column     Dtype         \n",
            "---  ------     -----         \n",
            " 0   userId     int64         \n",
            " 1   movieId    int64         \n",
            " 2   rating     float64       \n",
            " 3   timestamp  datetime64[ns]\n",
            " 4   year       int32         \n",
            " 5   month      int32         \n",
            "dtypes: datetime64[ns](1), float64(1), int32(2), int64(2)\n",
            "memory usage: 762.9 MB\n"
          ]
        }
      ],
      "source": [
        "rating_df.info()"
      ]
    },
    {
      "cell_type": "code",
      "execution_count": 17,
      "id": "10fde513",
      "metadata": {
        "colab": {
          "base_uri": "https://localhost:8080/"
        },
        "id": "10fde513",
        "outputId": "356c8ec2-25d8-4d2d-fa53-f3e0314e0e97"
      },
      "outputs": [
        {
          "name": "stdout",
          "output_type": "stream",
          "text": [
            "   userId  movieId  rating                     timestamp  year  month\n",
            "0       1        2     3.5 1970-01-01 00:00:01.112486027  1970      1\n",
            "1       1       29     3.5 1970-01-01 00:00:01.112484676  1970      1\n",
            "2       1       32     3.5 1970-01-01 00:00:01.112484819  1970      1\n",
            "3       1       47     3.5 1970-01-01 00:00:01.112484727  1970      1\n",
            "4       1       50     3.5 1970-01-01 00:00:01.112484580  1970      1\n"
          ]
        },
        {
          "data": {
            "text/plain": [
              "(20000263, 6)"
            ]
          },
          "execution_count": 17,
          "metadata": {},
          "output_type": "execute_result"
        }
      ],
      "source": [
        "print(rating_df.head())\n",
        "rating_df.shape"
      ]
    },
    {
      "cell_type": "code",
      "execution_count": 18,
      "id": "b2116f22",
      "metadata": {
        "colab": {
          "base_uri": "https://localhost:8080/"
        },
        "id": "b2116f22",
        "outputId": "c747c84a-e4c8-40ee-d21b-395fcf9f24c0"
      },
      "outputs": [
        {
          "data": {
            "text/plain": [
              "rating\n",
              "4.0    5561926\n",
              "3.0    4291193\n",
              "5.0    2898660\n",
              "3.5    2200156\n",
              "4.5    1534824\n",
              "2.0    1430997\n",
              "2.5     883398\n",
              "1.0     680732\n",
              "1.5     279252\n",
              "0.5     239125\n",
              "Name: count, dtype: int64"
            ]
          },
          "execution_count": 18,
          "metadata": {},
          "output_type": "execute_result"
        }
      ],
      "source": [
        "rating_df.rating.value_counts()"
      ]
    },
    {
      "cell_type": "code",
      "execution_count": 19,
      "id": "cfce8cba",
      "metadata": {
        "colab": {
          "base_uri": "https://localhost:8080/",
          "height": 564
        },
        "id": "cfce8cba",
        "outputId": "85fc7333-f275-4152-db1a-86419c7a6aae"
      },
      "outputs": [
        {
          "data": {
            "image/png": "[encoded data removed]",
            "text/plain": [
              "<Figure size 1000x600 with 1 Axes>"
            ]
          },
          "metadata": {},
          "output_type": "display_data"
        }
      ],
      "source": [
        "\n",
        "\n",
        "plt.figure(figsize=(10, 6))\n",
        "sns.countplot(x='rating', data=rating_df, palette='coolwarm')\n",
        "plt.title('Count of Ratings')\n",
        "plt.xlabel('Rating')\n",
        "plt.ylabel('Count')\n",
        "plt.show()\n"
      ]
    },
    {
      "cell_type": "code",
      "execution_count": 20,
      "id": "3cdbda78",
      "metadata": {
        "colab": {
          "base_uri": "https://localhost:8080/",
          "height": 564
        },
        "id": "3cdbda78",
        "outputId": "6f3bbd4e-439d-48f7-e7e5-94b8a2044214"
      },
      "outputs": [
        {
          "name": "stderr",
          "output_type": "stream",
          "text": [
            "C:\\Users\\harsh\\AppData\\Local\\Packages\\PythonSoftwareFoundation.Python.3.10_qbz5n2kfra8p0\\LocalCache\\local-packages\\Python310\\site-packages\\seaborn\\_oldcore.py:1119: FutureWarning: use_inf_as_na option is deprecated and will be removed in a future version. Convert inf values to NaN before operating instead.\n",
            "  with pd.option_context('mode.use_inf_as_na', True):\n"
          ]
        },
        {
          "data": {
            "image/png": "[encoded data removed]",
            "text/plain": [
              "<Figure size 1000x600 with 1 Axes>"
            ]
          },
          "metadata": {},
          "output_type": "display_data"
        }
      ],
      "source": [
        "\n",
        "plt.figure(figsize=(10, 6))\n",
        "sns.histplot(rating_df['rating'], bins=9, kde=True)\n",
        "plt.title('Distribution of Movie Rating')\n",
        "plt.xlabel(\"Rating\")\n",
        "plt.ylabel(\"Frequency\")\n",
        "plt.show()"
      ]
    },
    {
      "cell_type": "code",
      "execution_count": 21,
      "id": "0ddac682",
      "metadata": {
        "colab": {
          "base_uri": "https://localhost:8080/",
          "height": 564
        },
        "id": "0ddac682",
        "outputId": "26c788a0-d1d8-43bc-92f9-b601dd84f79e"
      },
      "outputs": [
        {
          "name": "stderr",
          "output_type": "stream",
          "text": [
            "C:\\Users\\harsh\\AppData\\Local\\Packages\\PythonSoftwareFoundation.Python.3.10_qbz5n2kfra8p0\\LocalCache\\local-packages\\Python310\\site-packages\\seaborn\\_oldcore.py:1119: FutureWarning: use_inf_as_na option is deprecated and will be removed in a future version. Convert inf values to NaN before operating instead.\n",
            "  with pd.option_context('mode.use_inf_as_na', True):\n"
          ]
        },
        {
          "data": {
            "image/png": "[encoded data removed]",
            "text/plain": [
              "<Figure size 1000x600 with 1 Axes>"
            ]
          },
          "metadata": {},
          "output_type": "display_data"
        }
      ],
      "source": [
        "ratings_per_movie = rating_df.groupby('movieId')['rating'].count()\n",
        "plt.figure(figsize=(10,6))\n",
        "sns.histplot(ratings_per_movie, bins=50, kde=True)\n",
        "plt.title('Number of Ratings per Movie')\n",
        "plt.xlabel(\"Number of Rating\")\n",
        "plt.ylabel(\"Frequency\")\n",
        "plt.show()"
      ]
    },
    {
      "cell_type": "code",
      "execution_count": 22,
      "id": "871f87b3",
      "metadata": {
        "id": "871f87b3"
      },
      "outputs": [],
      "source": [
        "movie_df = pd.read_csv(\"ml-20m/ml-20m/movies.csv\")"
      ]
    },
    {
      "cell_type": "code",
      "execution_count": 23,
      "id": "0751fd79",
      "metadata": {
        "colab": {
          "base_uri": "https://localhost:8080/",
          "height": 206
        },
        "id": "0751fd79",
        "outputId": "216a8ff6-08d5-4b51-ea01-b820985bcd22"
      },
      "outputs": [
        {
          "data": {
            "text/html": [
              "<div>\n",
              "<style scoped>\n",
              "    .dataframe tbody tr th:only-of-type {\n",
              "        vertical-align: middle;\n",
              "    }\n",
              "\n",
              "    .dataframe tbody tr th {\n",
              "        vertical-align: top;\n",
              "    }\n",
              "\n",
              "    .dataframe thead th {\n",
              "        text-align: right;\n",
              "    }\n",
              "</style>\n",
              "<table border=\"1\" class=\"dataframe\">\n",
              "  <thead>\n",
              "    <tr style=\"text-align: right;\">\n",
              "      <th></th>\n",
              "      <th>movieId</th>\n",
              "      <th>title</th>\n",
              "      <th>genres</th>\n",
              "    </tr>\n",
              "  </thead>\n",
              "  <tbody>\n",
              "    <tr>\n",
              "      <th>0</th>\n",
              "      <td>1</td>\n",
              "      <td>Toy Story (1995)</td>\n",
              "      <td>Adventure|Animation|Children|Comedy|Fantasy</td>\n",
              "    </tr>\n",
              "    <tr>\n",
              "      <th>1</th>\n",
              "      <td>2</td>\n",
              "      <td>Jumanji (1995)</td>\n",
              "      <td>Adventure|Children|Fantasy</td>\n",
              "    </tr>\n",
              "    <tr>\n",
              "      <th>2</th>\n",
              "      <td>3</td>\n",
              "      <td>Grumpier Old Men (1995)</td>\n",
              "      <td>Comedy|Romance</td>\n",
              "    </tr>\n",
              "    <tr>\n",
              "      <th>3</th>\n",
              "      <td>4</td>\n",
              "      <td>Waiting to Exhale (1995)</td>\n",
              "      <td>Comedy|Drama|Romance</td>\n",
              "    </tr>\n",
              "    <tr>\n",
              "      <th>4</th>\n",
              "      <td>5</td>\n",
              "      <td>Father of the Bride Part II (1995)</td>\n",
              "      <td>Comedy</td>\n",
              "    </tr>\n",
              "  </tbody>\n",
              "</table>\n",
              "</div>"
            ],
            "text/plain": [
              "   movieId                               title  \\\n",
              "0        1                    Toy Story (1995)   \n",
              "1        2                      Jumanji (1995)   \n",
              "2        3             Grumpier Old Men (1995)   \n",
              "3        4            Waiting to Exhale (1995)   \n",
              "4        5  Father of the Bride Part II (1995)   \n",
              "\n",
              "                                        genres  \n",
              "0  Adventure|Animation|Children|Comedy|Fantasy  \n",
              "1                   Adventure|Children|Fantasy  \n",
              "2                               Comedy|Romance  \n",
              "3                         Comedy|Drama|Romance  \n",
              "4                                       Comedy  "
            ]
          },
          "execution_count": 23,
          "metadata": {},
          "output_type": "execute_result"
        }
      ],
      "source": [
        "movie_df.head()"
      ]
    },
    {
      "cell_type": "code",
      "execution_count": 24,
      "id": "6bbf2d7b",
      "metadata": {
        "colab": {
          "base_uri": "https://localhost:8080/"
        },
        "id": "6bbf2d7b",
        "outputId": "9d4444ed-46e4-4325-cb9d-4b88ac2aeb27"
      },
      "outputs": [
        {
          "data": {
            "text/plain": [
              "(27278, 3)"
            ]
          },
          "execution_count": 24,
          "metadata": {},
          "output_type": "execute_result"
        }
      ],
      "source": [
        "movie_df.shape"
      ]
    },
    {
      "cell_type": "code",
      "execution_count": 25,
      "id": "0110ea77",
      "metadata": {
        "colab": {
          "base_uri": "https://localhost:8080/"
        },
        "id": "0110ea77",
        "outputId": "2fe23015-b055-4c29-8f12-b238b37376b2"
      },
      "outputs": [
        {
          "data": {
            "text/plain": [
              "movieId    0\n",
              "title      0\n",
              "genres     0\n",
              "dtype: int64"
            ]
          },
          "execution_count": 25,
          "metadata": {},
          "output_type": "execute_result"
        }
      ],
      "source": [
        "movie_df.isnull().sum()"
      ]
    },
    {
      "cell_type": "code",
      "execution_count": 26,
      "id": "c3debedf",
      "metadata": {
        "colab": {
          "base_uri": "https://localhost:8080/"
        },
        "id": "c3debedf",
        "outputId": "392caf5e-cceb-4e3a-95f3-70b2deaa0004"
      },
      "outputs": [
        {
          "name": "stdout",
          "output_type": "stream",
          "text": [
            "<class 'pandas.core.frame.DataFrame'>\n",
            "RangeIndex: 27278 entries, 0 to 27277\n",
            "Data columns (total 3 columns):\n",
            " #   Column   Non-Null Count  Dtype \n",
            "---  ------   --------------  ----- \n",
            " 0   movieId  27278 non-null  int64 \n",
            " 1   title    27278 non-null  object\n",
            " 2   genres   27278 non-null  object\n",
            "dtypes: int64(1), object(2)\n",
            "memory usage: 639.5+ KB\n"
          ]
        }
      ],
      "source": [
        "movie_df.info()"
      ]
    },
    {
      "cell_type": "code",
      "execution_count": 27,
      "id": "5ace5cbe",
      "metadata": {
        "colab": {
          "base_uri": "https://localhost:8080/",
          "height": 424
        },
        "id": "5ace5cbe",
        "outputId": "1b6cfd79-b72e-4745-c647-103b17b1f24b"
      },
      "outputs": [
        {
          "data": {
            "text/html": [
              "<div>\n",
              "<style scoped>\n",
              "    .dataframe tbody tr th:only-of-type {\n",
              "        vertical-align: middle;\n",
              "    }\n",
              "\n",
              "    .dataframe tbody tr th {\n",
              "        vertical-align: top;\n",
              "    }\n",
              "\n",
              "    .dataframe thead th {\n",
              "        text-align: right;\n",
              "    }\n",
              "</style>\n",
              "<table border=\"1\" class=\"dataframe\">\n",
              "  <thead>\n",
              "    <tr style=\"text-align: right;\">\n",
              "      <th></th>\n",
              "      <th>movieId</th>\n",
              "      <th>title</th>\n",
              "      <th>genres</th>\n",
              "    </tr>\n",
              "  </thead>\n",
              "  <tbody>\n",
              "    <tr>\n",
              "      <th>0</th>\n",
              "      <td>1</td>\n",
              "      <td>Toy Story (1995)</td>\n",
              "      <td>[Adventure, Animation, Children, Comedy, Fantasy]</td>\n",
              "    </tr>\n",
              "    <tr>\n",
              "      <th>1</th>\n",
              "      <td>2</td>\n",
              "      <td>Jumanji (1995)</td>\n",
              "      <td>[Adventure, Children, Fantasy]</td>\n",
              "    </tr>\n",
              "    <tr>\n",
              "      <th>2</th>\n",
              "      <td>3</td>\n",
              "      <td>Grumpier Old Men (1995)</td>\n",
              "      <td>[Comedy, Romance]</td>\n",
              "    </tr>\n",
              "    <tr>\n",
              "      <th>3</th>\n",
              "      <td>4</td>\n",
              "      <td>Waiting to Exhale (1995)</td>\n",
              "      <td>[Comedy, Drama, Romance]</td>\n",
              "    </tr>\n",
              "    <tr>\n",
              "      <th>4</th>\n",
              "      <td>5</td>\n",
              "      <td>Father of the Bride Part II (1995)</td>\n",
              "      <td>[Comedy]</td>\n",
              "    </tr>\n",
              "    <tr>\n",
              "      <th>...</th>\n",
              "      <td>...</td>\n",
              "      <td>...</td>\n",
              "      <td>...</td>\n",
              "    </tr>\n",
              "    <tr>\n",
              "      <th>27273</th>\n",
              "      <td>131254</td>\n",
              "      <td>Kein Bund für's Leben (2007)</td>\n",
              "      <td>[Comedy]</td>\n",
              "    </tr>\n",
              "    <tr>\n",
              "      <th>27274</th>\n",
              "      <td>131256</td>\n",
              "      <td>Feuer, Eis &amp; Dosenbier (2002)</td>\n",
              "      <td>[Comedy]</td>\n",
              "    </tr>\n",
              "    <tr>\n",
              "      <th>27275</th>\n",
              "      <td>131258</td>\n",
              "      <td>The Pirates (2014)</td>\n",
              "      <td>[Adventure]</td>\n",
              "    </tr>\n",
              "    <tr>\n",
              "      <th>27276</th>\n",
              "      <td>131260</td>\n",
              "      <td>Rentun Ruusu (2001)</td>\n",
              "      <td>[(no genres listed)]</td>\n",
              "    </tr>\n",
              "    <tr>\n",
              "      <th>27277</th>\n",
              "      <td>131262</td>\n",
              "      <td>Innocence (2014)</td>\n",
              "      <td>[Adventure, Fantasy, Horror]</td>\n",
              "    </tr>\n",
              "  </tbody>\n",
              "</table>\n",
              "<p>27278 rows × 3 columns</p>\n",
              "</div>"
            ],
            "text/plain": [
              "       movieId                               title  \\\n",
              "0            1                    Toy Story (1995)   \n",
              "1            2                      Jumanji (1995)   \n",
              "2            3             Grumpier Old Men (1995)   \n",
              "3            4            Waiting to Exhale (1995)   \n",
              "4            5  Father of the Bride Part II (1995)   \n",
              "...        ...                                 ...   \n",
              "27273   131254        Kein Bund für's Leben (2007)   \n",
              "27274   131256       Feuer, Eis & Dosenbier (2002)   \n",
              "27275   131258                  The Pirates (2014)   \n",
              "27276   131260                 Rentun Ruusu (2001)   \n",
              "27277   131262                    Innocence (2014)   \n",
              "\n",
              "                                                  genres  \n",
              "0      [Adventure, Animation, Children, Comedy, Fantasy]  \n",
              "1                         [Adventure, Children, Fantasy]  \n",
              "2                                      [Comedy, Romance]  \n",
              "3                               [Comedy, Drama, Romance]  \n",
              "4                                               [Comedy]  \n",
              "...                                                  ...  \n",
              "27273                                           [Comedy]  \n",
              "27274                                           [Comedy]  \n",
              "27275                                        [Adventure]  \n",
              "27276                               [(no genres listed)]  \n",
              "27277                       [Adventure, Fantasy, Horror]  \n",
              "\n",
              "[27278 rows x 3 columns]"
            ]
          },
          "execution_count": 27,
          "metadata": {},
          "output_type": "execute_result"
        }
      ],
      "source": [
        "\n",
        "movie_df['genres'] = movie_df['genres'].str.split('|')\n",
        "movie_df"
      ]
    },
    {
      "cell_type": "code",
      "execution_count": 28,
      "id": "e6f36ad4",
      "metadata": {
        "colab": {
          "base_uri": "https://localhost:8080/",
          "height": 398
        },
        "id": "e6f36ad4",
        "outputId": "520bc7ef-3100-4b8b-ad1d-dfdebad81975"
      },
      "outputs": [
        {
          "data": {
            "text/html": [
              "<div>\n",
              "<style scoped>\n",
              "    .dataframe tbody tr th:only-of-type {\n",
              "        vertical-align: middle;\n",
              "    }\n",
              "\n",
              "    .dataframe tbody tr th {\n",
              "        vertical-align: top;\n",
              "    }\n",
              "\n",
              "    .dataframe thead th {\n",
              "        text-align: right;\n",
              "    }\n",
              "</style>\n",
              "<table border=\"1\" class=\"dataframe\">\n",
              "  <thead>\n",
              "    <tr style=\"text-align: right;\">\n",
              "      <th></th>\n",
              "      <th>movieId</th>\n",
              "      <th>movie_title</th>\n",
              "      <th>release_year</th>\n",
              "      <th>genres</th>\n",
              "    </tr>\n",
              "  </thead>\n",
              "  <tbody>\n",
              "    <tr>\n",
              "      <th>0</th>\n",
              "      <td>1</td>\n",
              "      <td>Toy Story (1995)</td>\n",
              "      <td>1995</td>\n",
              "      <td>NaN</td>\n",
              "    </tr>\n",
              "    <tr>\n",
              "      <th>1</th>\n",
              "      <td>2</td>\n",
              "      <td>Jumanji (1995)</td>\n",
              "      <td>1995</td>\n",
              "      <td>NaN</td>\n",
              "    </tr>\n",
              "    <tr>\n",
              "      <th>2</th>\n",
              "      <td>3</td>\n",
              "      <td>Grumpier Old Men (1995)</td>\n",
              "      <td>1995</td>\n",
              "      <td>NaN</td>\n",
              "    </tr>\n",
              "    <tr>\n",
              "      <th>3</th>\n",
              "      <td>4</td>\n",
              "      <td>Waiting to Exhale (1995)</td>\n",
              "      <td>1995</td>\n",
              "      <td>NaN</td>\n",
              "    </tr>\n",
              "    <tr>\n",
              "      <th>4</th>\n",
              "      <td>5</td>\n",
              "      <td>Father of the Bride Part II (1995)</td>\n",
              "      <td>1995</td>\n",
              "      <td>NaN</td>\n",
              "    </tr>\n",
              "    <tr>\n",
              "      <th>5</th>\n",
              "      <td>6</td>\n",
              "      <td>Heat (1995)</td>\n",
              "      <td>1995</td>\n",
              "      <td>NaN</td>\n",
              "    </tr>\n",
              "    <tr>\n",
              "      <th>6</th>\n",
              "      <td>7</td>\n",
              "      <td>Sabrina (1995)</td>\n",
              "      <td>1995</td>\n",
              "      <td>NaN</td>\n",
              "    </tr>\n",
              "    <tr>\n",
              "      <th>7</th>\n",
              "      <td>8</td>\n",
              "      <td>Tom and Huck (1995)</td>\n",
              "      <td>1995</td>\n",
              "      <td>NaN</td>\n",
              "    </tr>\n",
              "    <tr>\n",
              "      <th>8</th>\n",
              "      <td>9</td>\n",
              "      <td>Sudden Death (1995)</td>\n",
              "      <td>1995</td>\n",
              "      <td>NaN</td>\n",
              "    </tr>\n",
              "    <tr>\n",
              "      <th>9</th>\n",
              "      <td>10</td>\n",
              "      <td>GoldenEye (1995)</td>\n",
              "      <td>1995</td>\n",
              "      <td>NaN</td>\n",
              "    </tr>\n",
              "  </tbody>\n",
              "</table>\n",
              "</div>"
            ],
            "text/plain": [
              "   movieId                         movie_title release_year  genres\n",
              "0        1                    Toy Story (1995)         1995     NaN\n",
              "1        2                      Jumanji (1995)         1995     NaN\n",
              "2        3             Grumpier Old Men (1995)         1995     NaN\n",
              "3        4            Waiting to Exhale (1995)         1995     NaN\n",
              "4        5  Father of the Bride Part II (1995)         1995     NaN\n",
              "5        6                         Heat (1995)         1995     NaN\n",
              "6        7                      Sabrina (1995)         1995     NaN\n",
              "7        8                 Tom and Huck (1995)         1995     NaN\n",
              "8        9                 Sudden Death (1995)         1995     NaN\n",
              "9       10                    GoldenEye (1995)         1995     NaN"
            ]
          },
          "execution_count": 28,
          "metadata": {},
          "output_type": "execute_result"
        }
      ],
      "source": [
        "\n",
        "movie_df_new = movie_df.copy()\n",
        "\n",
        "\n",
        "movie_df_new['release_year'] = movie_df['title'].str.extract(r'\\((\\d{4})\\)', expand=False)\n",
        "movie_df_new['movie_title'] = movie_df['title'].str.replace(r'\\(\\d{4}\\)', '').str.strip()\n",
        "\n",
        "\n",
        "movie_df_new['genres'] = movie_df_new['genres'].str.split('|')\n",
        "\n",
        "movie_df_new = movie_df_new.drop('title', axis=1)\n",
        "movie_df_new = movie_df_new[['movieId', 'movie_title', 'release_year', 'genres']]\n",
        "\n",
        "movie_df_new.head(10)\n"
      ]
    },
    {
      "cell_type": "code",
      "execution_count": 29,
      "id": "92af8906",
      "metadata": {
        "colab": {
          "base_uri": "https://localhost:8080/"
        },
        "id": "92af8906",
        "outputId": "f1b5016e-b4e3-402a-87a1-8c7abc93a6a3"
      },
      "outputs": [
        {
          "name": "stdout",
          "output_type": "stream",
          "text": [
            "   movieId                         movie_title release_year  genres\n",
            "0        1                    Toy Story (1995)         1995     NaN\n",
            "1        2                      Jumanji (1995)         1995     NaN\n",
            "2        3             Grumpier Old Men (1995)         1995     NaN\n",
            "3        4            Waiting to Exhale (1995)         1995     NaN\n",
            "4        5  Father of the Bride Part II (1995)         1995     NaN\n"
          ]
        },
        {
          "data": {
            "text/plain": [
              "(27278, 4)"
            ]
          },
          "execution_count": 29,
          "metadata": {},
          "output_type": "execute_result"
        }
      ],
      "source": [
        "print(movie_df_new.head())\n",
        "movie_df_new.shape"
      ]
    },
    {
      "cell_type": "code",
      "execution_count": 30,
      "id": "07580889",
      "metadata": {
        "colab": {
          "base_uri": "https://localhost:8080/"
        },
        "id": "07580889",
        "outputId": "acd8a29d-0f8e-4480-d247-7ae58425ab11"
      },
      "outputs": [
        {
          "data": {
            "text/plain": [
              "release_year\n",
              "2009    1113\n",
              "2012    1022\n",
              "2011    1016\n",
              "2013    1011\n",
              "2008     979\n",
              "        ... \n",
              "1893       1\n",
              "1901       1\n",
              "1903       1\n",
              "1902       1\n",
              "1891       1\n",
              "Name: count, Length: 118, dtype: int64"
            ]
          },
          "execution_count": 30,
          "metadata": {},
          "output_type": "execute_result"
        }
      ],
      "source": [
        "movie_df_new.release_year.value_counts()"
      ]
    },
    {
      "cell_type": "code",
      "execution_count": 31,
      "id": "25744891",
      "metadata": {
        "colab": {
          "base_uri": "https://localhost:8080/",
          "height": 585
        },
        "id": "25744891",
        "outputId": "2eb46b96-3495-4d01-e338-160e0bee8cce"
      },
      "outputs": [
        {
          "data": {
            "image/png": "[encoded data removed]",
            "text/plain": [
              "<Figure size 1500x600 with 1 Axes>"
            ]
          },
          "metadata": {},
          "output_type": "display_data"
        }
      ],
      "source": [
        "\n",
        "plt.figure(figsize=(15, 6))\n",
        "sns.countplot(x='release_year', data=movie_df_new, order=movie_df_new['release_year'].value_counts().index)\n",
        "plt.title('Distribution of Movies by Release Year')\n",
        "plt.xlabel(\"Release Year\")\n",
        "plt.ylabel(\"Number of Movies\")\n",
        "plt.xticks(rotation=45, ha='right')  # Rotate x-axis labels for better visibility\n",
        "plt.show()\n"
      ]
    },
    {
      "cell_type": "code",
      "execution_count": 32,
      "id": "020a412c",
      "metadata": {
        "colab": {
          "base_uri": "https://localhost:8080/"
        },
        "id": "020a412c",
        "outputId": "22b5e968-d2d7-4ad2-ec78-4ff3b8ab93a8"
      },
      "outputs": [
        {
          "name": "stdout",
          "output_type": "stream",
          "text": [
            "<class 'pandas.core.frame.DataFrame'>\n",
            "RangeIndex: 27278 entries, 0 to 27277\n",
            "Data columns (total 4 columns):\n",
            " #   Column        Non-Null Count  Dtype  \n",
            "---  ------        --------------  -----  \n",
            " 0   movieId       27278 non-null  int64  \n",
            " 1   movie_title   27278 non-null  object \n",
            " 2   release_year  27256 non-null  object \n",
            " 3   genres        0 non-null      float64\n",
            "dtypes: float64(1), int64(1), object(2)\n",
            "memory usage: 852.6+ KB\n"
          ]
        }
      ],
      "source": [
        "movie_df_new.info()"
      ]
    },
    {
      "cell_type": "code",
      "execution_count": 33,
      "id": "07f7e4ee",
      "metadata": {
        "id": "07f7e4ee"
      },
      "outputs": [],
      "source": [
        "\n",
        "movie_df_new['release_year'] = pd.to_datetime(movie_df_new['release_year'], errors='coerce')\n"
      ]
    },
    {
      "cell_type": "code",
      "execution_count": 34,
      "id": "1572ed53",
      "metadata": {
        "colab": {
          "base_uri": "https://localhost:8080/"
        },
        "id": "1572ed53",
        "outputId": "29e8f8ce-37ae-4866-fb14-52fcb92c0ea9"
      },
      "outputs": [
        {
          "name": "stdout",
          "output_type": "stream",
          "text": [
            "<class 'pandas.core.frame.DataFrame'>\n",
            "RangeIndex: 27278 entries, 0 to 27277\n",
            "Data columns (total 4 columns):\n",
            " #   Column        Non-Null Count  Dtype         \n",
            "---  ------        --------------  -----         \n",
            " 0   movieId       27278 non-null  int64         \n",
            " 1   movie_title   27278 non-null  object        \n",
            " 2   release_year  27256 non-null  datetime64[ns]\n",
            " 3   genres        0 non-null      float64       \n",
            "dtypes: datetime64[ns](1), float64(1), int64(1), object(1)\n",
            "memory usage: 852.6+ KB\n"
          ]
        }
      ],
      "source": [
        "movie_df_new.info()"
      ]
    },
    {
      "cell_type": "code",
      "execution_count": 35,
      "id": "e8717681",
      "metadata": {
        "colab": {
          "base_uri": "https://localhost:8080/",
          "height": 675
        },
        "id": "e8717681",
        "outputId": "d92cfa13-7fe6-4b9a-9d04-637b1fd3b3a5"
      },
      "outputs": [
        {
          "data": {
            "image/png": "[encoded data removed]",
            "text/plain": [
              "<Figure size 800x800 with 1 Axes>"
            ]
          },
          "metadata": {},
          "output_type": "display_data"
        }
      ],
      "source": [
        "\n",
        "\n",
        "a = plt.cm.cool\n",
        "\n",
        "top_genres = movie_df_new['genres'].explode().value_counts().head(10)\n",
        "colors = [a(0.1), a(0.2), a(0.3), a(0.4), a(0.5), a(0.6), a(0.7), a(0.8), a(0.9), a(0.99)]\n",
        "\n",
        "\n",
        "plt.figure(figsize=(8, 8))\n",
        "plt.pie(top_genres.values, labels=top_genres.index, colors=colors, autopct='%1.1f%%', startangle=140)\n",
        "plt.title('Top Movie Genres')\n",
        "plt.axis('equal')\n",
        "\n",
        "plt.show()\n"
      ]
    },
    {
      "cell_type": "code",
      "execution_count": 36,
      "id": "a508dcd3",
      "metadata": {
        "colab": {
          "base_uri": "https://localhost:8080/",
          "height": 206
        },
        "id": "a508dcd3",
        "outputId": "7d472c38-6385-45b8-e812-b477202dc51c"
      },
      "outputs": [
        {
          "data": {
            "text/html": [
              "<div>\n",
              "<style scoped>\n",
              "    .dataframe tbody tr th:only-of-type {\n",
              "        vertical-align: middle;\n",
              "    }\n",
              "\n",
              "    .dataframe tbody tr th {\n",
              "        vertical-align: top;\n",
              "    }\n",
              "\n",
              "    .dataframe thead th {\n",
              "        text-align: right;\n",
              "    }\n",
              "</style>\n",
              "<table border=\"1\" class=\"dataframe\">\n",
              "  <thead>\n",
              "    <tr style=\"text-align: right;\">\n",
              "      <th></th>\n",
              "      <th>movieId</th>\n",
              "      <th>imdbId</th>\n",
              "      <th>tmdbId</th>\n",
              "    </tr>\n",
              "  </thead>\n",
              "  <tbody>\n",
              "    <tr>\n",
              "      <th>0</th>\n",
              "      <td>1</td>\n",
              "      <td>114709</td>\n",
              "      <td>862.0</td>\n",
              "    </tr>\n",
              "    <tr>\n",
              "      <th>1</th>\n",
              "      <td>2</td>\n",
              "      <td>113497</td>\n",
              "      <td>8844.0</td>\n",
              "    </tr>\n",
              "    <tr>\n",
              "      <th>2</th>\n",
              "      <td>3</td>\n",
              "      <td>113228</td>\n",
              "      <td>15602.0</td>\n",
              "    </tr>\n",
              "    <tr>\n",
              "      <th>3</th>\n",
              "      <td>4</td>\n",
              "      <td>114885</td>\n",
              "      <td>31357.0</td>\n",
              "    </tr>\n",
              "    <tr>\n",
              "      <th>4</th>\n",
              "      <td>5</td>\n",
              "      <td>113041</td>\n",
              "      <td>11862.0</td>\n",
              "    </tr>\n",
              "  </tbody>\n",
              "</table>\n",
              "</div>"
            ],
            "text/plain": [
              "   movieId  imdbId   tmdbId\n",
              "0        1  114709    862.0\n",
              "1        2  113497   8844.0\n",
              "2        3  113228  15602.0\n",
              "3        4  114885  31357.0\n",
              "4        5  113041  11862.0"
            ]
          },
          "execution_count": 36,
          "metadata": {},
          "output_type": "execute_result"
        }
      ],
      "source": [
        "link_df = pd.read_csv(\"ml-20m/ml-20m/links.csv\")\n",
        "link_df.head()"
      ]
    },
    {
      "cell_type": "code",
      "execution_count": 37,
      "id": "f79e6645",
      "metadata": {
        "colab": {
          "base_uri": "https://localhost:8080/"
        },
        "id": "f79e6645",
        "outputId": "588cba1a-0f0f-4729-bebe-92deffa94b2f"
      },
      "outputs": [
        {
          "data": {
            "text/plain": [
              "(27278, 3)"
            ]
          },
          "execution_count": 37,
          "metadata": {},
          "output_type": "execute_result"
        }
      ],
      "source": [
        "link_df.shape"
      ]
    },
    {
      "cell_type": "code",
      "execution_count": 38,
      "id": "83f14617",
      "metadata": {
        "colab": {
          "base_uri": "https://localhost:8080/"
        },
        "id": "83f14617",
        "outputId": "739db8ee-d12e-4f17-adbb-d74604848534"
      },
      "outputs": [
        {
          "data": {
            "text/plain": [
              "movieId      0\n",
              "imdbId       0\n",
              "tmdbId     252\n",
              "dtype: int64"
            ]
          },
          "execution_count": 38,
          "metadata": {},
          "output_type": "execute_result"
        }
      ],
      "source": [
        "link_df.isnull().sum()"
      ]
    },
    {
      "cell_type": "code",
      "execution_count": 39,
      "id": "ee307398",
      "metadata": {
        "colab": {
          "base_uri": "https://localhost:8080/"
        },
        "id": "ee307398",
        "outputId": "129f2e7d-338a-41d1-8e8b-aa14d43c2997"
      },
      "outputs": [
        {
          "name": "stdout",
          "output_type": "stream",
          "text": [
            "<class 'pandas.core.frame.DataFrame'>\n",
            "RangeIndex: 27278 entries, 0 to 27277\n",
            "Data columns (total 3 columns):\n",
            " #   Column   Non-Null Count  Dtype  \n",
            "---  ------   --------------  -----  \n",
            " 0   movieId  27278 non-null  int64  \n",
            " 1   imdbId   27278 non-null  int64  \n",
            " 2   tmdbId   27026 non-null  float64\n",
            "dtypes: float64(1), int64(2)\n",
            "memory usage: 639.5 KB\n"
          ]
        }
      ],
      "source": [
        "link_df.info()"
      ]
    },
    {
      "cell_type": "code",
      "execution_count": 40,
      "id": "b4ed400c",
      "metadata": {
        "colab": {
          "base_uri": "https://localhost:8080/",
          "height": 300
        },
        "id": "b4ed400c",
        "outputId": "c3aa95eb-7bc4-47c2-d328-0b88729c4383"
      },
      "outputs": [
        {
          "data": {
            "text/html": [
              "<div>\n",
              "<style scoped>\n",
              "    .dataframe tbody tr th:only-of-type {\n",
              "        vertical-align: middle;\n",
              "    }\n",
              "\n",
              "    .dataframe tbody tr th {\n",
              "        vertical-align: top;\n",
              "    }\n",
              "\n",
              "    .dataframe thead th {\n",
              "        text-align: right;\n",
              "    }\n",
              "</style>\n",
              "<table border=\"1\" class=\"dataframe\">\n",
              "  <thead>\n",
              "    <tr style=\"text-align: right;\">\n",
              "      <th></th>\n",
              "      <th>movieId</th>\n",
              "      <th>imdbId</th>\n",
              "      <th>tmdbId</th>\n",
              "    </tr>\n",
              "  </thead>\n",
              "  <tbody>\n",
              "    <tr>\n",
              "      <th>count</th>\n",
              "      <td>27278.000000</td>\n",
              "      <td>2.727800e+04</td>\n",
              "      <td>27026.000000</td>\n",
              "    </tr>\n",
              "    <tr>\n",
              "      <th>mean</th>\n",
              "      <td>59855.480570</td>\n",
              "      <td>5.781860e+05</td>\n",
              "      <td>63846.683083</td>\n",
              "    </tr>\n",
              "    <tr>\n",
              "      <th>std</th>\n",
              "      <td>44429.314697</td>\n",
              "      <td>7.804707e+05</td>\n",
              "      <td>69862.134497</td>\n",
              "    </tr>\n",
              "    <tr>\n",
              "      <th>min</th>\n",
              "      <td>1.000000</td>\n",
              "      <td>5.000000e+00</td>\n",
              "      <td>2.000000</td>\n",
              "    </tr>\n",
              "    <tr>\n",
              "      <th>25%</th>\n",
              "      <td>6931.250000</td>\n",
              "      <td>7.741725e+04</td>\n",
              "      <td>15936.500000</td>\n",
              "    </tr>\n",
              "    <tr>\n",
              "      <th>50%</th>\n",
              "      <td>68068.000000</td>\n",
              "      <td>1.524350e+05</td>\n",
              "      <td>39468.500000</td>\n",
              "    </tr>\n",
              "    <tr>\n",
              "      <th>75%</th>\n",
              "      <td>100293.250000</td>\n",
              "      <td>9.062715e+05</td>\n",
              "      <td>82504.000000</td>\n",
              "    </tr>\n",
              "    <tr>\n",
              "      <th>max</th>\n",
              "      <td>131262.000000</td>\n",
              "      <td>4.530184e+06</td>\n",
              "      <td>421510.000000</td>\n",
              "    </tr>\n",
              "  </tbody>\n",
              "</table>\n",
              "</div>"
            ],
            "text/plain": [
              "             movieId        imdbId         tmdbId\n",
              "count   27278.000000  2.727800e+04   27026.000000\n",
              "mean    59855.480570  5.781860e+05   63846.683083\n",
              "std     44429.314697  7.804707e+05   69862.134497\n",
              "min         1.000000  5.000000e+00       2.000000\n",
              "25%      6931.250000  7.741725e+04   15936.500000\n",
              "50%     68068.000000  1.524350e+05   39468.500000\n",
              "75%    100293.250000  9.062715e+05   82504.000000\n",
              "max    131262.000000  4.530184e+06  421510.000000"
            ]
          },
          "execution_count": 40,
          "metadata": {},
          "output_type": "execute_result"
        }
      ],
      "source": [
        "link_df.describe()"
      ]
    },
    {
      "cell_type": "code",
      "execution_count": 41,
      "id": "21a39f61",
      "metadata": {
        "colab": {
          "base_uri": "https://localhost:8080/",
          "height": 206
        },
        "id": "21a39f61",
        "outputId": "88eee502-0e8a-4f4c-da2f-d219fea21315"
      },
      "outputs": [
        {
          "data": {
            "text/html": [
              "<div>\n",
              "<style scoped>\n",
              "    .dataframe tbody tr th:only-of-type {\n",
              "        vertical-align: middle;\n",
              "    }\n",
              "\n",
              "    .dataframe tbody tr th {\n",
              "        vertical-align: top;\n",
              "    }\n",
              "\n",
              "    .dataframe thead th {\n",
              "        text-align: right;\n",
              "    }\n",
              "</style>\n",
              "<table border=\"1\" class=\"dataframe\">\n",
              "  <thead>\n",
              "    <tr style=\"text-align: right;\">\n",
              "      <th></th>\n",
              "      <th>movieId</th>\n",
              "      <th>tagId</th>\n",
              "      <th>relevance</th>\n",
              "    </tr>\n",
              "  </thead>\n",
              "  <tbody>\n",
              "    <tr>\n",
              "      <th>0</th>\n",
              "      <td>1</td>\n",
              "      <td>1</td>\n",
              "      <td>0.02500</td>\n",
              "    </tr>\n",
              "    <tr>\n",
              "      <th>1</th>\n",
              "      <td>1</td>\n",
              "      <td>2</td>\n",
              "      <td>0.02500</td>\n",
              "    </tr>\n",
              "    <tr>\n",
              "      <th>2</th>\n",
              "      <td>1</td>\n",
              "      <td>3</td>\n",
              "      <td>0.05775</td>\n",
              "    </tr>\n",
              "    <tr>\n",
              "      <th>3</th>\n",
              "      <td>1</td>\n",
              "      <td>4</td>\n",
              "      <td>0.09675</td>\n",
              "    </tr>\n",
              "    <tr>\n",
              "      <th>4</th>\n",
              "      <td>1</td>\n",
              "      <td>5</td>\n",
              "      <td>0.14675</td>\n",
              "    </tr>\n",
              "  </tbody>\n",
              "</table>\n",
              "</div>"
            ],
            "text/plain": [
              "   movieId  tagId  relevance\n",
              "0        1      1    0.02500\n",
              "1        1      2    0.02500\n",
              "2        1      3    0.05775\n",
              "3        1      4    0.09675\n",
              "4        1      5    0.14675"
            ]
          },
          "execution_count": 41,
          "metadata": {},
          "output_type": "execute_result"
        }
      ],
      "source": [
        "genome_scores_df = pd.read_csv(\"ml-20m/ml-20m/genome-scores.csv\")\n",
        "genome_scores_df.head()"
      ]
    },
    {
      "cell_type": "code",
      "execution_count": 42,
      "id": "f3b2c847",
      "metadata": {
        "colab": {
          "base_uri": "https://localhost:8080/"
        },
        "id": "f3b2c847",
        "outputId": "6a8285a9-2deb-498f-f748-8f1a5970ba0c"
      },
      "outputs": [
        {
          "data": {
            "text/plain": [
              "(11709768, 3)"
            ]
          },
          "execution_count": 42,
          "metadata": {},
          "output_type": "execute_result"
        }
      ],
      "source": [
        "genome_scores_df.shape"
      ]
    },
    {
      "cell_type": "code",
      "execution_count": 43,
      "id": "86059753",
      "metadata": {
        "colab": {
          "base_uri": "https://localhost:8080/"
        },
        "id": "86059753",
        "outputId": "cad4435d-3668-41e9-ef4e-c195572f2ada"
      },
      "outputs": [
        {
          "data": {
            "text/plain": [
              "movieId      0\n",
              "tagId        0\n",
              "relevance    0\n",
              "dtype: int64"
            ]
          },
          "execution_count": 43,
          "metadata": {},
          "output_type": "execute_result"
        }
      ],
      "source": [
        "genome_scores_df.isnull().sum()"
      ]
    },
    {
      "cell_type": "code",
      "execution_count": 44,
      "id": "3dd9de99",
      "metadata": {
        "id": "3dd9de99"
      },
      "outputs": [],
      "source": [
        "genome_scores_df.rename(columns={'tagId':'genome_tag_Id'}, inplace=True)"
      ]
    },
    {
      "cell_type": "code",
      "execution_count": 45,
      "id": "8c14ecda",
      "metadata": {
        "colab": {
          "base_uri": "https://localhost:8080/"
        },
        "id": "8c14ecda",
        "outputId": "6f4fc766-03ed-4311-b372-f419fa41ad3f"
      },
      "outputs": [
        {
          "name": "stdout",
          "output_type": "stream",
          "text": [
            "<class 'pandas.core.frame.DataFrame'>\n",
            "RangeIndex: 11709768 entries, 0 to 11709767\n",
            "Data columns (total 3 columns):\n",
            " #   Column         Dtype  \n",
            "---  ------         -----  \n",
            " 0   movieId        int64  \n",
            " 1   genome_tag_Id  int64  \n",
            " 2   relevance      float64\n",
            "dtypes: float64(1), int64(2)\n",
            "memory usage: 268.0 MB\n"
          ]
        }
      ],
      "source": [
        "genome_scores_df.info()"
      ]
    },
    {
      "cell_type": "code",
      "execution_count": 46,
      "id": "c79ce3ac",
      "metadata": {
        "colab": {
          "base_uri": "https://localhost:8080/",
          "height": 300
        },
        "id": "c79ce3ac",
        "outputId": "e42132a9-3954-423b-d316-e4c3a096c1ee"
      },
      "outputs": [
        {
          "data": {
            "text/html": [
              "<div>\n",
              "<style scoped>\n",
              "    .dataframe tbody tr th:only-of-type {\n",
              "        vertical-align: middle;\n",
              "    }\n",
              "\n",
              "    .dataframe tbody tr th {\n",
              "        vertical-align: top;\n",
              "    }\n",
              "\n",
              "    .dataframe thead th {\n",
              "        text-align: right;\n",
              "    }\n",
              "</style>\n",
              "<table border=\"1\" class=\"dataframe\">\n",
              "  <thead>\n",
              "    <tr style=\"text-align: right;\">\n",
              "      <th></th>\n",
              "      <th>movieId</th>\n",
              "      <th>genome_tag_Id</th>\n",
              "      <th>relevance</th>\n",
              "    </tr>\n",
              "  </thead>\n",
              "  <tbody>\n",
              "    <tr>\n",
              "      <th>count</th>\n",
              "      <td>11709768.00</td>\n",
              "      <td>11709768.00</td>\n",
              "      <td>11709768.00</td>\n",
              "    </tr>\n",
              "    <tr>\n",
              "      <th>mean</th>\n",
              "      <td>25842.97</td>\n",
              "      <td>564.50</td>\n",
              "      <td>0.12</td>\n",
              "    </tr>\n",
              "    <tr>\n",
              "      <th>std</th>\n",
              "      <td>34676.15</td>\n",
              "      <td>325.63</td>\n",
              "      <td>0.15</td>\n",
              "    </tr>\n",
              "    <tr>\n",
              "      <th>min</th>\n",
              "      <td>1.00</td>\n",
              "      <td>1.00</td>\n",
              "      <td>0.00</td>\n",
              "    </tr>\n",
              "    <tr>\n",
              "      <th>25%</th>\n",
              "      <td>2926.00</td>\n",
              "      <td>282.75</td>\n",
              "      <td>0.02</td>\n",
              "    </tr>\n",
              "    <tr>\n",
              "      <th>50%</th>\n",
              "      <td>6017.00</td>\n",
              "      <td>564.50</td>\n",
              "      <td>0.06</td>\n",
              "    </tr>\n",
              "    <tr>\n",
              "      <th>75%</th>\n",
              "      <td>46062.00</td>\n",
              "      <td>846.25</td>\n",
              "      <td>0.14</td>\n",
              "    </tr>\n",
              "    <tr>\n",
              "      <th>max</th>\n",
              "      <td>131170.00</td>\n",
              "      <td>1128.00</td>\n",
              "      <td>1.00</td>\n",
              "    </tr>\n",
              "  </tbody>\n",
              "</table>\n",
              "</div>"
            ],
            "text/plain": [
              "           movieId  genome_tag_Id    relevance\n",
              "count  11709768.00    11709768.00  11709768.00\n",
              "mean      25842.97         564.50         0.12\n",
              "std       34676.15         325.63         0.15\n",
              "min           1.00           1.00         0.00\n",
              "25%        2926.00         282.75         0.02\n",
              "50%        6017.00         564.50         0.06\n",
              "75%       46062.00         846.25         0.14\n",
              "max      131170.00        1128.00         1.00"
            ]
          },
          "execution_count": 46,
          "metadata": {},
          "output_type": "execute_result"
        }
      ],
      "source": [
        "genome_scores_df.describe().round(2)"
      ]
    },
    {
      "cell_type": "code",
      "execution_count": 47,
      "id": "3304bafc",
      "metadata": {
        "colab": {
          "base_uri": "https://localhost:8080/",
          "height": 424
        },
        "id": "3304bafc",
        "outputId": "ddd107c2-1975-4851-9a83-9073d1559efa"
      },
      "outputs": [
        {
          "data": {
            "text/html": [
              "<div>\n",
              "<style scoped>\n",
              "    .dataframe tbody tr th:only-of-type {\n",
              "        vertical-align: middle;\n",
              "    }\n",
              "\n",
              "    .dataframe tbody tr th {\n",
              "        vertical-align: top;\n",
              "    }\n",
              "\n",
              "    .dataframe thead th {\n",
              "        text-align: right;\n",
              "    }\n",
              "</style>\n",
              "<table border=\"1\" class=\"dataframe\">\n",
              "  <thead>\n",
              "    <tr style=\"text-align: right;\">\n",
              "      <th></th>\n",
              "      <th>tagId</th>\n",
              "      <th>tag</th>\n",
              "    </tr>\n",
              "  </thead>\n",
              "  <tbody>\n",
              "    <tr>\n",
              "      <th>0</th>\n",
              "      <td>1</td>\n",
              "      <td>007</td>\n",
              "    </tr>\n",
              "    <tr>\n",
              "      <th>1</th>\n",
              "      <td>2</td>\n",
              "      <td>007 (series)</td>\n",
              "    </tr>\n",
              "    <tr>\n",
              "      <th>2</th>\n",
              "      <td>3</td>\n",
              "      <td>18th century</td>\n",
              "    </tr>\n",
              "    <tr>\n",
              "      <th>3</th>\n",
              "      <td>4</td>\n",
              "      <td>1920s</td>\n",
              "    </tr>\n",
              "    <tr>\n",
              "      <th>4</th>\n",
              "      <td>5</td>\n",
              "      <td>1930s</td>\n",
              "    </tr>\n",
              "    <tr>\n",
              "      <th>...</th>\n",
              "      <td>...</td>\n",
              "      <td>...</td>\n",
              "    </tr>\n",
              "    <tr>\n",
              "      <th>1123</th>\n",
              "      <td>1124</td>\n",
              "      <td>writing</td>\n",
              "    </tr>\n",
              "    <tr>\n",
              "      <th>1124</th>\n",
              "      <td>1125</td>\n",
              "      <td>wuxia</td>\n",
              "    </tr>\n",
              "    <tr>\n",
              "      <th>1125</th>\n",
              "      <td>1126</td>\n",
              "      <td>wwii</td>\n",
              "    </tr>\n",
              "    <tr>\n",
              "      <th>1126</th>\n",
              "      <td>1127</td>\n",
              "      <td>zombie</td>\n",
              "    </tr>\n",
              "    <tr>\n",
              "      <th>1127</th>\n",
              "      <td>1128</td>\n",
              "      <td>zombies</td>\n",
              "    </tr>\n",
              "  </tbody>\n",
              "</table>\n",
              "<p>1128 rows × 2 columns</p>\n",
              "</div>"
            ],
            "text/plain": [
              "      tagId           tag\n",
              "0         1           007\n",
              "1         2  007 (series)\n",
              "2         3  18th century\n",
              "3         4         1920s\n",
              "4         5         1930s\n",
              "...     ...           ...\n",
              "1123   1124       writing\n",
              "1124   1125         wuxia\n",
              "1125   1126          wwii\n",
              "1126   1127        zombie\n",
              "1127   1128       zombies\n",
              "\n",
              "[1128 rows x 2 columns]"
            ]
          },
          "execution_count": 47,
          "metadata": {},
          "output_type": "execute_result"
        }
      ],
      "source": [
        "genome_tags_df = pd.read_csv(\"ml-20m/ml-20m/genome-tags.csv\")\n",
        "genome_tags_df"
      ]
    },
    {
      "cell_type": "code",
      "execution_count": 48,
      "id": "e5e05739",
      "metadata": {
        "colab": {
          "base_uri": "https://localhost:8080/"
        },
        "id": "e5e05739",
        "outputId": "904ef197-845f-463b-a200-06f77e882141"
      },
      "outputs": [
        {
          "data": {
            "text/plain": [
              "(1128, 2)"
            ]
          },
          "execution_count": 48,
          "metadata": {},
          "output_type": "execute_result"
        }
      ],
      "source": [
        "genome_tags_df.shape"
      ]
    },
    {
      "cell_type": "code",
      "execution_count": 49,
      "id": "55bdfc77",
      "metadata": {
        "id": "55bdfc77"
      },
      "outputs": [],
      "source": [
        "genome_tags_df.rename(columns={'tag':'genome_tag'}, inplace=True)\n",
        "\n",
        "genome_tags_df.rename(columns={'tagId':'genome_tag_Id'}, inplace=True)"
      ]
    },
    {
      "cell_type": "code",
      "execution_count": 50,
      "id": "9f032d7f",
      "metadata": {
        "colab": {
          "base_uri": "https://localhost:8080/"
        },
        "id": "9f032d7f",
        "outputId": "c4bb5bbc-5f17-4a67-86e0-18a8d44e0865"
      },
      "outputs": [
        {
          "data": {
            "text/plain": [
              "genome_tag_Id    0\n",
              "genome_tag       0\n",
              "dtype: int64"
            ]
          },
          "execution_count": 50,
          "metadata": {},
          "output_type": "execute_result"
        }
      ],
      "source": [
        "genome_tags_df.isnull().sum()"
      ]
    },
    {
      "cell_type": "code",
      "execution_count": 51,
      "id": "d03b6a73",
      "metadata": {
        "colab": {
          "base_uri": "https://localhost:8080/"
        },
        "id": "d03b6a73",
        "outputId": "5879658b-8537-4411-e9ed-aba83f678266"
      },
      "outputs": [
        {
          "name": "stdout",
          "output_type": "stream",
          "text": [
            "<class 'pandas.core.frame.DataFrame'>\n",
            "RangeIndex: 1128 entries, 0 to 1127\n",
            "Data columns (total 2 columns):\n",
            " #   Column         Non-Null Count  Dtype \n",
            "---  ------         --------------  ----- \n",
            " 0   genome_tag_Id  1128 non-null   int64 \n",
            " 1   genome_tag     1128 non-null   object\n",
            "dtypes: int64(1), object(1)\n",
            "memory usage: 17.8+ KB\n"
          ]
        }
      ],
      "source": [
        "genome_tags_df.info()"
      ]
    },
    {
      "cell_type": "code",
      "execution_count": 52,
      "id": "abefffac",
      "metadata": {
        "colab": {
          "base_uri": "https://localhost:8080/"
        },
        "id": "abefffac",
        "outputId": "3ce137c2-7964-49e3-a9c8-c3e49c384479"
      },
      "outputs": [
        {
          "name": "stdout",
          "output_type": "stream",
          "text": [
            "   userId  movieId       user_tag                     timestamp  year  month\n",
            "0      18     4141    mark waters 1970-01-01 00:00:01.240597180  1970      1\n",
            "1      65      208      dark hero 1970-01-01 00:00:01.368150078  1970      1\n",
            "2      65      353      dark hero 1970-01-01 00:00:01.368150079  1970      1\n",
            "3      65      521  noir thriller 1970-01-01 00:00:01.368149983  1970      1\n",
            "4      65      592      dark hero 1970-01-01 00:00:01.368150078  1970      1\n",
            "   userId  movieId  rating                     timestamp  year  month\n",
            "0       1        2     3.5 1970-01-01 00:00:01.112486027  1970      1\n",
            "1       1       29     3.5 1970-01-01 00:00:01.112484676  1970      1\n",
            "2       1       32     3.5 1970-01-01 00:00:01.112484819  1970      1\n",
            "3       1       47     3.5 1970-01-01 00:00:01.112484727  1970      1\n",
            "4       1       50     3.5 1970-01-01 00:00:01.112484580  1970      1\n",
            "   movieId                               title  \\\n",
            "0        1                    Toy Story (1995)   \n",
            "1        2                      Jumanji (1995)   \n",
            "2        3             Grumpier Old Men (1995)   \n",
            "3        4            Waiting to Exhale (1995)   \n",
            "4        5  Father of the Bride Part II (1995)   \n",
            "\n",
            "                                              genres  \n",
            "0  [Adventure, Animation, Children, Comedy, Fantasy]  \n",
            "1                     [Adventure, Children, Fantasy]  \n",
            "2                                  [Comedy, Romance]  \n",
            "3                           [Comedy, Drama, Romance]  \n",
            "4                                           [Comedy]  \n",
            "   movieId  imdbId   tmdbId\n",
            "0        1  114709    862.0\n",
            "1        2  113497   8844.0\n",
            "2        3  113228  15602.0\n",
            "3        4  114885  31357.0\n",
            "4        5  113041  11862.0\n",
            "   movieId  genome_tag_Id  relevance\n",
            "0        1              1    0.02500\n",
            "1        1              2    0.02500\n",
            "2        1              3    0.05775\n",
            "3        1              4    0.09675\n",
            "4        1              5    0.14675\n",
            "   genome_tag_Id    genome_tag\n",
            "0              1           007\n",
            "1              2  007 (series)\n",
            "2              3  18th century\n",
            "3              4         1920s\n",
            "4              5         1930s\n"
          ]
        }
      ],
      "source": [
        "print(tag_df.head())\n",
        "print(rating_df.head())\n",
        "print(movie_df.head())\n",
        "print(link_df.head())\n",
        "print(genome_scores_df.head())\n",
        "print(genome_tags_df.head())"
      ]
    },
    {
      "cell_type": "code",
      "execution_count": 53,
      "id": "a48a62f5",
      "metadata": {
        "id": "a48a62f5"
      },
      "outputs": [],
      "source": [
        "\n",
        "data = pd.merge(movie_df,rating_df, how='inner', on=\"movieId\")"
      ]
    },
    {
      "cell_type": "code",
      "execution_count": 54,
      "id": "769f973a",
      "metadata": {
        "colab": {
          "base_uri": "https://localhost:8080/",
          "height": 424
        },
        "id": "769f973a",
        "outputId": "31bb66c0-f7ff-4d50-8dab-aa977312c9dc"
      },
      "outputs": [
        {
          "data": {
            "text/html": [
              "<div>\n",
              "<style scoped>\n",
              "    .dataframe tbody tr th:only-of-type {\n",
              "        vertical-align: middle;\n",
              "    }\n",
              "\n",
              "    .dataframe tbody tr th {\n",
              "        vertical-align: top;\n",
              "    }\n",
              "\n",
              "    .dataframe thead th {\n",
              "        text-align: right;\n",
              "    }\n",
              "</style>\n",
              "<table border=\"1\" class=\"dataframe\">\n",
              "  <thead>\n",
              "    <tr style=\"text-align: right;\">\n",
              "      <th></th>\n",
              "      <th>movieId</th>\n",
              "      <th>title</th>\n",
              "      <th>genres</th>\n",
              "      <th>userId</th>\n",
              "      <th>rating</th>\n",
              "      <th>timestamp</th>\n",
              "      <th>year</th>\n",
              "      <th>month</th>\n",
              "    </tr>\n",
              "  </thead>\n",
              "  <tbody>\n",
              "    <tr>\n",
              "      <th>0</th>\n",
              "      <td>1</td>\n",
              "      <td>Toy Story (1995)</td>\n",
              "      <td>[Adventure, Animation, Children, Comedy, Fantasy]</td>\n",
              "      <td>3</td>\n",
              "      <td>4.0</td>\n",
              "      <td>1970-01-01 00:00:00.944919407</td>\n",
              "      <td>1970</td>\n",
              "      <td>1</td>\n",
              "    </tr>\n",
              "    <tr>\n",
              "      <th>1</th>\n",
              "      <td>1</td>\n",
              "      <td>Toy Story (1995)</td>\n",
              "      <td>[Adventure, Animation, Children, Comedy, Fantasy]</td>\n",
              "      <td>6</td>\n",
              "      <td>5.0</td>\n",
              "      <td>1970-01-01 00:00:00.858275452</td>\n",
              "      <td>1970</td>\n",
              "      <td>1</td>\n",
              "    </tr>\n",
              "    <tr>\n",
              "      <th>2</th>\n",
              "      <td>1</td>\n",
              "      <td>Toy Story (1995)</td>\n",
              "      <td>[Adventure, Animation, Children, Comedy, Fantasy]</td>\n",
              "      <td>8</td>\n",
              "      <td>4.0</td>\n",
              "      <td>1970-01-01 00:00:00.833981871</td>\n",
              "      <td>1970</td>\n",
              "      <td>1</td>\n",
              "    </tr>\n",
              "    <tr>\n",
              "      <th>3</th>\n",
              "      <td>1</td>\n",
              "      <td>Toy Story (1995)</td>\n",
              "      <td>[Adventure, Animation, Children, Comedy, Fantasy]</td>\n",
              "      <td>10</td>\n",
              "      <td>4.0</td>\n",
              "      <td>1970-01-01 00:00:00.943497887</td>\n",
              "      <td>1970</td>\n",
              "      <td>1</td>\n",
              "    </tr>\n",
              "    <tr>\n",
              "      <th>4</th>\n",
              "      <td>1</td>\n",
              "      <td>Toy Story (1995)</td>\n",
              "      <td>[Adventure, Animation, Children, Comedy, Fantasy]</td>\n",
              "      <td>11</td>\n",
              "      <td>4.5</td>\n",
              "      <td>1970-01-01 00:00:01.230858821</td>\n",
              "      <td>1970</td>\n",
              "      <td>1</td>\n",
              "    </tr>\n",
              "    <tr>\n",
              "      <th>...</th>\n",
              "      <td>...</td>\n",
              "      <td>...</td>\n",
              "      <td>...</td>\n",
              "      <td>...</td>\n",
              "      <td>...</td>\n",
              "      <td>...</td>\n",
              "      <td>...</td>\n",
              "      <td>...</td>\n",
              "    </tr>\n",
              "    <tr>\n",
              "      <th>20000258</th>\n",
              "      <td>131254</td>\n",
              "      <td>Kein Bund für's Leben (2007)</td>\n",
              "      <td>[Comedy]</td>\n",
              "      <td>79570</td>\n",
              "      <td>4.0</td>\n",
              "      <td>1970-01-01 00:00:01.427743979</td>\n",
              "      <td>1970</td>\n",
              "      <td>1</td>\n",
              "    </tr>\n",
              "    <tr>\n",
              "      <th>20000259</th>\n",
              "      <td>131256</td>\n",
              "      <td>Feuer, Eis &amp; Dosenbier (2002)</td>\n",
              "      <td>[Comedy]</td>\n",
              "      <td>79570</td>\n",
              "      <td>4.0</td>\n",
              "      <td>1970-01-01 00:00:01.427744888</td>\n",
              "      <td>1970</td>\n",
              "      <td>1</td>\n",
              "    </tr>\n",
              "    <tr>\n",
              "      <th>20000260</th>\n",
              "      <td>131258</td>\n",
              "      <td>The Pirates (2014)</td>\n",
              "      <td>[Adventure]</td>\n",
              "      <td>28906</td>\n",
              "      <td>2.5</td>\n",
              "      <td>1970-01-01 00:00:01.427745392</td>\n",
              "      <td>1970</td>\n",
              "      <td>1</td>\n",
              "    </tr>\n",
              "    <tr>\n",
              "      <th>20000261</th>\n",
              "      <td>131260</td>\n",
              "      <td>Rentun Ruusu (2001)</td>\n",
              "      <td>[(no genres listed)]</td>\n",
              "      <td>65409</td>\n",
              "      <td>3.0</td>\n",
              "      <td>1970-01-01 00:00:01.427745466</td>\n",
              "      <td>1970</td>\n",
              "      <td>1</td>\n",
              "    </tr>\n",
              "    <tr>\n",
              "      <th>20000262</th>\n",
              "      <td>131262</td>\n",
              "      <td>Innocence (2014)</td>\n",
              "      <td>[Adventure, Fantasy, Horror]</td>\n",
              "      <td>133047</td>\n",
              "      <td>4.0</td>\n",
              "      <td>1970-01-01 00:00:01.427747966</td>\n",
              "      <td>1970</td>\n",
              "      <td>1</td>\n",
              "    </tr>\n",
              "  </tbody>\n",
              "</table>\n",
              "<p>20000263 rows × 8 columns</p>\n",
              "</div>"
            ],
            "text/plain": [
              "          movieId                          title  \\\n",
              "0               1               Toy Story (1995)   \n",
              "1               1               Toy Story (1995)   \n",
              "2               1               Toy Story (1995)   \n",
              "3               1               Toy Story (1995)   \n",
              "4               1               Toy Story (1995)   \n",
              "...           ...                            ...   \n",
              "20000258   131254   Kein Bund für's Leben (2007)   \n",
              "20000259   131256  Feuer, Eis & Dosenbier (2002)   \n",
              "20000260   131258             The Pirates (2014)   \n",
              "20000261   131260            Rentun Ruusu (2001)   \n",
              "20000262   131262               Innocence (2014)   \n",
              "\n",
              "                                                     genres  userId  rating  \\\n",
              "0         [Adventure, Animation, Children, Comedy, Fantasy]       3     4.0   \n",
              "1         [Adventure, Animation, Children, Comedy, Fantasy]       6     5.0   \n",
              "2         [Adventure, Animation, Children, Comedy, Fantasy]       8     4.0   \n",
              "3         [Adventure, Animation, Children, Comedy, Fantasy]      10     4.0   \n",
              "4         [Adventure, Animation, Children, Comedy, Fantasy]      11     4.5   \n",
              "...                                                     ...     ...     ...   \n",
              "20000258                                           [Comedy]   79570     4.0   \n",
              "20000259                                           [Comedy]   79570     4.0   \n",
              "20000260                                        [Adventure]   28906     2.5   \n",
              "20000261                               [(no genres listed)]   65409     3.0   \n",
              "20000262                       [Adventure, Fantasy, Horror]  133047     4.0   \n",
              "\n",
              "                             timestamp  year  month  \n",
              "0        1970-01-01 00:00:00.944919407  1970      1  \n",
              "1        1970-01-01 00:00:00.858275452  1970      1  \n",
              "2        1970-01-01 00:00:00.833981871  1970      1  \n",
              "3        1970-01-01 00:00:00.943497887  1970      1  \n",
              "4        1970-01-01 00:00:01.230858821  1970      1  \n",
              "...                                ...   ...    ...  \n",
              "20000258 1970-01-01 00:00:01.427743979  1970      1  \n",
              "20000259 1970-01-01 00:00:01.427744888  1970      1  \n",
              "20000260 1970-01-01 00:00:01.427745392  1970      1  \n",
              "20000261 1970-01-01 00:00:01.427745466  1970      1  \n",
              "20000262 1970-01-01 00:00:01.427747966  1970      1  \n",
              "\n",
              "[20000263 rows x 8 columns]"
            ]
          },
          "execution_count": 54,
          "metadata": {},
          "output_type": "execute_result"
        }
      ],
      "source": [
        "data"
      ]
    },
    {
      "cell_type": "code",
      "execution_count": 55,
      "id": "544ce8b7",
      "metadata": {
        "colab": {
          "base_uri": "https://localhost:8080/"
        },
        "id": "544ce8b7",
        "outputId": "1d5e7b64-4070-419f-ae52-452648b30289"
      },
      "outputs": [
        {
          "name": "stdout",
          "output_type": "stream",
          "text": [
            "*************** Dataset Shape ***************\n",
            "No. of Rows: 20000263 \n",
            "No. of Columns: 8\n",
            "*************** Dataset Information ***************\n",
            "<class 'pandas.core.frame.DataFrame'>\n",
            "RangeIndex: 20000263 entries, 0 to 20000262\n",
            "Data columns (total 8 columns):\n",
            " #   Column     Dtype         \n",
            "---  ------     -----         \n",
            " 0   movieId    int64         \n",
            " 1   title      object        \n",
            " 2   genres     object        \n",
            " 3   userId     int64         \n",
            " 4   rating     float64       \n",
            " 5   timestamp  datetime64[ns]\n",
            " 6   year       int32         \n",
            " 7   month      int32         \n",
            "dtypes: datetime64[ns](1), float64(1), int32(2), int64(2), object(2)\n",
            "memory usage: 1.0+ GB\n",
            "None\n",
            "*************** Types of Columns ***************\n",
            "movieId               int64\n",
            "title                object\n",
            "genres               object\n",
            "userId                int64\n",
            "rating              float64\n",
            "timestamp    datetime64[ns]\n",
            "year                  int32\n",
            "month                 int32\n",
            "dtype: object\n",
            "*************** First 5 Rows ***************\n",
            "   movieId             title  \\\n",
            "0        1  Toy Story (1995)   \n",
            "1        1  Toy Story (1995)   \n",
            "2        1  Toy Story (1995)   \n",
            "3        1  Toy Story (1995)   \n",
            "4        1  Toy Story (1995)   \n",
            "\n",
            "                                              genres  userId  rating  \\\n",
            "0  [Adventure, Animation, Children, Comedy, Fantasy]       3     4.0   \n",
            "1  [Adventure, Animation, Children, Comedy, Fantasy]       6     5.0   \n",
            "2  [Adventure, Animation, Children, Comedy, Fantasy]       8     4.0   \n",
            "3  [Adventure, Animation, Children, Comedy, Fantasy]      10     4.0   \n",
            "4  [Adventure, Animation, Children, Comedy, Fantasy]      11     4.5   \n",
            "\n",
            "                      timestamp  year  month  \n",
            "0 1970-01-01 00:00:00.944919407  1970      1  \n",
            "1 1970-01-01 00:00:00.858275452  1970      1  \n",
            "2 1970-01-01 00:00:00.833981871  1970      1  \n",
            "3 1970-01-01 00:00:00.943497887  1970      1  \n",
            "4 1970-01-01 00:00:01.230858821  1970      1  \n",
            "*************** Last 5 Rows ***************\n",
            "          movieId                          title  \\\n",
            "20000258   131254   Kein Bund für's Leben (2007)   \n",
            "20000259   131256  Feuer, Eis & Dosenbier (2002)   \n",
            "20000260   131258             The Pirates (2014)   \n",
            "20000261   131260            Rentun Ruusu (2001)   \n",
            "20000262   131262               Innocence (2014)   \n",
            "\n",
            "                                genres  userId  rating  \\\n",
            "20000258                      [Comedy]   79570     4.0   \n",
            "20000259                      [Comedy]   79570     4.0   \n",
            "20000260                   [Adventure]   28906     2.5   \n",
            "20000261          [(no genres listed)]   65409     3.0   \n",
            "20000262  [Adventure, Fantasy, Horror]  133047     4.0   \n",
            "\n",
            "                             timestamp  year  month  \n",
            "20000258 1970-01-01 00:00:01.427743979  1970      1  \n",
            "20000259 1970-01-01 00:00:01.427744888  1970      1  \n",
            "20000260 1970-01-01 00:00:01.427745392  1970      1  \n",
            "20000261 1970-01-01 00:00:01.427745466  1970      1  \n",
            "20000262 1970-01-01 00:00:01.427747966  1970      1  \n",
            "*************** Summary Statistics of The Dataset ***************\n",
            "                count                           mean  \\\n",
            "movieId    20000263.0                     9041.56733   \n",
            "userId     20000263.0                   69045.872583   \n",
            "rating     20000263.0                       3.525529   \n",
            "timestamp    20000263  1970-01-01 00:00:01.100917921   \n",
            "year       20000263.0                         1970.0   \n",
            "month      20000263.0                            1.0   \n",
            "\n",
            "                                     min                            10%  \\\n",
            "movieId                              1.0                          296.0   \n",
            "userId                               1.0                        13568.0   \n",
            "rating                               0.5                            2.0   \n",
            "timestamp  1970-01-01 00:00:00.789652004  1970-01-01 00:00:00.862788343   \n",
            "year                              1970.0                         1970.0   \n",
            "month                                1.0                            1.0   \n",
            "\n",
            "                                     25%                            50%  \\\n",
            "movieId                            902.0                         2167.0   \n",
            "userId                           34395.0                        69141.0   \n",
            "rating                               3.0                            3.5   \n",
            "timestamp  1970-01-01 00:00:00.966797745  1970-01-01 00:00:01.103555886   \n",
            "year                              1970.0                         1970.0   \n",
            "month                                1.0                            1.0   \n",
            "\n",
            "                                     70%                            80%  \\\n",
            "movieId                           3950.0                         5872.0   \n",
            "userId                           96703.0                       110725.0   \n",
            "rating                               4.0                            4.5   \n",
            "timestamp  1970-01-01 00:00:01.197076832  1970-01-01 00:00:01.256024021   \n",
            "year                              1970.0                         1970.0   \n",
            "month                                1.0                            1.0   \n",
            "\n",
            "                                     90%                            95%  \\\n",
            "movieId                          33794.0                        59103.0   \n",
            "userId                          124479.0                       131467.0   \n",
            "rating                               5.0                            5.0   \n",
            "timestamp  1970-01-01 00:00:01.333154948  1970-01-01 00:00:01.378683016   \n",
            "year                              1970.0                         1970.0   \n",
            "month                                1.0                            1.0   \n",
            "\n",
            "                                     99%                            max  \\\n",
            "movieId                          94070.0                       131262.0   \n",
            "userId                          137061.0                       138493.0   \n",
            "rating                               5.0                            5.0   \n",
            "timestamp  1970-01-01 00:00:01.422148509  1970-01-01 00:00:01.427784002   \n",
            "year                              1970.0                         1970.0   \n",
            "month                                1.0                            1.0   \n",
            "\n",
            "                    std  \n",
            "movieId    19789.477445  \n",
            "userId     40038.626653  \n",
            "rating         1.051989  \n",
            "timestamp           NaN  \n",
            "year                0.0  \n",
            "month               0.0  \n",
            "*************** Dataset Missing Values Analysis ***************\n",
            "Empty DataFrame\n",
            "Columns: [Total Missing Values, Ratio]\n",
            "Index: []\n"
          ]
        }
      ],
      "source": [
        "\n",
        "def missing_values_analysis(data):\n",
        "    na_columns = [col for col in data.columns if data[col].isnull().sum() > 0]\n",
        "    n_miss = data[na_columns].isnull().sum().sort_values(ascending=True)\n",
        "    ratio = (data[na_columns].isnull().sum() / data.shape[0] * 100).sort_values(ascending=True)\n",
        "    missing_df = pd.concat([n_miss, np.round(ratio, 2)], axis=1, keys=['Total Missing Values', 'Ratio'])\n",
        "    missing_df = pd.DataFrame(missing_df)\n",
        "    return missing_df\n",
        "\n",
        "def check_df(data, row_num=5, col_num=10):\n",
        "    print(\"*************** Dataset Shape ***************\")\n",
        "    print(\"No. of Rows:\", data.shape[0], \"\\nNo. of Columns:\", data.shape[1])\n",
        "    print(\"*************** Dataset Information ***************\")\n",
        "    print(data.info())\n",
        "    print(\"*************** Types of Columns ***************\")\n",
        "    print(data.dtypes)\n",
        "    print(f\"*************** First {row_num} Rows ***************\")\n",
        "    print(data.iloc[:row_num,:col_num])\n",
        "    print(f\"*************** Last {row_num} Rows ***************\")\n",
        "    print(data.iloc[-row_num:,:col_num])\n",
        "    print(\"*************** Summary Statistics of The Dataset ***************\")\n",
        "    print(data.describe([0.10, 0.25, 0.50, 0.70, 0.80, 0.90, 0.95, 0.99]).T)\n",
        "    print(\"*************** Dataset Missing Values Analysis ***************\")\n",
        "    print(missing_values_analysis(data))\n",
        "\n",
        "\n",
        "check_df(data)\n"
      ]
    },
    {
      "cell_type": "code",
      "execution_count": 56,
      "id": "dd3214d6",
      "metadata": {
        "colab": {
          "base_uri": "https://localhost:8080/",
          "height": 424
        },
        "id": "dd3214d6",
        "outputId": "05010533-425b-4913-e3c3-e668551abdee"
      },
      "outputs": [
        {
          "data": {
            "text/html": [
              "<div>\n",
              "<style scoped>\n",
              "    .dataframe tbody tr th:only-of-type {\n",
              "        vertical-align: middle;\n",
              "    }\n",
              "\n",
              "    .dataframe tbody tr th {\n",
              "        vertical-align: top;\n",
              "    }\n",
              "\n",
              "    .dataframe thead th {\n",
              "        text-align: right;\n",
              "    }\n",
              "</style>\n",
              "<table border=\"1\" class=\"dataframe\">\n",
              "  <thead>\n",
              "    <tr style=\"text-align: right;\">\n",
              "      <th></th>\n",
              "      <th>movieId</th>\n",
              "      <th>movie_title</th>\n",
              "      <th>release_year</th>\n",
              "      <th>genres</th>\n",
              "      <th>userId</th>\n",
              "      <th>rating</th>\n",
              "      <th>timestamp</th>\n",
              "      <th>year</th>\n",
              "      <th>month</th>\n",
              "    </tr>\n",
              "  </thead>\n",
              "  <tbody>\n",
              "    <tr>\n",
              "      <th>0</th>\n",
              "      <td>1</td>\n",
              "      <td>Toy Story (1995)</td>\n",
              "      <td>1995-01-01</td>\n",
              "      <td>NaN</td>\n",
              "      <td>3</td>\n",
              "      <td>4.0</td>\n",
              "      <td>1970-01-01 00:00:00.944919407</td>\n",
              "      <td>1970</td>\n",
              "      <td>1</td>\n",
              "    </tr>\n",
              "    <tr>\n",
              "      <th>1</th>\n",
              "      <td>1</td>\n",
              "      <td>Toy Story (1995)</td>\n",
              "      <td>1995-01-01</td>\n",
              "      <td>NaN</td>\n",
              "      <td>6</td>\n",
              "      <td>5.0</td>\n",
              "      <td>1970-01-01 00:00:00.858275452</td>\n",
              "      <td>1970</td>\n",
              "      <td>1</td>\n",
              "    </tr>\n",
              "    <tr>\n",
              "      <th>2</th>\n",
              "      <td>1</td>\n",
              "      <td>Toy Story (1995)</td>\n",
              "      <td>1995-01-01</td>\n",
              "      <td>NaN</td>\n",
              "      <td>8</td>\n",
              "      <td>4.0</td>\n",
              "      <td>1970-01-01 00:00:00.833981871</td>\n",
              "      <td>1970</td>\n",
              "      <td>1</td>\n",
              "    </tr>\n",
              "    <tr>\n",
              "      <th>3</th>\n",
              "      <td>1</td>\n",
              "      <td>Toy Story (1995)</td>\n",
              "      <td>1995-01-01</td>\n",
              "      <td>NaN</td>\n",
              "      <td>10</td>\n",
              "      <td>4.0</td>\n",
              "      <td>1970-01-01 00:00:00.943497887</td>\n",
              "      <td>1970</td>\n",
              "      <td>1</td>\n",
              "    </tr>\n",
              "    <tr>\n",
              "      <th>4</th>\n",
              "      <td>1</td>\n",
              "      <td>Toy Story (1995)</td>\n",
              "      <td>1995-01-01</td>\n",
              "      <td>NaN</td>\n",
              "      <td>11</td>\n",
              "      <td>4.5</td>\n",
              "      <td>1970-01-01 00:00:01.230858821</td>\n",
              "      <td>1970</td>\n",
              "      <td>1</td>\n",
              "    </tr>\n",
              "    <tr>\n",
              "      <th>...</th>\n",
              "      <td>...</td>\n",
              "      <td>...</td>\n",
              "      <td>...</td>\n",
              "      <td>...</td>\n",
              "      <td>...</td>\n",
              "      <td>...</td>\n",
              "      <td>...</td>\n",
              "      <td>...</td>\n",
              "      <td>...</td>\n",
              "    </tr>\n",
              "    <tr>\n",
              "      <th>20000258</th>\n",
              "      <td>131254</td>\n",
              "      <td>Kein Bund für's Leben (2007)</td>\n",
              "      <td>2007-01-01</td>\n",
              "      <td>NaN</td>\n",
              "      <td>79570</td>\n",
              "      <td>4.0</td>\n",
              "      <td>1970-01-01 00:00:01.427743979</td>\n",
              "      <td>1970</td>\n",
              "      <td>1</td>\n",
              "    </tr>\n",
              "    <tr>\n",
              "      <th>20000259</th>\n",
              "      <td>131256</td>\n",
              "      <td>Feuer, Eis &amp; Dosenbier (2002)</td>\n",
              "      <td>2002-01-01</td>\n",
              "      <td>NaN</td>\n",
              "      <td>79570</td>\n",
              "      <td>4.0</td>\n",
              "      <td>1970-01-01 00:00:01.427744888</td>\n",
              "      <td>1970</td>\n",
              "      <td>1</td>\n",
              "    </tr>\n",
              "    <tr>\n",
              "      <th>20000260</th>\n",
              "      <td>131258</td>\n",
              "      <td>The Pirates (2014)</td>\n",
              "      <td>2014-01-01</td>\n",
              "      <td>NaN</td>\n",
              "      <td>28906</td>\n",
              "      <td>2.5</td>\n",
              "      <td>1970-01-01 00:00:01.427745392</td>\n",
              "      <td>1970</td>\n",
              "      <td>1</td>\n",
              "    </tr>\n",
              "    <tr>\n",
              "      <th>20000261</th>\n",
              "      <td>131260</td>\n",
              "      <td>Rentun Ruusu (2001)</td>\n",
              "      <td>2001-01-01</td>\n",
              "      <td>NaN</td>\n",
              "      <td>65409</td>\n",
              "      <td>3.0</td>\n",
              "      <td>1970-01-01 00:00:01.427745466</td>\n",
              "      <td>1970</td>\n",
              "      <td>1</td>\n",
              "    </tr>\n",
              "    <tr>\n",
              "      <th>20000262</th>\n",
              "      <td>131262</td>\n",
              "      <td>Innocence (2014)</td>\n",
              "      <td>2014-01-01</td>\n",
              "      <td>NaN</td>\n",
              "      <td>133047</td>\n",
              "      <td>4.0</td>\n",
              "      <td>1970-01-01 00:00:01.427747966</td>\n",
              "      <td>1970</td>\n",
              "      <td>1</td>\n",
              "    </tr>\n",
              "  </tbody>\n",
              "</table>\n",
              "<p>20000263 rows × 9 columns</p>\n",
              "</div>"
            ],
            "text/plain": [
              "          movieId                    movie_title release_year  genres  userId  \\\n",
              "0               1               Toy Story (1995)   1995-01-01     NaN       3   \n",
              "1               1               Toy Story (1995)   1995-01-01     NaN       6   \n",
              "2               1               Toy Story (1995)   1995-01-01     NaN       8   \n",
              "3               1               Toy Story (1995)   1995-01-01     NaN      10   \n",
              "4               1               Toy Story (1995)   1995-01-01     NaN      11   \n",
              "...           ...                            ...          ...     ...     ...   \n",
              "20000258   131254   Kein Bund für's Leben (2007)   2007-01-01     NaN   79570   \n",
              "20000259   131256  Feuer, Eis & Dosenbier (2002)   2002-01-01     NaN   79570   \n",
              "20000260   131258             The Pirates (2014)   2014-01-01     NaN   28906   \n",
              "20000261   131260            Rentun Ruusu (2001)   2001-01-01     NaN   65409   \n",
              "20000262   131262               Innocence (2014)   2014-01-01     NaN  133047   \n",
              "\n",
              "          rating                     timestamp  year  month  \n",
              "0            4.0 1970-01-01 00:00:00.944919407  1970      1  \n",
              "1            5.0 1970-01-01 00:00:00.858275452  1970      1  \n",
              "2            4.0 1970-01-01 00:00:00.833981871  1970      1  \n",
              "3            4.0 1970-01-01 00:00:00.943497887  1970      1  \n",
              "4            4.5 1970-01-01 00:00:01.230858821  1970      1  \n",
              "...          ...                           ...   ...    ...  \n",
              "20000258     4.0 1970-01-01 00:00:01.427743979  1970      1  \n",
              "20000259     4.0 1970-01-01 00:00:01.427744888  1970      1  \n",
              "20000260     2.5 1970-01-01 00:00:01.427745392  1970      1  \n",
              "20000261     3.0 1970-01-01 00:00:01.427745466  1970      1  \n",
              "20000262     4.0 1970-01-01 00:00:01.427747966  1970      1  \n",
              "\n",
              "[20000263 rows x 9 columns]"
            ]
          },
          "execution_count": 56,
          "metadata": {},
          "output_type": "execute_result"
        }
      ],
      "source": [
        "eda_data = pd.merge(movie_df_new,rating_df, how='inner', on=\"movieId\")\n",
        "eda_data"
      ]
    },
    {
      "cell_type": "code",
      "execution_count": 57,
      "id": "e9dadb71",
      "metadata": {
        "colab": {
          "base_uri": "https://localhost:8080/"
        },
        "id": "e9dadb71",
        "outputId": "1698826f-f852-4e54-edd8-cce9ce5daa7b"
      },
      "outputs": [
        {
          "data": {
            "text/plain": [
              "movieId                0\n",
              "movie_title            0\n",
              "release_year         405\n",
              "genres          20000263\n",
              "userId                 0\n",
              "rating                 0\n",
              "timestamp              0\n",
              "year                   0\n",
              "month                  0\n",
              "dtype: int64"
            ]
          },
          "execution_count": 57,
          "metadata": {},
          "output_type": "execute_result"
        }
      ],
      "source": [
        "eda_data.isnull().sum()"
      ]
    },
    {
      "cell_type": "code",
      "execution_count": 58,
      "id": "ceefa094",
      "metadata": {
        "colab": {
          "base_uri": "https://localhost:8080/"
        },
        "id": "ceefa094",
        "outputId": "5db39c13-1827-4f58-ce75-47fff589caf2"
      },
      "outputs": [
        {
          "data": {
            "text/plain": [
              "movie_title\n",
              "Prom Queen: The Marc Hall Story (2004)                        5.0\n",
              "The Garden of Sinners - Chapter 5: Paradox Paradigm (2008)    5.0\n",
              "Death of a Nation - The Timor Conspiracy (1994)               5.0\n",
              "Poison (1951)                                                 5.0\n",
              "Sun Kissed (2012)                                             5.0\n",
              "                                                             ... \n",
              "The Robot vs. the Aztec Mummy (1958)                          0.5\n",
              "Mega Piranha (2010)                                           0.5\n",
              "The Radio Pirates (2007)                                      0.5\n",
              "First Texan, The (1956)                                       0.5\n",
              "Allan Quatermain and the Temple of Skulls (2008)              0.5\n",
              "Name: rating, Length: 26729, dtype: float64"
            ]
          },
          "execution_count": 58,
          "metadata": {},
          "output_type": "execute_result"
        }
      ],
      "source": [
        "\n",
        "top_rated_movies = eda_data.groupby(['movie_title'])['rating'].mean().sort_values(ascending=False)\n",
        "top_rated_movies\n"
      ]
    },
    {
      "cell_type": "code",
      "execution_count": 59,
      "id": "45707582",
      "metadata": {
        "colab": {
          "base_uri": "https://localhost:8080/",
          "height": 564
        },
        "id": "45707582",
        "outputId": "62bc6408-da1d-4019-9021-61d0f9c40900"
      },
      "outputs": [
        {
          "name": "stderr",
          "output_type": "stream",
          "text": [
            "C:\\Users\\harsh\\AppData\\Local\\Packages\\PythonSoftwareFoundation.Python.3.10_qbz5n2kfra8p0\\LocalCache\\local-packages\\Python310\\site-packages\\seaborn\\_oldcore.py:1119: FutureWarning: use_inf_as_na option is deprecated and will be removed in a future version. Convert inf values to NaN before operating instead.\n",
            "  with pd.option_context('mode.use_inf_as_na', True):\n",
            "C:\\Users\\harsh\\AppData\\Local\\Packages\\PythonSoftwareFoundation.Python.3.10_qbz5n2kfra8p0\\LocalCache\\local-packages\\Python310\\site-packages\\seaborn\\_oldcore.py:1119: FutureWarning: use_inf_as_na option is deprecated and will be removed in a future version. Convert inf values to NaN before operating instead.\n",
            "  with pd.option_context('mode.use_inf_as_na', True):\n"
          ]
        },
        {
          "data": {
            "image/png": "[encoded data removed]",
            "text/plain": [
              "<Figure size 1200x600 with 1 Axes>"
            ]
          },
          "metadata": {},
          "output_type": "display_data"
        }
      ],
      "source": [
        "plt.figure(figsize=(12, 6))\n",
        "sns.lineplot(x='release_year', y='rating', data=eda_data.groupby('release_year')['rating'].mean().reset_index())\n",
        "plt.title('Average Ratings Over the Years')\n",
        "plt.xlabel(\"Release Year\")\n",
        "plt.ylabel(\"Average Rating\")\n",
        "plt.show()"
      ]
    },
    {
      "cell_type": "code",
      "execution_count": 60,
      "id": "84255295",
      "metadata": {
        "colab": {
          "base_uri": "https://localhost:8080/",
          "height": 651
        },
        "id": "84255295",
        "outputId": "1723d163-31c2-4a85-926b-39762621af29"
      },
      "outputs": [
        {
          "name": "stderr",
          "output_type": "stream",
          "text": [
            "C:\\Users\\harsh\\AppData\\Local\\Temp\\ipykernel_26328\\3253941469.py:2: FutureWarning: \n",
            "\n",
            "The `ci` parameter is deprecated. Use `errorbar=None` for the same effect.\n",
            "\n",
            "  sns.barplot(x='month', y='rating', data=eda_data, ci=None, palette='coolwarm')\n"
          ]
        },
        {
          "data": {
            "image/png": "[encoded data removed]",
            "text/plain": [
              "<Figure size 1200x600 with 1 Axes>"
            ]
          },
          "metadata": {},
          "output_type": "display_data"
        }
      ],
      "source": [
        "plt.figure(figsize=(12, 6))\n",
        "sns.barplot(x='month', y='rating', data=eda_data, ci=None, palette='coolwarm')\n",
        "plt.title('Average Ratings by Month (Bar Plot)')\n",
        "plt.xlabel(\"Month\")\n",
        "plt.ylabel(\"Average Rating\")\n",
        "plt.show()"
      ]
    },
    {
      "cell_type": "markdown",
      "id": "d6f0f438",
      "metadata": {
        "id": "d6f0f438"
      },
      "source": []
    },
    {
      "cell_type": "code",
      "execution_count": 61,
      "id": "920dcdde",
      "metadata": {
        "colab": {
          "base_uri": "https://localhost:8080/",
          "height": 424
        },
        "id": "920dcdde",
        "outputId": "e7fb7fb3-a95f-4ed6-ef0f-7513bfe85afd"
      },
      "outputs": [
        {
          "data": {
            "text/html": [
              "<div>\n",
              "<style scoped>\n",
              "    .dataframe tbody tr th:only-of-type {\n",
              "        vertical-align: middle;\n",
              "    }\n",
              "\n",
              "    .dataframe tbody tr th {\n",
              "        vertical-align: top;\n",
              "    }\n",
              "\n",
              "    .dataframe thead th {\n",
              "        text-align: right;\n",
              "    }\n",
              "</style>\n",
              "<table border=\"1\" class=\"dataframe\">\n",
              "  <thead>\n",
              "    <tr style=\"text-align: right;\">\n",
              "      <th></th>\n",
              "      <th>title</th>\n",
              "      <th>num_ratings</th>\n",
              "    </tr>\n",
              "  </thead>\n",
              "  <tbody>\n",
              "    <tr>\n",
              "      <th>0</th>\n",
              "      <td>\"Great Performances\" Cats (1998)</td>\n",
              "      <td>155</td>\n",
              "    </tr>\n",
              "    <tr>\n",
              "      <th>1</th>\n",
              "      <td>#chicagoGirl: The Social Network Takes on a Di...</td>\n",
              "      <td>3</td>\n",
              "    </tr>\n",
              "    <tr>\n",
              "      <th>2</th>\n",
              "      <td>$ (Dollars) (1971)</td>\n",
              "      <td>24</td>\n",
              "    </tr>\n",
              "    <tr>\n",
              "      <th>3</th>\n",
              "      <td>$5 a Day (2008)</td>\n",
              "      <td>39</td>\n",
              "    </tr>\n",
              "    <tr>\n",
              "      <th>4</th>\n",
              "      <td>$9.99 (2008)</td>\n",
              "      <td>55</td>\n",
              "    </tr>\n",
              "    <tr>\n",
              "      <th>...</th>\n",
              "      <td>...</td>\n",
              "      <td>...</td>\n",
              "    </tr>\n",
              "    <tr>\n",
              "      <th>26724</th>\n",
              "      <td>À propos de Nice (1930)</td>\n",
              "      <td>4</td>\n",
              "    </tr>\n",
              "    <tr>\n",
              "      <th>26725</th>\n",
              "      <td>Árido Movie (2005)</td>\n",
              "      <td>1</td>\n",
              "    </tr>\n",
              "    <tr>\n",
              "      <th>26726</th>\n",
              "      <td>Åsa-Nisse - Wälkom to Knohult (2011)</td>\n",
              "      <td>2</td>\n",
              "    </tr>\n",
              "    <tr>\n",
              "      <th>26727</th>\n",
              "      <td>Üvegtigris (2001)</td>\n",
              "      <td>1</td>\n",
              "    </tr>\n",
              "    <tr>\n",
              "      <th>26728</th>\n",
              "      <td>貞子3D (2012)</td>\n",
              "      <td>1</td>\n",
              "    </tr>\n",
              "  </tbody>\n",
              "</table>\n",
              "<p>26729 rows × 2 columns</p>\n",
              "</div>"
            ],
            "text/plain": [
              "                                                   title  num_ratings\n",
              "0                       \"Great Performances\" Cats (1998)          155\n",
              "1      #chicagoGirl: The Social Network Takes on a Di...            3\n",
              "2                                     $ (Dollars) (1971)           24\n",
              "3                                        $5 a Day (2008)           39\n",
              "4                                           $9.99 (2008)           55\n",
              "...                                                  ...          ...\n",
              "26724                            À propos de Nice (1930)            4\n",
              "26725                                 Árido Movie (2005)            1\n",
              "26726               Åsa-Nisse - Wälkom to Knohult (2011)            2\n",
              "26727                                  Üvegtigris (2001)            1\n",
              "26728                                        貞子3D (2012)            1\n",
              "\n",
              "[26729 rows x 2 columns]"
            ]
          },
          "execution_count": 61,
          "metadata": {},
          "output_type": "execute_result"
        }
      ],
      "source": [
        "num_rating_df = data.groupby('title').count()['rating'].reset_index()\n",
        "num_rating_df.rename(columns={'rating':'num_ratings'},inplace=True)\n",
        "num_rating_df"
      ]
    },
    {
      "cell_type": "code",
      "execution_count": null,
      "id": "6170c8eb",
      "metadata": {
        "id": "6170c8eb"
      },
      "outputs": [],
      "source": []
    },
    {
      "cell_type": "code",
      "execution_count": 62,
      "id": "838d5cec",
      "metadata": {
        "colab": {
          "base_uri": "https://localhost:8080/",
          "height": 424
        },
        "id": "838d5cec",
        "outputId": "12b3b6e5-0806-46d5-9fd6-2782ca5139c3"
      },
      "outputs": [
        {
          "data": {
            "text/html": [
              "<div>\n",
              "<style scoped>\n",
              "    .dataframe tbody tr th:only-of-type {\n",
              "        vertical-align: middle;\n",
              "    }\n",
              "\n",
              "    .dataframe tbody tr th {\n",
              "        vertical-align: top;\n",
              "    }\n",
              "\n",
              "    .dataframe thead th {\n",
              "        text-align: right;\n",
              "    }\n",
              "</style>\n",
              "<table border=\"1\" class=\"dataframe\">\n",
              "  <thead>\n",
              "    <tr style=\"text-align: right;\">\n",
              "      <th></th>\n",
              "      <th>title</th>\n",
              "      <th>avg_ratings</th>\n",
              "    </tr>\n",
              "  </thead>\n",
              "  <tbody>\n",
              "    <tr>\n",
              "      <th>0</th>\n",
              "      <td>\"Great Performances\" Cats (1998)</td>\n",
              "      <td>2.748387</td>\n",
              "    </tr>\n",
              "    <tr>\n",
              "      <th>1</th>\n",
              "      <td>#chicagoGirl: The Social Network Takes on a Di...</td>\n",
              "      <td>3.666667</td>\n",
              "    </tr>\n",
              "    <tr>\n",
              "      <th>2</th>\n",
              "      <td>$ (Dollars) (1971)</td>\n",
              "      <td>2.833333</td>\n",
              "    </tr>\n",
              "    <tr>\n",
              "      <th>3</th>\n",
              "      <td>$5 a Day (2008)</td>\n",
              "      <td>2.871795</td>\n",
              "    </tr>\n",
              "    <tr>\n",
              "      <th>4</th>\n",
              "      <td>$9.99 (2008)</td>\n",
              "      <td>3.009091</td>\n",
              "    </tr>\n",
              "    <tr>\n",
              "      <th>...</th>\n",
              "      <td>...</td>\n",
              "      <td>...</td>\n",
              "    </tr>\n",
              "    <tr>\n",
              "      <th>26724</th>\n",
              "      <td>À propos de Nice (1930)</td>\n",
              "      <td>3.125000</td>\n",
              "    </tr>\n",
              "    <tr>\n",
              "      <th>26725</th>\n",
              "      <td>Árido Movie (2005)</td>\n",
              "      <td>2.000000</td>\n",
              "    </tr>\n",
              "    <tr>\n",
              "      <th>26726</th>\n",
              "      <td>Åsa-Nisse - Wälkom to Knohult (2011)</td>\n",
              "      <td>1.500000</td>\n",
              "    </tr>\n",
              "    <tr>\n",
              "      <th>26727</th>\n",
              "      <td>Üvegtigris (2001)</td>\n",
              "      <td>3.000000</td>\n",
              "    </tr>\n",
              "    <tr>\n",
              "      <th>26728</th>\n",
              "      <td>貞子3D (2012)</td>\n",
              "      <td>1.500000</td>\n",
              "    </tr>\n",
              "  </tbody>\n",
              "</table>\n",
              "<p>26729 rows × 2 columns</p>\n",
              "</div>"
            ],
            "text/plain": [
              "                                                   title  avg_ratings\n",
              "0                       \"Great Performances\" Cats (1998)     2.748387\n",
              "1      #chicagoGirl: The Social Network Takes on a Di...     3.666667\n",
              "2                                     $ (Dollars) (1971)     2.833333\n",
              "3                                        $5 a Day (2008)     2.871795\n",
              "4                                           $9.99 (2008)     3.009091\n",
              "...                                                  ...          ...\n",
              "26724                            À propos de Nice (1930)     3.125000\n",
              "26725                                 Árido Movie (2005)     2.000000\n",
              "26726               Åsa-Nisse - Wälkom to Knohult (2011)     1.500000\n",
              "26727                                  Üvegtigris (2001)     3.000000\n",
              "26728                                        貞子3D (2012)     1.500000\n",
              "\n",
              "[26729 rows x 2 columns]"
            ]
          },
          "execution_count": 62,
          "metadata": {},
          "output_type": "execute_result"
        }
      ],
      "source": [
        "avg_rating_df = data.groupby('title')['rating'].mean().reset_index()\n",
        "avg_rating_df.rename(columns={'rating':'avg_ratings'}, inplace=True)\n",
        "avg_rating_df"
      ]
    },
    {
      "cell_type": "code",
      "execution_count": 63,
      "id": "ae558263",
      "metadata": {
        "colab": {
          "base_uri": "https://localhost:8080/",
          "height": 424
        },
        "id": "ae558263",
        "outputId": "6acd6d73-b5bf-4ae3-fc1a-fc9f94b421ba"
      },
      "outputs": [
        {
          "data": {
            "text/html": [
              "<div>\n",
              "<style scoped>\n",
              "    .dataframe tbody tr th:only-of-type {\n",
              "        vertical-align: middle;\n",
              "    }\n",
              "\n",
              "    .dataframe tbody tr th {\n",
              "        vertical-align: top;\n",
              "    }\n",
              "\n",
              "    .dataframe thead th {\n",
              "        text-align: right;\n",
              "    }\n",
              "</style>\n",
              "<table border=\"1\" class=\"dataframe\">\n",
              "  <thead>\n",
              "    <tr style=\"text-align: right;\">\n",
              "      <th></th>\n",
              "      <th>title</th>\n",
              "      <th>avg_ratings</th>\n",
              "    </tr>\n",
              "  </thead>\n",
              "  <tbody>\n",
              "    <tr>\n",
              "      <th>0</th>\n",
              "      <td>\"Great Performances\" Cats (1998)</td>\n",
              "      <td>2.748387</td>\n",
              "    </tr>\n",
              "    <tr>\n",
              "      <th>1</th>\n",
              "      <td>#chicagoGirl: The Social Network Takes on a Di...</td>\n",
              "      <td>3.666667</td>\n",
              "    </tr>\n",
              "    <tr>\n",
              "      <th>2</th>\n",
              "      <td>$ (Dollars) (1971)</td>\n",
              "      <td>2.833333</td>\n",
              "    </tr>\n",
              "    <tr>\n",
              "      <th>3</th>\n",
              "      <td>$5 a Day (2008)</td>\n",
              "      <td>2.871795</td>\n",
              "    </tr>\n",
              "    <tr>\n",
              "      <th>4</th>\n",
              "      <td>$9.99 (2008)</td>\n",
              "      <td>3.009091</td>\n",
              "    </tr>\n",
              "    <tr>\n",
              "      <th>...</th>\n",
              "      <td>...</td>\n",
              "      <td>...</td>\n",
              "    </tr>\n",
              "    <tr>\n",
              "      <th>26724</th>\n",
              "      <td>À propos de Nice (1930)</td>\n",
              "      <td>3.125000</td>\n",
              "    </tr>\n",
              "    <tr>\n",
              "      <th>26725</th>\n",
              "      <td>Árido Movie (2005)</td>\n",
              "      <td>2.000000</td>\n",
              "    </tr>\n",
              "    <tr>\n",
              "      <th>26726</th>\n",
              "      <td>Åsa-Nisse - Wälkom to Knohult (2011)</td>\n",
              "      <td>1.500000</td>\n",
              "    </tr>\n",
              "    <tr>\n",
              "      <th>26727</th>\n",
              "      <td>Üvegtigris (2001)</td>\n",
              "      <td>3.000000</td>\n",
              "    </tr>\n",
              "    <tr>\n",
              "      <th>26728</th>\n",
              "      <td>貞子3D (2012)</td>\n",
              "      <td>1.500000</td>\n",
              "    </tr>\n",
              "  </tbody>\n",
              "</table>\n",
              "<p>26729 rows × 2 columns</p>\n",
              "</div>"
            ],
            "text/plain": [
              "                                                   title  avg_ratings\n",
              "0                       \"Great Performances\" Cats (1998)     2.748387\n",
              "1      #chicagoGirl: The Social Network Takes on a Di...     3.666667\n",
              "2                                     $ (Dollars) (1971)     2.833333\n",
              "3                                        $5 a Day (2008)     2.871795\n",
              "4                                           $9.99 (2008)     3.009091\n",
              "...                                                  ...          ...\n",
              "26724                            À propos de Nice (1930)     3.125000\n",
              "26725                                 Árido Movie (2005)     2.000000\n",
              "26726               Åsa-Nisse - Wälkom to Knohult (2011)     1.500000\n",
              "26727                                  Üvegtigris (2001)     3.000000\n",
              "26728                                        貞子3D (2012)     1.500000\n",
              "\n",
              "[26729 rows x 2 columns]"
            ]
          },
          "execution_count": 63,
          "metadata": {},
          "output_type": "execute_result"
        }
      ],
      "source": [
        "avg_rating_df = data.groupby('title')['rating'].mean().reset_index()\n",
        "avg_rating_df.rename(columns={'rating':'avg_ratings'}, inplace=True)\n",
        "avg_rating_df"
      ]
    },
    {
      "cell_type": "code",
      "execution_count": 64,
      "id": "3262f48d",
      "metadata": {
        "colab": {
          "base_uri": "https://localhost:8080/",
          "height": 424
        },
        "id": "3262f48d",
        "outputId": "b1d3ffd7-4670-4135-ddbd-997b51208a30"
      },
      "outputs": [
        {
          "data": {
            "text/html": [
              "<div>\n",
              "<style scoped>\n",
              "    .dataframe tbody tr th:only-of-type {\n",
              "        vertical-align: middle;\n",
              "    }\n",
              "\n",
              "    .dataframe tbody tr th {\n",
              "        vertical-align: top;\n",
              "    }\n",
              "\n",
              "    .dataframe thead th {\n",
              "        text-align: right;\n",
              "    }\n",
              "</style>\n",
              "<table border=\"1\" class=\"dataframe\">\n",
              "  <thead>\n",
              "    <tr style=\"text-align: right;\">\n",
              "      <th></th>\n",
              "      <th>title</th>\n",
              "      <th>num_ratings</th>\n",
              "      <th>avg_ratings</th>\n",
              "    </tr>\n",
              "  </thead>\n",
              "  <tbody>\n",
              "    <tr>\n",
              "      <th>0</th>\n",
              "      <td>\"Great Performances\" Cats (1998)</td>\n",
              "      <td>155</td>\n",
              "      <td>2.748387</td>\n",
              "    </tr>\n",
              "    <tr>\n",
              "      <th>1</th>\n",
              "      <td>#chicagoGirl: The Social Network Takes on a Di...</td>\n",
              "      <td>3</td>\n",
              "      <td>3.666667</td>\n",
              "    </tr>\n",
              "    <tr>\n",
              "      <th>2</th>\n",
              "      <td>$ (Dollars) (1971)</td>\n",
              "      <td>24</td>\n",
              "      <td>2.833333</td>\n",
              "    </tr>\n",
              "    <tr>\n",
              "      <th>3</th>\n",
              "      <td>$5 a Day (2008)</td>\n",
              "      <td>39</td>\n",
              "      <td>2.871795</td>\n",
              "    </tr>\n",
              "    <tr>\n",
              "      <th>4</th>\n",
              "      <td>$9.99 (2008)</td>\n",
              "      <td>55</td>\n",
              "      <td>3.009091</td>\n",
              "    </tr>\n",
              "    <tr>\n",
              "      <th>...</th>\n",
              "      <td>...</td>\n",
              "      <td>...</td>\n",
              "      <td>...</td>\n",
              "    </tr>\n",
              "    <tr>\n",
              "      <th>26724</th>\n",
              "      <td>À propos de Nice (1930)</td>\n",
              "      <td>4</td>\n",
              "      <td>3.125000</td>\n",
              "    </tr>\n",
              "    <tr>\n",
              "      <th>26725</th>\n",
              "      <td>Árido Movie (2005)</td>\n",
              "      <td>1</td>\n",
              "      <td>2.000000</td>\n",
              "    </tr>\n",
              "    <tr>\n",
              "      <th>26726</th>\n",
              "      <td>Åsa-Nisse - Wälkom to Knohult (2011)</td>\n",
              "      <td>2</td>\n",
              "      <td>1.500000</td>\n",
              "    </tr>\n",
              "    <tr>\n",
              "      <th>26727</th>\n",
              "      <td>Üvegtigris (2001)</td>\n",
              "      <td>1</td>\n",
              "      <td>3.000000</td>\n",
              "    </tr>\n",
              "    <tr>\n",
              "      <th>26728</th>\n",
              "      <td>貞子3D (2012)</td>\n",
              "      <td>1</td>\n",
              "      <td>1.500000</td>\n",
              "    </tr>\n",
              "  </tbody>\n",
              "</table>\n",
              "<p>26729 rows × 3 columns</p>\n",
              "</div>"
            ],
            "text/plain": [
              "                                                   title  num_ratings  \\\n",
              "0                       \"Great Performances\" Cats (1998)          155   \n",
              "1      #chicagoGirl: The Social Network Takes on a Di...            3   \n",
              "2                                     $ (Dollars) (1971)           24   \n",
              "3                                        $5 a Day (2008)           39   \n",
              "4                                           $9.99 (2008)           55   \n",
              "...                                                  ...          ...   \n",
              "26724                            À propos de Nice (1930)            4   \n",
              "26725                                 Árido Movie (2005)            1   \n",
              "26726               Åsa-Nisse - Wälkom to Knohult (2011)            2   \n",
              "26727                                  Üvegtigris (2001)            1   \n",
              "26728                                        貞子3D (2012)            1   \n",
              "\n",
              "       avg_ratings  \n",
              "0         2.748387  \n",
              "1         3.666667  \n",
              "2         2.833333  \n",
              "3         2.871795  \n",
              "4         3.009091  \n",
              "...            ...  \n",
              "26724     3.125000  \n",
              "26725     2.000000  \n",
              "26726     1.500000  \n",
              "26727     3.000000  \n",
              "26728     1.500000  \n",
              "\n",
              "[26729 rows x 3 columns]"
            ]
          },
          "execution_count": 64,
          "metadata": {},
          "output_type": "execute_result"
        }
      ],
      "source": [
        "popular_movies_df = num_rating_df.merge(avg_rating_df,on='title')\n",
        "popular_movies_df"
      ]
    },
    {
      "cell_type": "code",
      "execution_count": 65,
      "id": "b9766c4c",
      "metadata": {
        "colab": {
          "base_uri": "https://localhost:8080/",
          "height": 1000
        },
        "id": "b9766c4c",
        "outputId": "4f2af38d-791e-42dd-964b-e8b03f99fdfe"
      },
      "outputs": [
        {
          "data": {
            "text/html": [
              "<div>\n",
              "<style scoped>\n",
              "    .dataframe tbody tr th:only-of-type {\n",
              "        vertical-align: middle;\n",
              "    }\n",
              "\n",
              "    .dataframe tbody tr th {\n",
              "        vertical-align: top;\n",
              "    }\n",
              "\n",
              "    .dataframe thead th {\n",
              "        text-align: right;\n",
              "    }\n",
              "</style>\n",
              "<table border=\"1\" class=\"dataframe\">\n",
              "  <thead>\n",
              "    <tr style=\"text-align: right;\">\n",
              "      <th></th>\n",
              "      <th>title</th>\n",
              "      <th>num_ratings</th>\n",
              "      <th>avg_ratings</th>\n",
              "    </tr>\n",
              "  </thead>\n",
              "  <tbody>\n",
              "    <tr>\n",
              "      <th>20780</th>\n",
              "      <td>Shawshank Redemption, The (1994)</td>\n",
              "      <td>63366</td>\n",
              "      <td>4.446990</td>\n",
              "    </tr>\n",
              "    <tr>\n",
              "      <th>9587</th>\n",
              "      <td>Godfather, The (1972)</td>\n",
              "      <td>41355</td>\n",
              "      <td>4.364732</td>\n",
              "    </tr>\n",
              "    <tr>\n",
              "      <th>24968</th>\n",
              "      <td>Usual Suspects, The (1995)</td>\n",
              "      <td>47006</td>\n",
              "      <td>4.334372</td>\n",
              "    </tr>\n",
              "    <tr>\n",
              "      <th>20318</th>\n",
              "      <td>Schindler's List (1993)</td>\n",
              "      <td>50054</td>\n",
              "      <td>4.310175</td>\n",
              "    </tr>\n",
              "    <tr>\n",
              "      <th>9588</th>\n",
              "      <td>Godfather: Part II, The (1974)</td>\n",
              "      <td>27398</td>\n",
              "      <td>4.275641</td>\n",
              "    </tr>\n",
              "    <tr>\n",
              "      <th>20601</th>\n",
              "      <td>Seven Samurai (Shichinin no samurai) (1954)</td>\n",
              "      <td>11611</td>\n",
              "      <td>4.274180</td>\n",
              "    </tr>\n",
              "    <tr>\n",
              "      <th>19204</th>\n",
              "      <td>Rear Window (1954)</td>\n",
              "      <td>17449</td>\n",
              "      <td>4.271334</td>\n",
              "    </tr>\n",
              "    <tr>\n",
              "      <th>2073</th>\n",
              "      <td>Band of Brothers (2001)</td>\n",
              "      <td>4305</td>\n",
              "      <td>4.263182</td>\n",
              "    </tr>\n",
              "    <tr>\n",
              "      <th>4237</th>\n",
              "      <td>Casablanca (1942)</td>\n",
              "      <td>24349</td>\n",
              "      <td>4.258327</td>\n",
              "    </tr>\n",
              "    <tr>\n",
              "      <th>22421</th>\n",
              "      <td>Sunset Blvd. (a.k.a. Sunset Boulevard) (1950)</td>\n",
              "      <td>6525</td>\n",
              "      <td>4.256935</td>\n",
              "    </tr>\n",
              "    <tr>\n",
              "      <th>17323</th>\n",
              "      <td>One Flew Over the Cuckoo's Nest (1975)</td>\n",
              "      <td>29932</td>\n",
              "      <td>4.248079</td>\n",
              "    </tr>\n",
              "    <tr>\n",
              "      <th>6974</th>\n",
              "      <td>Dr. Strangelove or: How I Learned to Stop Worr...</td>\n",
              "      <td>23220</td>\n",
              "      <td>4.247287</td>\n",
              "    </tr>\n",
              "    <tr>\n",
              "      <th>23735</th>\n",
              "      <td>Third Man, The (1949)</td>\n",
              "      <td>6565</td>\n",
              "      <td>4.246002</td>\n",
              "    </tr>\n",
              "    <tr>\n",
              "      <th>4847</th>\n",
              "      <td>City of God (Cidade de Deus) (2002)</td>\n",
              "      <td>12937</td>\n",
              "      <td>4.235410</td>\n",
              "    </tr>\n",
              "    <tr>\n",
              "      <th>14075</th>\n",
              "      <td>Lives of Others, The (Das leben der Anderen) (...</td>\n",
              "      <td>5720</td>\n",
              "      <td>4.234790</td>\n",
              "    </tr>\n",
              "    <tr>\n",
              "      <th>16958</th>\n",
              "      <td>North by Northwest (1959)</td>\n",
              "      <td>15627</td>\n",
              "      <td>4.233538</td>\n",
              "    </tr>\n",
              "    <tr>\n",
              "      <th>17881</th>\n",
              "      <td>Paths of Glory (1957)</td>\n",
              "      <td>3568</td>\n",
              "      <td>4.232623</td>\n",
              "    </tr>\n",
              "    <tr>\n",
              "      <th>8251</th>\n",
              "      <td>Fight Club (1999)</td>\n",
              "      <td>40106</td>\n",
              "      <td>4.227123</td>\n",
              "    </tr>\n",
              "    <tr>\n",
              "      <th>6897</th>\n",
              "      <td>Double Indemnity (1944)</td>\n",
              "      <td>4909</td>\n",
              "      <td>4.224282</td>\n",
              "    </tr>\n",
              "    <tr>\n",
              "      <th>79</th>\n",
              "      <td>12 Angry Men (1957)</td>\n",
              "      <td>12934</td>\n",
              "      <td>4.224138</td>\n",
              "    </tr>\n",
              "    <tr>\n",
              "      <th>5381</th>\n",
              "      <td>Cosmos (1980)</td>\n",
              "      <td>936</td>\n",
              "      <td>4.220620</td>\n",
              "    </tr>\n",
              "    <tr>\n",
              "      <th>5914</th>\n",
              "      <td>Dark Knight, The (2008)</td>\n",
              "      <td>20438</td>\n",
              "      <td>4.220129</td>\n",
              "    </tr>\n",
              "    <tr>\n",
              "      <th>19073</th>\n",
              "      <td>Raiders of the Lost Ark (Indiana Jones and the...</td>\n",
              "      <td>43295</td>\n",
              "      <td>4.219009</td>\n",
              "    </tr>\n",
              "    <tr>\n",
              "      <th>26477</th>\n",
              "      <td>Yojimbo (1961)</td>\n",
              "      <td>3559</td>\n",
              "      <td>4.211717</td>\n",
              "    </tr>\n",
              "    <tr>\n",
              "      <th>2726</th>\n",
              "      <td>Big Sleep, The (1946)</td>\n",
              "      <td>5529</td>\n",
              "      <td>4.207361</td>\n",
              "    </tr>\n",
              "    <tr>\n",
              "      <th>920</th>\n",
              "      <td>All About Eve (1950)</td>\n",
              "      <td>4826</td>\n",
              "      <td>4.204103</td>\n",
              "    </tr>\n",
              "    <tr>\n",
              "      <th>21731</th>\n",
              "      <td>Spirited Away (Sen to Chihiro no kamikakushi) ...</td>\n",
              "      <td>13466</td>\n",
              "      <td>4.203810</td>\n",
              "    </tr>\n",
              "    <tr>\n",
              "      <th>4667</th>\n",
              "      <td>Chinatown (1974)</td>\n",
              "      <td>15310</td>\n",
              "      <td>4.199673</td>\n",
              "    </tr>\n",
              "    <tr>\n",
              "      <th>17019</th>\n",
              "      <td>Notorious (1946)</td>\n",
              "      <td>4932</td>\n",
              "      <td>4.197790</td>\n",
              "    </tr>\n",
              "    <tr>\n",
              "      <th>1088</th>\n",
              "      <td>Amelie (Fabuleux destin d'Amélie Poulain, Le) ...</td>\n",
              "      <td>24349</td>\n",
              "      <td>4.197072</td>\n",
              "    </tr>\n",
              "    <tr>\n",
              "      <th>14575</th>\n",
              "      <td>M (1931)</td>\n",
              "      <td>4232</td>\n",
              "      <td>4.193171</td>\n",
              "    </tr>\n",
              "    <tr>\n",
              "      <th>21872</th>\n",
              "      <td>Star Wars: Episode IV - A New Hope (1977)</td>\n",
              "      <td>54502</td>\n",
              "      <td>4.190672</td>\n",
              "    </tr>\n",
              "    <tr>\n",
              "      <th>24058</th>\n",
              "      <td>To Kill a Mockingbird (1962)</td>\n",
              "      <td>14769</td>\n",
              "      <td>4.188943</td>\n",
              "    </tr>\n",
              "    <tr>\n",
              "      <th>21873</th>\n",
              "      <td>Star Wars: Episode V - The Empire Strikes Back...</td>\n",
              "      <td>45313</td>\n",
              "      <td>4.188202</td>\n",
              "    </tr>\n",
              "    <tr>\n",
              "      <th>14798</th>\n",
              "      <td>Maltese Falcon, The (1941)</td>\n",
              "      <td>12144</td>\n",
              "      <td>4.187212</td>\n",
              "    </tr>\n",
              "    <tr>\n",
              "      <th>15187</th>\n",
              "      <td>Matrix, The (1999)</td>\n",
              "      <td>51334</td>\n",
              "      <td>4.187186</td>\n",
              "    </tr>\n",
              "    <tr>\n",
              "      <th>23713</th>\n",
              "      <td>Thin Man, The (1934)</td>\n",
              "      <td>3358</td>\n",
              "      <td>4.184187</td>\n",
              "    </tr>\n",
              "    <tr>\n",
              "      <th>9772</th>\n",
              "      <td>Goodfellas (1990)</td>\n",
              "      <td>26406</td>\n",
              "      <td>4.183633</td>\n",
              "    </tr>\n",
              "    <tr>\n",
              "      <th>24222</th>\n",
              "      <td>Touch of Evil (1958)</td>\n",
              "      <td>4718</td>\n",
              "      <td>4.183022</td>\n",
              "    </tr>\n",
              "    <tr>\n",
              "      <th>2904</th>\n",
              "      <td>Black Mirror (2011)</td>\n",
              "      <td>582</td>\n",
              "      <td>4.182990</td>\n",
              "    </tr>\n",
              "    <tr>\n",
              "      <th>25377</th>\n",
              "      <td>Wallace &amp; Gromit: The Wrong Trousers (1993)</td>\n",
              "      <td>15022</td>\n",
              "      <td>4.181068</td>\n",
              "    </tr>\n",
              "    <tr>\n",
              "      <th>15319</th>\n",
              "      <td>Memento (2000)</td>\n",
              "      <td>30443</td>\n",
              "      <td>4.178547</td>\n",
              "    </tr>\n",
              "    <tr>\n",
              "      <th>20995</th>\n",
              "      <td>Silence of the Lambs, The (1991)</td>\n",
              "      <td>63299</td>\n",
              "      <td>4.177057</td>\n",
              "    </tr>\n",
              "    <tr>\n",
              "      <th>18649</th>\n",
              "      <td>Princess Bride, The (1987)</td>\n",
              "      <td>32586</td>\n",
              "      <td>4.176732</td>\n",
              "    </tr>\n",
              "    <tr>\n",
              "      <th>19144</th>\n",
              "      <td>Rashomon (Rashômon) (1950)</td>\n",
              "      <td>3712</td>\n",
              "      <td>4.176724</td>\n",
              "    </tr>\n",
              "    <tr>\n",
              "      <th>13829</th>\n",
              "      <td>Life Is Beautiful (La Vita è bella) (1997)</td>\n",
              "      <td>18156</td>\n",
              "      <td>4.175837</td>\n",
              "    </tr>\n",
              "    <tr>\n",
              "      <th>18825</th>\n",
              "      <td>Pulp Fiction (1994)</td>\n",
              "      <td>67310</td>\n",
              "      <td>4.174231</td>\n",
              "    </tr>\n",
              "    <tr>\n",
              "      <th>15825</th>\n",
              "      <td>Monty Python and the Holy Grail (1975)</td>\n",
              "      <td>33024</td>\n",
              "      <td>4.174146</td>\n",
              "    </tr>\n",
              "    <tr>\n",
              "      <th>6247</th>\n",
              "      <td>Decalogue, The (Dekalog) (1989)</td>\n",
              "      <td>402</td>\n",
              "      <td>4.174129</td>\n",
              "    </tr>\n",
              "    <tr>\n",
              "      <th>4833</th>\n",
              "      <td>City Lights (1931)</td>\n",
              "      <td>2593</td>\n",
              "      <td>4.174123</td>\n",
              "    </tr>\n",
              "  </tbody>\n",
              "</table>\n",
              "</div>"
            ],
            "text/plain": [
              "                                                   title  num_ratings  \\\n",
              "20780                   Shawshank Redemption, The (1994)        63366   \n",
              "9587                               Godfather, The (1972)        41355   \n",
              "24968                         Usual Suspects, The (1995)        47006   \n",
              "20318                            Schindler's List (1993)        50054   \n",
              "9588                      Godfather: Part II, The (1974)        27398   \n",
              "20601        Seven Samurai (Shichinin no samurai) (1954)        11611   \n",
              "19204                                 Rear Window (1954)        17449   \n",
              "2073                             Band of Brothers (2001)         4305   \n",
              "4237                                   Casablanca (1942)        24349   \n",
              "22421      Sunset Blvd. (a.k.a. Sunset Boulevard) (1950)         6525   \n",
              "17323             One Flew Over the Cuckoo's Nest (1975)        29932   \n",
              "6974   Dr. Strangelove or: How I Learned to Stop Worr...        23220   \n",
              "23735                              Third Man, The (1949)         6565   \n",
              "4847                 City of God (Cidade de Deus) (2002)        12937   \n",
              "14075  Lives of Others, The (Das leben der Anderen) (...         5720   \n",
              "16958                          North by Northwest (1959)        15627   \n",
              "17881                              Paths of Glory (1957)         3568   \n",
              "8251                                   Fight Club (1999)        40106   \n",
              "6897                             Double Indemnity (1944)         4909   \n",
              "79                                   12 Angry Men (1957)        12934   \n",
              "5381                                       Cosmos (1980)          936   \n",
              "5914                             Dark Knight, The (2008)        20438   \n",
              "19073  Raiders of the Lost Ark (Indiana Jones and the...        43295   \n",
              "26477                                     Yojimbo (1961)         3559   \n",
              "2726                               Big Sleep, The (1946)         5529   \n",
              "920                                 All About Eve (1950)         4826   \n",
              "21731  Spirited Away (Sen to Chihiro no kamikakushi) ...        13466   \n",
              "4667                                    Chinatown (1974)        15310   \n",
              "17019                                   Notorious (1946)         4932   \n",
              "1088   Amelie (Fabuleux destin d'Amélie Poulain, Le) ...        24349   \n",
              "14575                                           M (1931)         4232   \n",
              "21872          Star Wars: Episode IV - A New Hope (1977)        54502   \n",
              "24058                       To Kill a Mockingbird (1962)        14769   \n",
              "21873  Star Wars: Episode V - The Empire Strikes Back...        45313   \n",
              "14798                         Maltese Falcon, The (1941)        12144   \n",
              "15187                                 Matrix, The (1999)        51334   \n",
              "23713                               Thin Man, The (1934)         3358   \n",
              "9772                                   Goodfellas (1990)        26406   \n",
              "24222                               Touch of Evil (1958)         4718   \n",
              "2904                                 Black Mirror (2011)          582   \n",
              "25377        Wallace & Gromit: The Wrong Trousers (1993)        15022   \n",
              "15319                                     Memento (2000)        30443   \n",
              "20995                   Silence of the Lambs, The (1991)        63299   \n",
              "18649                         Princess Bride, The (1987)        32586   \n",
              "19144                         Rashomon (Rashômon) (1950)         3712   \n",
              "13829         Life Is Beautiful (La Vita è bella) (1997)        18156   \n",
              "18825                                Pulp Fiction (1994)        67310   \n",
              "15825             Monty Python and the Holy Grail (1975)        33024   \n",
              "6247                     Decalogue, The (Dekalog) (1989)          402   \n",
              "4833                                  City Lights (1931)         2593   \n",
              "\n",
              "       avg_ratings  \n",
              "20780     4.446990  \n",
              "9587      4.364732  \n",
              "24968     4.334372  \n",
              "20318     4.310175  \n",
              "9588      4.275641  \n",
              "20601     4.274180  \n",
              "19204     4.271334  \n",
              "2073      4.263182  \n",
              "4237      4.258327  \n",
              "22421     4.256935  \n",
              "17323     4.248079  \n",
              "6974      4.247287  \n",
              "23735     4.246002  \n",
              "4847      4.235410  \n",
              "14075     4.234790  \n",
              "16958     4.233538  \n",
              "17881     4.232623  \n",
              "8251      4.227123  \n",
              "6897      4.224282  \n",
              "79        4.224138  \n",
              "5381      4.220620  \n",
              "5914      4.220129  \n",
              "19073     4.219009  \n",
              "26477     4.211717  \n",
              "2726      4.207361  \n",
              "920       4.204103  \n",
              "21731     4.203810  \n",
              "4667      4.199673  \n",
              "17019     4.197790  \n",
              "1088      4.197072  \n",
              "14575     4.193171  \n",
              "21872     4.190672  \n",
              "24058     4.188943  \n",
              "21873     4.188202  \n",
              "14798     4.187212  \n",
              "15187     4.187186  \n",
              "23713     4.184187  \n",
              "9772      4.183633  \n",
              "24222     4.183022  \n",
              "2904      4.182990  \n",
              "25377     4.181068  \n",
              "15319     4.178547  \n",
              "20995     4.177057  \n",
              "18649     4.176732  \n",
              "19144     4.176724  \n",
              "13829     4.175837  \n",
              "18825     4.174231  \n",
              "15825     4.174146  \n",
              "6247      4.174129  \n",
              "4833      4.174123  "
            ]
          },
          "execution_count": 65,
          "metadata": {},
          "output_type": "execute_result"
        }
      ],
      "source": [
        "popular_movies_df = popular_movies_df[popular_movies_df['num_ratings']>=300].sort_values('avg_ratings',ascending=False).head(50)\n",
        "popular_movies_df.merge(movie_df,on='title').drop_duplicates('title').shape\n",
        "\n",
        "popular_movies_df"
      ]
    },
    {
      "cell_type": "code",
      "execution_count": 66,
      "id": "46aa9c35",
      "metadata": {
        "colab": {
          "base_uri": "https://localhost:8080/",
          "height": 363
        },
        "id": "46aa9c35",
        "outputId": "f52cacd0-69d5-45e6-ace2-746e37ca0e16"
      },
      "outputs": [
        {
          "data": {
            "text/html": [
              "<div>\n",
              "<style scoped>\n",
              "    .dataframe tbody tr th:only-of-type {\n",
              "        vertical-align: middle;\n",
              "    }\n",
              "\n",
              "    .dataframe tbody tr th {\n",
              "        vertical-align: top;\n",
              "    }\n",
              "\n",
              "    .dataframe thead th {\n",
              "        text-align: right;\n",
              "    }\n",
              "</style>\n",
              "<table border=\"1\" class=\"dataframe\">\n",
              "  <thead>\n",
              "    <tr style=\"text-align: right;\">\n",
              "      <th></th>\n",
              "      <th>title</th>\n",
              "      <th>num_ratings</th>\n",
              "      <th>avg_ratings</th>\n",
              "    </tr>\n",
              "  </thead>\n",
              "  <tbody>\n",
              "    <tr>\n",
              "      <th>20780</th>\n",
              "      <td>Shawshank Redemption, The (1994)</td>\n",
              "      <td>63366</td>\n",
              "      <td>4.446990</td>\n",
              "    </tr>\n",
              "    <tr>\n",
              "      <th>9587</th>\n",
              "      <td>Godfather, The (1972)</td>\n",
              "      <td>41355</td>\n",
              "      <td>4.364732</td>\n",
              "    </tr>\n",
              "    <tr>\n",
              "      <th>24968</th>\n",
              "      <td>Usual Suspects, The (1995)</td>\n",
              "      <td>47006</td>\n",
              "      <td>4.334372</td>\n",
              "    </tr>\n",
              "    <tr>\n",
              "      <th>20318</th>\n",
              "      <td>Schindler's List (1993)</td>\n",
              "      <td>50054</td>\n",
              "      <td>4.310175</td>\n",
              "    </tr>\n",
              "    <tr>\n",
              "      <th>9588</th>\n",
              "      <td>Godfather: Part II, The (1974)</td>\n",
              "      <td>27398</td>\n",
              "      <td>4.275641</td>\n",
              "    </tr>\n",
              "    <tr>\n",
              "      <th>20601</th>\n",
              "      <td>Seven Samurai (Shichinin no samurai) (1954)</td>\n",
              "      <td>11611</td>\n",
              "      <td>4.274180</td>\n",
              "    </tr>\n",
              "    <tr>\n",
              "      <th>19204</th>\n",
              "      <td>Rear Window (1954)</td>\n",
              "      <td>17449</td>\n",
              "      <td>4.271334</td>\n",
              "    </tr>\n",
              "    <tr>\n",
              "      <th>2073</th>\n",
              "      <td>Band of Brothers (2001)</td>\n",
              "      <td>4305</td>\n",
              "      <td>4.263182</td>\n",
              "    </tr>\n",
              "    <tr>\n",
              "      <th>4237</th>\n",
              "      <td>Casablanca (1942)</td>\n",
              "      <td>24349</td>\n",
              "      <td>4.258327</td>\n",
              "    </tr>\n",
              "    <tr>\n",
              "      <th>22421</th>\n",
              "      <td>Sunset Blvd. (a.k.a. Sunset Boulevard) (1950)</td>\n",
              "      <td>6525</td>\n",
              "      <td>4.256935</td>\n",
              "    </tr>\n",
              "  </tbody>\n",
              "</table>\n",
              "</div>"
            ],
            "text/plain": [
              "                                               title  num_ratings  avg_ratings\n",
              "20780               Shawshank Redemption, The (1994)        63366     4.446990\n",
              "9587                           Godfather, The (1972)        41355     4.364732\n",
              "24968                     Usual Suspects, The (1995)        47006     4.334372\n",
              "20318                        Schindler's List (1993)        50054     4.310175\n",
              "9588                  Godfather: Part II, The (1974)        27398     4.275641\n",
              "20601    Seven Samurai (Shichinin no samurai) (1954)        11611     4.274180\n",
              "19204                             Rear Window (1954)        17449     4.271334\n",
              "2073                         Band of Brothers (2001)         4305     4.263182\n",
              "4237                               Casablanca (1942)        24349     4.258327\n",
              "22421  Sunset Blvd. (a.k.a. Sunset Boulevard) (1950)         6525     4.256935"
            ]
          },
          "execution_count": 66,
          "metadata": {},
          "output_type": "execute_result"
        }
      ],
      "source": [
        "popular_movies_df.head(10)"
      ]
    },
    {
      "cell_type": "code",
      "execution_count": 67,
      "id": "6852a0ba",
      "metadata": {
        "colab": {
          "base_uri": "https://localhost:8080/",
          "height": 718
        },
        "id": "6852a0ba",
        "outputId": "5eb09795-7751-4f81-a18b-d71d7ee97ca8"
      },
      "outputs": [
        {
          "data": {
            "image/png": "[encoded data removed]",
            "text/plain": [
              "<Figure size 1200x800 with 2 Axes>"
            ]
          },
          "metadata": {},
          "output_type": "display_data"
        }
      ],
      "source": [
        "top_50_movies = popular_movies_df.head(50)\n",
        "\n",
        "plt.figure(figsize=(12, 8))\n",
        "scatter = plt.scatter(top_50_movies['avg_ratings'], top_50_movies.index, c=top_50_movies.index, cmap='cool', s=50)\n",
        "plt.xlabel('Average Ratings')\n",
        "plt.title('Top 50 Movies with the Highest Average Ratings (Scatter Plot)')\n",
        "plt.gca().invert_yaxis()\n",
        "plt.colorbar(label='Movie Index', orientation='vertical')\n",
        "\n",
        "plt.show()"
      ]
    },
    {
      "cell_type": "code",
      "execution_count": 68,
      "id": "0sZWBeCFOAcB",
      "metadata": {
        "id": "0sZWBeCFOAcB"
      },
      "outputs": [],
      "source": [
        "#!pip install --upgrade keras tensorflow\n"
      ]
    },
    {
      "cell_type": "markdown",
      "id": "Erh8pIB8QySU",
      "metadata": {
        "id": "Erh8pIB8QySU"
      },
      "source": [
        "**Matrix** **Factorization**"
      ]
    },
    {
      "cell_type": "markdown",
      "id": "Ix-NGNjjADGj",
      "metadata": {
        "id": "Ix-NGNjjADGj"
      },
      "source": [
        "* We use the movies dataset and rating dataset, we then merge and check if all the data match. ​\n",
        "\n",
        "* We then define a list of movies, It begins by filtering a DataFrame for certain movies, then produces a Surprise dataset and divides it into training and test sets. ​\n",
        "\n",
        "* This data is used to train the SVD model, which is then assessed using RMSE. Finally, it predicts a rating for a given user-item pair, illustrating how the model may be employed to predict user preferences for movies."
      ]
    },
    {
      "cell_type": "code",
      "execution_count": 69,
      "id": "sG1eESwuQ304",
      "metadata": {
        "colab": {
          "base_uri": "https://localhost:8080/",
          "height": 206
        },
        "id": "sG1eESwuQ304",
        "outputId": "5ed26b83-b0f8-4206-9dac-fcd191444542"
      },
      "outputs": [
        {
          "data": {
            "text/html": [
              "<div>\n",
              "<style scoped>\n",
              "    .dataframe tbody tr th:only-of-type {\n",
              "        vertical-align: middle;\n",
              "    }\n",
              "\n",
              "    .dataframe tbody tr th {\n",
              "        vertical-align: top;\n",
              "    }\n",
              "\n",
              "    .dataframe thead th {\n",
              "        text-align: right;\n",
              "    }\n",
              "</style>\n",
              "<table border=\"1\" class=\"dataframe\">\n",
              "  <thead>\n",
              "    <tr style=\"text-align: right;\">\n",
              "      <th></th>\n",
              "      <th>movieId</th>\n",
              "      <th>title</th>\n",
              "      <th>genres</th>\n",
              "      <th>userId</th>\n",
              "      <th>rating</th>\n",
              "      <th>timestamp</th>\n",
              "    </tr>\n",
              "  </thead>\n",
              "  <tbody>\n",
              "    <tr>\n",
              "      <th>0</th>\n",
              "      <td>1</td>\n",
              "      <td>Toy Story (1995)</td>\n",
              "      <td>Adventure|Animation|Children|Comedy|Fantasy</td>\n",
              "      <td>3.0</td>\n",
              "      <td>4.0</td>\n",
              "      <td>9.449194e+08</td>\n",
              "    </tr>\n",
              "    <tr>\n",
              "      <th>1</th>\n",
              "      <td>1</td>\n",
              "      <td>Toy Story (1995)</td>\n",
              "      <td>Adventure|Animation|Children|Comedy|Fantasy</td>\n",
              "      <td>6.0</td>\n",
              "      <td>5.0</td>\n",
              "      <td>8.582755e+08</td>\n",
              "    </tr>\n",
              "    <tr>\n",
              "      <th>2</th>\n",
              "      <td>1</td>\n",
              "      <td>Toy Story (1995)</td>\n",
              "      <td>Adventure|Animation|Children|Comedy|Fantasy</td>\n",
              "      <td>8.0</td>\n",
              "      <td>4.0</td>\n",
              "      <td>8.339819e+08</td>\n",
              "    </tr>\n",
              "    <tr>\n",
              "      <th>3</th>\n",
              "      <td>1</td>\n",
              "      <td>Toy Story (1995)</td>\n",
              "      <td>Adventure|Animation|Children|Comedy|Fantasy</td>\n",
              "      <td>10.0</td>\n",
              "      <td>4.0</td>\n",
              "      <td>9.434979e+08</td>\n",
              "    </tr>\n",
              "    <tr>\n",
              "      <th>4</th>\n",
              "      <td>1</td>\n",
              "      <td>Toy Story (1995)</td>\n",
              "      <td>Adventure|Animation|Children|Comedy|Fantasy</td>\n",
              "      <td>11.0</td>\n",
              "      <td>4.5</td>\n",
              "      <td>1.230859e+09</td>\n",
              "    </tr>\n",
              "  </tbody>\n",
              "</table>\n",
              "</div>"
            ],
            "text/plain": [
              "   movieId             title                                       genres  \\\n",
              "0        1  Toy Story (1995)  Adventure|Animation|Children|Comedy|Fantasy   \n",
              "1        1  Toy Story (1995)  Adventure|Animation|Children|Comedy|Fantasy   \n",
              "2        1  Toy Story (1995)  Adventure|Animation|Children|Comedy|Fantasy   \n",
              "3        1  Toy Story (1995)  Adventure|Animation|Children|Comedy|Fantasy   \n",
              "4        1  Toy Story (1995)  Adventure|Animation|Children|Comedy|Fantasy   \n",
              "\n",
              "   userId  rating     timestamp  \n",
              "0     3.0     4.0  9.449194e+08  \n",
              "1     6.0     5.0  8.582755e+08  \n",
              "2     8.0     4.0  8.339819e+08  \n",
              "3    10.0     4.0  9.434979e+08  \n",
              "4    11.0     4.5  1.230859e+09  "
            ]
          },
          "execution_count": 69,
          "metadata": {},
          "output_type": "execute_result"
        }
      ],
      "source": [
        "movie = pd.read_csv('ml-20m/ml-20m/movies.csv')\n",
        "rating = pd.read_csv('ml-20m/ml-20m/ratings.csv')\n",
        "df = movie.merge(rating, how=\"left\", on=\"movieId\")\n",
        "df.head()"
      ]
    },
    {
      "cell_type": "code",
      "execution_count": 70,
      "id": "CIHEYuFtQ354",
      "metadata": {
        "colab": {
          "base_uri": "https://localhost:8080/"
        },
        "id": "CIHEYuFtQ354",
        "outputId": "b0d6f67f-3811-4af6-d8f6-a8fc3aaedf12"
      },
      "outputs": [
        {
          "name": "stdout",
          "output_type": "stream",
          "text": [
            "------------------------------- SHAPE --------------------------------\n",
            "Rows: 20000797\n",
            "Columns: 6\n",
            "------------------------------- TYPES --------------------------------\n",
            "movieId        int64\n",
            "title         object\n",
            "genres        object\n",
            "userId       float64\n",
            "rating       float64\n",
            "timestamp    float64\n",
            "dtype: object\n",
            "-------------------------------- HEAD --------------------------------\n",
            "   movieId             title                                       genres  \\\n",
            "0        1  Toy Story (1995)  Adventure|Animation|Children|Comedy|Fantasy   \n",
            "1        1  Toy Story (1995)  Adventure|Animation|Children|Comedy|Fantasy   \n",
            "2        1  Toy Story (1995)  Adventure|Animation|Children|Comedy|Fantasy   \n",
            "3        1  Toy Story (1995)  Adventure|Animation|Children|Comedy|Fantasy   \n",
            "4        1  Toy Story (1995)  Adventure|Animation|Children|Comedy|Fantasy   \n",
            "\n",
            "   userId  rating     timestamp  \n",
            "0     3.0     4.0  9.449194e+08  \n",
            "1     6.0     5.0  8.582755e+08  \n",
            "2     8.0     4.0  8.339819e+08  \n",
            "3    10.0     4.0  9.434979e+08  \n",
            "4    11.0     4.5  1.230859e+09  \n",
            "-------------------------------- TAIL --------------------------------\n",
            "          movieId                          title                    genres  \\\n",
            "20000792   131254   Kein Bund für's Leben (2007)                    Comedy   \n",
            "20000793   131256  Feuer, Eis & Dosenbier (2002)                    Comedy   \n",
            "20000794   131258             The Pirates (2014)                 Adventure   \n",
            "20000795   131260            Rentun Ruusu (2001)        (no genres listed)   \n",
            "20000796   131262               Innocence (2014)  Adventure|Fantasy|Horror   \n",
            "\n",
            "            userId  rating     timestamp  \n",
            "20000792   79570.0     4.0  1.427744e+09  \n",
            "20000793   79570.0     4.0  1.427745e+09  \n",
            "20000794   28906.0     2.5  1.427745e+09  \n",
            "20000795   65409.0     3.0  1.427745e+09  \n",
            "20000796  133047.0     4.0  1.427748e+09  \n",
            "--------------------------- MISSING VALUES ---------------------------\n",
            "movieId        0\n",
            "title          0\n",
            "genres         0\n",
            "userId       534\n",
            "rating       534\n",
            "timestamp    534\n",
            "dtype: int64\n",
            "------------------------- DUPLICATED VALUES --------------------------\n",
            "0\n",
            "------------------------------ DESCRIBE ------------------------------\n",
            "                count          mean           std          min           0%  \\\n",
            "movieId    20000797.0  9.044349e+03  1.979671e+04          1.0          1.0   \n",
            "userId     20000263.0  6.904587e+04  4.003863e+04          1.0          1.0   \n",
            "rating     20000263.0  3.525529e+00  1.051989e+00          0.5          0.5   \n",
            "timestamp  20000263.0  1.100918e+09  1.621694e+08  789652004.0  789652004.0   \n",
            "\n",
            "                   10%          20%          30%           40%           50%  \\\n",
            "movieId          296.0        592.0       1148.0  1.503000e+03  2.167000e+03   \n",
            "userId         13568.0      27221.0      41306.0  5.513200e+04  6.914100e+04   \n",
            "rating             2.0          3.0          3.0  3.500000e+00  3.500000e+00   \n",
            "timestamp  862788343.2  949455502.6  983805555.0  1.045514e+09  1.103556e+09   \n",
            "\n",
            "                    60%           70%           80%           90%  \\\n",
            "movieId    2.915000e+03  3.952000e+03  5.872000e+03  3.379400e+04   \n",
            "userId     8.285500e+04  9.670300e+04  1.107250e+05  1.244790e+05   \n",
            "rating     4.000000e+00  4.000000e+00  4.500000e+00  5.000000e+00   \n",
            "timestamp  1.139534e+09  1.197077e+09  1.256024e+09  1.333155e+09   \n",
            "\n",
            "                   100%           max  \n",
            "movieId    1.312620e+05  1.312620e+05  \n",
            "userId     1.384930e+05  1.384930e+05  \n",
            "rating     5.000000e+00  5.000000e+00  \n",
            "timestamp  1.427784e+09  1.427784e+09  \n"
          ]
        }
      ],
      "source": [
        "def check_df(dataframe, head=5):\n",
        "    print(\" SHAPE \".center(70,'-'))\n",
        "    print('Rows: {}'.format(dataframe.shape[0]))\n",
        "    print('Columns: {}'.format(dataframe.shape[1]))\n",
        "    print(\" TYPES \".center(70,'-'))\n",
        "    print(dataframe.dtypes)\n",
        "    print(\" HEAD \".center(70,'-'))\n",
        "    print(dataframe.head(head))\n",
        "    print(\" TAIL \".center(70,'-'))\n",
        "    print(dataframe.tail(head))\n",
        "    print(\" MISSING VALUES \".center(70,'-'))\n",
        "    print(dataframe.isnull().sum())\n",
        "    print(\" DUPLICATED VALUES \".center(70,'-'))\n",
        "    print(dataframe.duplicated().sum())\n",
        "    print(\" DESCRIBE \".center(70,'-'))\n",
        "    print(dataframe.describe([0, 0.10, 0.20, 0.30, 0.40, 0.50, 0.60, 0.70, 0.80, 0.90, 1]).T)\n",
        "\n",
        "check_df(df)"
      ]
    },
    {
      "cell_type": "code",
      "execution_count": 71,
      "id": "SnZRxaZNQ38P",
      "metadata": {
        "colab": {
          "base_uri": "https://localhost:8080/",
          "height": 206
        },
        "id": "SnZRxaZNQ38P",
        "outputId": "6db660ad-696b-4142-d6a8-a6c6095a75d6"
      },
      "outputs": [
        {
          "data": {
            "text/html": [
              "<div>\n",
              "<style scoped>\n",
              "    .dataframe tbody tr th:only-of-type {\n",
              "        vertical-align: middle;\n",
              "    }\n",
              "\n",
              "    .dataframe tbody tr th {\n",
              "        vertical-align: top;\n",
              "    }\n",
              "\n",
              "    .dataframe thead th {\n",
              "        text-align: right;\n",
              "    }\n",
              "</style>\n",
              "<table border=\"1\" class=\"dataframe\">\n",
              "  <thead>\n",
              "    <tr style=\"text-align: right;\">\n",
              "      <th></th>\n",
              "      <th>movieId</th>\n",
              "      <th>title</th>\n",
              "      <th>genres</th>\n",
              "      <th>userId</th>\n",
              "      <th>rating</th>\n",
              "      <th>timestamp</th>\n",
              "    </tr>\n",
              "  </thead>\n",
              "  <tbody>\n",
              "    <tr>\n",
              "      <th>0</th>\n",
              "      <td>1</td>\n",
              "      <td>Toy Story (1995)</td>\n",
              "      <td>Adventure|Animation|Children|Comedy|Fantasy</td>\n",
              "      <td>3.0</td>\n",
              "      <td>4.0</td>\n",
              "      <td>9.449194e+08</td>\n",
              "    </tr>\n",
              "    <tr>\n",
              "      <th>1</th>\n",
              "      <td>1</td>\n",
              "      <td>Toy Story (1995)</td>\n",
              "      <td>Adventure|Animation|Children|Comedy|Fantasy</td>\n",
              "      <td>6.0</td>\n",
              "      <td>5.0</td>\n",
              "      <td>8.582755e+08</td>\n",
              "    </tr>\n",
              "    <tr>\n",
              "      <th>2</th>\n",
              "      <td>1</td>\n",
              "      <td>Toy Story (1995)</td>\n",
              "      <td>Adventure|Animation|Children|Comedy|Fantasy</td>\n",
              "      <td>8.0</td>\n",
              "      <td>4.0</td>\n",
              "      <td>8.339819e+08</td>\n",
              "    </tr>\n",
              "    <tr>\n",
              "      <th>3</th>\n",
              "      <td>1</td>\n",
              "      <td>Toy Story (1995)</td>\n",
              "      <td>Adventure|Animation|Children|Comedy|Fantasy</td>\n",
              "      <td>10.0</td>\n",
              "      <td>4.0</td>\n",
              "      <td>9.434979e+08</td>\n",
              "    </tr>\n",
              "    <tr>\n",
              "      <th>4</th>\n",
              "      <td>1</td>\n",
              "      <td>Toy Story (1995)</td>\n",
              "      <td>Adventure|Animation|Children|Comedy|Fantasy</td>\n",
              "      <td>11.0</td>\n",
              "      <td>4.5</td>\n",
              "      <td>1.230859e+09</td>\n",
              "    </tr>\n",
              "  </tbody>\n",
              "</table>\n",
              "</div>"
            ],
            "text/plain": [
              "   movieId             title                                       genres  \\\n",
              "0        1  Toy Story (1995)  Adventure|Animation|Children|Comedy|Fantasy   \n",
              "1        1  Toy Story (1995)  Adventure|Animation|Children|Comedy|Fantasy   \n",
              "2        1  Toy Story (1995)  Adventure|Animation|Children|Comedy|Fantasy   \n",
              "3        1  Toy Story (1995)  Adventure|Animation|Children|Comedy|Fantasy   \n",
              "4        1  Toy Story (1995)  Adventure|Animation|Children|Comedy|Fantasy   \n",
              "\n",
              "   userId  rating     timestamp  \n",
              "0     3.0     4.0  9.449194e+08  \n",
              "1     6.0     5.0  8.582755e+08  \n",
              "2     8.0     4.0  8.339819e+08  \n",
              "3    10.0     4.0  9.434979e+08  \n",
              "4    11.0     4.5  1.230859e+09  "
            ]
          },
          "execution_count": 71,
          "metadata": {},
          "output_type": "execute_result"
        }
      ],
      "source": [
        "selected_movie_ids = [1, 131254, 4422, 131262]\n",
        "\n",
        "selected_movies = [\"Toy Story (1995)\",\n",
        "                   \"Kein Bund für's Leben (2007)\",\n",
        "                   \"Forrest Gump (1994)\",\n",
        "                   \"Innocence (2014)\"]\n",
        "selected_movies_df = df[df.movieId.isin(selected_movie_ids)]\n",
        "\n",
        "selected_movies_df.head()"
      ]
    },
    {
      "cell_type": "code",
      "execution_count": 72,
      "id": "tuMHDlzoQ3-b",
      "metadata": {
        "colab": {
          "base_uri": "https://localhost:8080/"
        },
        "id": "tuMHDlzoQ3-b",
        "outputId": "d0adbd7e-6546-4498-ddd4-807d16cbdcb2"
      },
      "outputs": [
        {
          "data": {
            "text/plain": [
              "(50341, 6)"
            ]
          },
          "execution_count": 72,
          "metadata": {},
          "output_type": "execute_result"
        }
      ],
      "source": [
        "selected_movies_df.shape"
      ]
    },
    {
      "cell_type": "code",
      "execution_count": 73,
      "id": "n2Pv_MG9weG7",
      "metadata": {
        "id": "n2Pv_MG9weG7"
      },
      "outputs": [],
      "source": [
        "from surprise import Reader, SVD, Dataset, accuracy\n",
        "rating_scale = (1, 5)\n",
        "\n",
        "surprise_data = selected_movies_df[['userId', 'movieId', 'rating']]\n",
        "surprise_reader = Reader(rating_scale=rating_scale)\n",
        "surprise_data = Dataset.load_from_df(surprise_data, surprise_reader)"
      ]
    },
    {
      "cell_type": "code",
      "execution_count": 74,
      "id": "4FbpcforweSl",
      "metadata": {
        "colab": {
          "base_uri": "https://localhost:8080/"
        },
        "id": "4FbpcforweSl",
        "outputId": "0bd3d073-adae-4574-e7fa-b578fa59d22a"
      },
      "outputs": [
        {
          "data": {
            "text/plain": [
              "<surprise.prediction_algorithms.matrix_factorization.SVD at 0x19638483610>"
            ]
          },
          "execution_count": 74,
          "metadata": {},
          "output_type": "execute_result"
        }
      ],
      "source": [
        "\n",
        "trainset, testset = train_test_split(surprise_data, test_size=.25)\n",
        "svd_model = SVD()\n",
        "svd_model.fit(trainset)"
      ]
    },
    {
      "cell_type": "code",
      "execution_count": 75,
      "id": "BjLk0JAPwhVk",
      "metadata": {
        "colab": {
          "base_uri": "https://localhost:8080/"
        },
        "id": "BjLk0JAPwhVk",
        "outputId": "4144e4cb-60f6-41db-bfbe-80fcb6f0d7e1"
      },
      "outputs": [
        {
          "name": "stdout",
          "output_type": "stream",
          "text": [
            "RMSE: 0.8915\n",
            "Root Mean Squared Error (RMSE): 0.891507159720974\n"
          ]
        }
      ],
      "source": [
        "from surprise import accuracy\n",
        "\n",
        "predictions = svd_model.test(testset)\n",
        "\n",
        "rmse = accuracy.rmse(predictions)\n",
        "print(f\"Root Mean Squared Error (RMSE): {rmse}\")"
      ]
    },
    {
      "cell_type": "code",
      "execution_count": 76,
      "id": "Zj_Uy9xZErsi",
      "metadata": {
        "id": "Zj_Uy9xZErsi"
      },
      "outputs": [],
      "source": [
        "import numpy as np\n",
        "\n",
        "def ndcg_at_k(y_true, y_score, k):\n",
        "\n",
        "    order = np.argsort(y_score)[::-1]\n",
        "    y_true = np.take(y_true, order[:k])\n",
        "\n",
        "    # Compute Discounted Cumulative Gain (DCG)\n",
        "    dcg = np.sum((2 ** y_true - 1) / np.log2(np.arange(2, y_true.size + 2)))\n",
        "\n",
        "    # Compute Ideal DCG (IDCG)\n",
        "    ideal_order = np.argsort(y_true)[::-1]\n",
        "    ideal_dcg = np.sum((2 ** np.take(y_true, ideal_order) - 1) / np.log2(np.arange(2, y_true.size + 2)))\n",
        "\n",
        "    # Compute Normalized DCG (nDCG)\n",
        "    ndcg = dcg / ideal_dcg if ideal_dcg > 0 else 0\n",
        "\n",
        "    return ndcg"
      ]
    },
    {
      "cell_type": "code",
      "execution_count": 77,
      "id": "zp2EpYUJEsu5",
      "metadata": {
        "colab": {
          "base_uri": "https://localhost:8080/"
        },
        "id": "zp2EpYUJEsu5",
        "outputId": "654efd5d-f2b8-40cc-a724-a527203809c0"
      },
      "outputs": [
        {
          "name": "stdout",
          "output_type": "stream",
          "text": [
            "nDCG: 0.9998570404174507\n"
          ]
        }
      ],
      "source": [
        "# Calculate nDCG\n",
        "nDCG_values = []\n",
        "\n",
        "for user_id in set([user for (user, item, rating) in testset]):\n",
        "    user_ratings = [(item, rating) for (user_t, item, rating) in testset if user_t == user_id]\n",
        "    user_ratings.sort(key=lambda x: x[1], reverse=True)\n",
        "\n",
        "    top_k_movies = [item for item, _ in user_ratings[:10]]\n",
        "    top_k_predictions = [svd_model.predict(user_id, movie).est for movie in top_k_movies]\n",
        "    top_k_actual_ratings = [rating for _, rating in user_ratings[:10]]\n",
        "\n",
        "    nDCG = ndcg_at_k(top_k_actual_ratings, top_k_predictions, k=10)\n",
        "    nDCG_values.append(nDCG)\n",
        "\n",
        "mean_nDCG = np.mean(nDCG_values)\n",
        "print(\"nDCG:\", mean_nDCG)"
      ]
    },
    {
      "cell_type": "code",
      "execution_count": 78,
      "id": "-6dL0xNJwkyy",
      "metadata": {
        "colab": {
          "base_uri": "https://localhost:8080/"
        },
        "id": "-6dL0xNJwkyy",
        "outputId": "aa9f21fc-ed14-4670-ea61-32d8369dcb61"
      },
      "outputs": [
        {
          "name": "stdout",
          "output_type": "stream",
          "text": [
            "user: 1.0        item: 1          r_ui = None   est = 3.93   {'was_impossible': False}\n",
            "User ID: 1.0\n",
            "Item ID: 1\n",
            "True Rating: None\n",
            "Estimated Rating: 3.9274782537237476\n",
            "Details: {'was_impossible': False}\n"
          ]
        }
      ],
      "source": [
        "user_id = 1.0\n",
        "item_id = 1\n",
        "prediction = svd_model.predict(uid=user_id, iid=item_id, verbose=True)\n",
        "\n",
        "print(f\"User ID: {prediction.uid}\")\n",
        "print(f\"Item ID: {prediction.iid}\")\n",
        "print(f\"True Rating: {prediction.r_ui}\")\n",
        "print(f\"Estimated Rating: {prediction.est}\")\n",
        "print(f\"Details: {prediction.details}\")\n"
      ]
    },
    {
      "cell_type": "code",
      "execution_count": 79,
      "id": "JX6uW5ndwk1g",
      "metadata": {
        "colab": {
          "base_uri": "https://localhost:8080/"
        },
        "id": "JX6uW5ndwk1g",
        "outputId": "bebd6c4c-2caa-4910-bf80-5e2d78f8489f"
      },
      "outputs": [
        {
          "name": "stdout",
          "output_type": "stream",
          "text": [
            "user: 1.0        item: 4422       r_ui = None   est = 3.92   {'was_impossible': False}\n",
            "User ID: 1.0\n",
            "Item ID: 4422\n",
            "True Rating: None\n",
            "Estimated Rating: 3.916215544472484\n",
            "Details: {'was_impossible': False}\n"
          ]
        }
      ],
      "source": [
        "user_id = 1.0\n",
        "item_id = 4422\n",
        "prediction = svd_model.predict(uid=user_id, iid=item_id, verbose=True)\n",
        "\n",
        "print(f\"User ID: {prediction.uid}\")\n",
        "print(f\"Item ID: {prediction.iid}\")\n",
        "print(f\"True Rating: {prediction.r_ui}\")\n",
        "print(f\"Estimated Rating: {prediction.est}\")\n",
        "print(f\"Details: {prediction.details}\")\n"
      ]
    },
    {
      "cell_type": "code",
      "execution_count": 80,
      "id": "RMH8YkmNwk3-",
      "metadata": {
        "colab": {
          "base_uri": "https://localhost:8080/"
        },
        "id": "RMH8YkmNwk3-",
        "outputId": "6a2d8a38-6b8c-4f6c-db69-019d6b0235c1"
      },
      "outputs": [
        {
          "name": "stdout",
          "output_type": "stream",
          "text": [
            "Empty DataFrame\n",
            "Columns: [movieId, title, genres, userId, rating, timestamp]\n",
            "Index: []\n"
          ]
        }
      ],
      "source": [
        "\n",
        "user_1_ratings = selected_movies_df[selected_movies_df[\"userId\"] == 1]\n",
        "print(user_1_ratings)"
      ]
    },
    {
      "cell_type": "code",
      "execution_count": 81,
      "id": "AHOrAfcTwk6M",
      "metadata": {
        "colab": {
          "base_uri": "https://localhost:8080/"
        },
        "id": "AHOrAfcTwk6M",
        "outputId": "c7fcb4f9-2a13-45d5-9dd3-22088336fee9"
      },
      "outputs": [
        {
          "name": "stderr",
          "output_type": "stream",
          "text": [
            "[Parallel(n_jobs=-1)]: Using backend LokyBackend with 16 concurrent workers.\n",
            "[Parallel(n_jobs=-1)]: Done  24 out of  27 | elapsed:    4.5s remaining:    0.5s\n",
            "[Parallel(n_jobs=-1)]: Done  27 out of  27 | elapsed:    4.8s finished\n"
          ]
        }
      ],
      "source": [
        "param_grid = {'n_epochs': [5, 10, 20],\n",
        "              'lr_all': [0.002, 0.005, 0.007]}\n",
        "\n",
        "\n",
        "gs = GridSearchCV(SVD,\n",
        "                  param_grid,\n",
        "                  measures=['rmse', 'mae'],\n",
        "                  cv=3,\n",
        "                  n_jobs=-1,\n",
        "                  joblib_verbose=True)\n",
        "\n",
        "gs.fit(surprise_data)"
      ]
    },
    {
      "cell_type": "code",
      "execution_count": 82,
      "id": "mhPyKUYEwk8e",
      "metadata": {
        "colab": {
          "base_uri": "https://localhost:8080/"
        },
        "id": "mhPyKUYEwk8e",
        "outputId": "e0ab40aa-b129-4dea-f4ab-650751dd7688"
      },
      "outputs": [
        {
          "data": {
            "text/plain": [
              "0.8922630590689247"
            ]
          },
          "execution_count": 82,
          "metadata": {},
          "output_type": "execute_result"
        }
      ],
      "source": [
        "gs.best_score['rmse']"
      ]
    },
    {
      "cell_type": "code",
      "execution_count": 83,
      "id": "fJ5zad_DwrxB",
      "metadata": {
        "colab": {
          "base_uri": "https://localhost:8080/"
        },
        "id": "fJ5zad_DwrxB",
        "outputId": "2f6750e8-b9ce-41c5-da73-5b021bb4e843"
      },
      "outputs": [
        {
          "data": {
            "text/plain": [
              "{'n_epochs': 20, 'lr_all': 0.002}"
            ]
          },
          "execution_count": 83,
          "metadata": {},
          "output_type": "execute_result"
        }
      ],
      "source": [
        "gs.best_params['rmse']"
      ]
    },
    {
      "cell_type": "code",
      "execution_count": 84,
      "id": "E7l5bHlpwrzg",
      "metadata": {
        "colab": {
          "base_uri": "https://localhost:8080/"
        },
        "id": "E7l5bHlpwrzg",
        "outputId": "068a42b9-77de-46f7-92fd-813ab417fe8b"
      },
      "outputs": [
        {
          "data": {
            "text/plain": [
              "20"
            ]
          },
          "execution_count": 84,
          "metadata": {},
          "output_type": "execute_result"
        }
      ],
      "source": [
        "svd_model.n_epochs"
      ]
    },
    {
      "cell_type": "code",
      "execution_count": 85,
      "id": "kM5WHjYPwr2J",
      "metadata": {
        "colab": {
          "base_uri": "https://localhost:8080/"
        },
        "id": "kM5WHjYPwr2J",
        "outputId": "a279788e-ad38-41e2-e87c-e45d97ff542d"
      },
      "outputs": [
        {
          "data": {
            "text/plain": [
              "<surprise.prediction_algorithms.matrix_factorization.SVD at 0x1962d4000d0>"
            ]
          },
          "execution_count": 85,
          "metadata": {},
          "output_type": "execute_result"
        }
      ],
      "source": [
        "svd_model = SVD(**gs.best_params['rmse'])\n",
        "\n",
        "surprise_data = surprise_data.build_full_trainset()\n",
        "svd_model.fit(surprise_data)\n",
        "\n"
      ]
    },
    {
      "cell_type": "code",
      "execution_count": 86,
      "id": "AxnKMj1Gwr4a",
      "metadata": {
        "colab": {
          "base_uri": "https://localhost:8080/"
        },
        "id": "AxnKMj1Gwr4a",
        "outputId": "afb76e01-9278-4906-c823-6abdd6938fbc"
      },
      "outputs": [
        {
          "name": "stdout",
          "output_type": "stream",
          "text": [
            "user: 1.0        item: 1          r_ui = None   est = 3.92   {'was_impossible': False}\n"
          ]
        },
        {
          "data": {
            "text/plain": [
              "Prediction(uid=1.0, iid=1, r_ui=None, est=3.9209537866712143, details={'was_impossible': False})"
            ]
          },
          "execution_count": 86,
          "metadata": {},
          "output_type": "execute_result"
        }
      ],
      "source": [
        "svd_model.predict(uid=1.0, iid=1, verbose=True)"
      ]
    },
    {
      "cell_type": "code",
      "execution_count": 87,
      "id": "mQEQeJsCwr6r",
      "metadata": {
        "colab": {
          "base_uri": "https://localhost:8080/"
        },
        "id": "mQEQeJsCwr6r",
        "outputId": "5283f807-6101-4692-f6d0-07c3b18429bc"
      },
      "outputs": [
        {
          "name": "stdout",
          "output_type": "stream",
          "text": [
            "user: 1.0        item: 130219     r_ui = None   est = 3.92   {'was_impossible': False}\n"
          ]
        },
        {
          "data": {
            "text/plain": [
              "Prediction(uid=1.0, iid=130219, r_ui=None, est=3.921852962793747, details={'was_impossible': False})"
            ]
          },
          "execution_count": 87,
          "metadata": {},
          "output_type": "execute_result"
        }
      ],
      "source": [
        "svd_model.predict(uid=1.0, iid=130219, verbose=True)"
      ]
    },
    {
      "cell_type": "code",
      "execution_count": null,
      "id": "YEbOt1tdJb70",
      "metadata": {
        "id": "YEbOt1tdJb70"
      },
      "outputs": [],
      "source": []
    },
    {
      "cell_type": "markdown",
      "id": "jqRtldYWVXbd",
      "metadata": {
        "id": "jqRtldYWVXbd"
      },
      "source": [
        "# **Item Based Collaborative Filtering**\n",
        "\n"
      ]
    },
    {
      "cell_type": "markdown",
      "id": "Jl-tN9EAT0Vp",
      "metadata": {
        "id": "Jl-tN9EAT0Vp"
      },
      "source": [
        "**Our Approach**\n",
        "\n",
        "\n",
        "\n",
        "* Our first step is to merge the movies dataset and the ratings dataset and to check the merged dataset to make sure that there a no errors or mismatch in the merge function. ​\n",
        "\n",
        "* We then count the number of times a movie's title occurs. We also try and understand what are some rare movies that users might have not seen. ​\n",
        "\n",
        "* Then we choose movies that are not on the list of rare movies, essentially filtering out rare movies.​\n",
        "\n",
        "* Then we establish a boolean mask in which movies in rare_movies are tagged as False while others are marked as True.​\n",
        "\n",
        "* The data is then restructured using a pivot table, which has userId as rows, movie names (\"title\") as columns, and their related ratings as cell values.​\n",
        "\n",
        "* This is a common user-item interaction matrix structure used in collaborative filtering.​\n",
        "\n",
        "* We the correlation between the selected film (The Matrix) and all other films in the restructured dataset. It use the corrwith function to compute pairwise correlation between two DataFrame objects' rows or columns.\n",
        "\n",
        "* The results are sorted in descending order (ascending=False), with the top ten showing. The final result displays the top ten movies based on user ratings that are most comparable to \"The Matrix,\" with \"The Matrix\" having a perfect correlation of 1.000000.​"
      ]
    },
    {
      "cell_type": "markdown",
      "id": "IDDO7YitRSZF",
      "metadata": {
        "id": "IDDO7YitRSZF"
      },
      "source": [
        "### Pearson Correlation"
      ]
    },
    {
      "cell_type": "code",
      "execution_count": 104,
      "id": "KP0nzjf-WBcP",
      "metadata": {
        "id": "KP0nzjf-WBcP"
      },
      "outputs": [],
      "source": [
        "movie_1 = pd.read_csv('ml-20m/ml-20m/movies.csv').reset_index()\n",
        "rating_1 = pd.read_csv('ml-20m/ml-20m/ratings.csv').reset_index()"
      ]
    },
    {
      "cell_type": "code",
      "execution_count": 105,
      "id": "Ipj195InWBZh",
      "metadata": {
        "id": "Ipj195InWBZh"
      },
      "outputs": [],
      "source": [
        "df_merged = movie_1.merge(rating_1, how=\"left\", on=\"movieId\")"
      ]
    },
    {
      "cell_type": "code",
      "execution_count": 106,
      "id": "a-XThZJYWBWt",
      "metadata": {
        "colab": {
          "base_uri": "https://localhost:8080/"
        },
        "id": "a-XThZJYWBWt",
        "outputId": "20a6294e-a3f5-44f4-b267-fdefa202ef5e"
      },
      "outputs": [
        {
          "name": "stdout",
          "output_type": "stream",
          "text": [
            "Shape\n",
            "(20000797, 8)\n",
            "Types\n",
            "index_x        int64\n",
            "movieId        int64\n",
            "title         object\n",
            "genres        object\n",
            "index_y      float64\n",
            "userId       float64\n",
            "rating       float64\n",
            "timestamp    float64\n",
            "dtype: object\n",
            "Head\n",
            "   index_x  movieId             title  \\\n",
            "0        0        1  Toy Story (1995)   \n",
            "1        0        1  Toy Story (1995)   \n",
            "2        0        1  Toy Story (1995)   \n",
            "3        0        1  Toy Story (1995)   \n",
            "4        0        1  Toy Story (1995)   \n",
            "\n",
            "                                        genres  index_y  userId  rating  \\\n",
            "0  Adventure|Animation|Children|Comedy|Fantasy    236.0     3.0     4.0   \n",
            "1  Adventure|Animation|Children|Comedy|Fantasy    517.0     6.0     5.0   \n",
            "2  Adventure|Animation|Children|Comedy|Fantasy    817.0     8.0     4.0   \n",
            "3  Adventure|Animation|Children|Comedy|Fantasy    922.0    10.0     4.0   \n",
            "4  Adventure|Animation|Children|Comedy|Fantasy    960.0    11.0     4.5   \n",
            "\n",
            "      timestamp  \n",
            "0  9.449194e+08  \n",
            "1  8.582755e+08  \n",
            "2  8.339819e+08  \n",
            "3  9.434979e+08  \n",
            "4  1.230859e+09  \n",
            "Tail\n",
            "          index_x  movieId                          title  \\\n",
            "20000792    27273   131254   Kein Bund für's Leben (2007)   \n",
            "20000793    27274   131256  Feuer, Eis & Dosenbier (2002)   \n",
            "20000794    27275   131258             The Pirates (2014)   \n",
            "20000795    27276   131260            Rentun Ruusu (2001)   \n",
            "20000796    27277   131262               Innocence (2014)   \n",
            "\n",
            "                            genres     index_y    userId  rating     timestamp  \n",
            "20000792                    Comedy  11528488.0   79570.0     4.0  1.427744e+09  \n",
            "20000793                    Comedy  11528489.0   79570.0     4.0  1.427745e+09  \n",
            "20000794                 Adventure   4243883.0   28906.0     2.5  1.427745e+09  \n",
            "20000795        (no genres listed)   9459645.0   65409.0     3.0  1.427745e+09  \n",
            "20000796  Adventure|Fantasy|Horror  19227262.0  133047.0     4.0  1.427748e+09  \n",
            "Null Values\n",
            "index_x        0\n",
            "movieId        0\n",
            "title          0\n",
            "genres         0\n",
            "index_y      534\n",
            "userId       534\n",
            "rating       534\n",
            "timestamp    534\n",
            "dtype: int64\n",
            "Quantiles\n",
            "                count          mean           std          min           0%  \\\n",
            "index_x    20000797.0  3.605793e+03  4.146114e+03          0.0          0.0   \n",
            "movieId    20000797.0  9.044349e+03  1.979671e+04          1.0          1.0   \n",
            "index_y    20000263.0  1.000013e+07  5.773579e+06          0.0          0.0   \n",
            "userId     20000263.0  6.904587e+04  4.003863e+04          1.0          1.0   \n",
            "rating     20000263.0  3.525529e+00  1.051989e+00          0.5          0.5   \n",
            "timestamp  20000263.0  1.100918e+09  1.621694e+08  789652004.0  789652004.0   \n",
            "\n",
            "                    5%           50%           95%           99%  \\\n",
            "index_x          145.0  2.083000e+03  1.260300e+04  1.893900e+04   \n",
            "movieId          147.0  2.167000e+03  5.911800e+04  9.420400e+04   \n",
            "index_y      1000013.1  1.000013e+07  1.900025e+07  1.980026e+07   \n",
            "userId          6743.0  6.914100e+04  1.314670e+05  1.370610e+05   \n",
            "rating             1.5  3.500000e+00  5.000000e+00  5.000000e+00   \n",
            "timestamp  842369992.5  1.103556e+09  1.378683e+09  1.422149e+09   \n",
            "\n",
            "                   100%           max  \n",
            "index_x    2.727700e+04  2.727700e+04  \n",
            "movieId    1.312620e+05  1.312620e+05  \n",
            "index_y    2.000026e+07  2.000026e+07  \n",
            "userId     1.384930e+05  1.384930e+05  \n",
            "rating     5.000000e+00  5.000000e+00  \n",
            "timestamp  1.427784e+09  1.427784e+09  \n"
          ]
        }
      ],
      "source": [
        "def check_df(dataframe, head=5):\n",
        "    print('Shape')\n",
        "    print(dataframe.shape)\n",
        "    print('Types')\n",
        "    print(dataframe.dtypes)\n",
        "    print('Head')\n",
        "    print(dataframe.head(head))\n",
        "    print('Tail')\n",
        "    print(dataframe.tail(head))\n",
        "    print('Null Values')\n",
        "    print(dataframe.isnull().sum())\n",
        "    print('Quantiles')\n",
        "    print(dataframe.describe([0, 0.05, 0.50, 0.95, 0.99, 1]).T)\n",
        "\n",
        "check_df(df_merged)"
      ]
    },
    {
      "cell_type": "code",
      "execution_count": 109,
      "id": "DfV12iLJWBUG",
      "metadata": {
        "colab": {
          "base_uri": "https://localhost:8080/",
          "height": 676
        },
        "id": "DfV12iLJWBUG",
        "outputId": "eb098292-2497-4f71-8d0b-d344f9c7907f"
      },
      "outputs": [
        {
          "data": {
            "text/html": [
              "<div>\n",
              "<style scoped>\n",
              "    .dataframe tbody tr th:only-of-type {\n",
              "        vertical-align: middle;\n",
              "    }\n",
              "\n",
              "    .dataframe tbody tr th {\n",
              "        vertical-align: top;\n",
              "    }\n",
              "\n",
              "    .dataframe thead th {\n",
              "        text-align: right;\n",
              "    }\n",
              "</style>\n",
              "<table border=\"1\" class=\"dataframe\">\n",
              "  <thead>\n",
              "    <tr style=\"text-align: right;\">\n",
              "      <th></th>\n",
              "      <th>title</th>\n",
              "      <th>count</th>\n",
              "    </tr>\n",
              "  </thead>\n",
              "  <tbody>\n",
              "    <tr>\n",
              "      <th>0</th>\n",
              "      <td>Pulp Fiction (1994)</td>\n",
              "      <td>67310</td>\n",
              "    </tr>\n",
              "    <tr>\n",
              "      <th>1</th>\n",
              "      <td>Forrest Gump (1994)</td>\n",
              "      <td>66172</td>\n",
              "    </tr>\n",
              "    <tr>\n",
              "      <th>2</th>\n",
              "      <td>Shawshank Redemption, The (1994)</td>\n",
              "      <td>63366</td>\n",
              "    </tr>\n",
              "    <tr>\n",
              "      <th>3</th>\n",
              "      <td>Silence of the Lambs, The (1991)</td>\n",
              "      <td>63299</td>\n",
              "    </tr>\n",
              "    <tr>\n",
              "      <th>4</th>\n",
              "      <td>Jurassic Park (1993)</td>\n",
              "      <td>59715</td>\n",
              "    </tr>\n",
              "    <tr>\n",
              "      <th>5</th>\n",
              "      <td>Star Wars: Episode IV - A New Hope (1977)</td>\n",
              "      <td>54502</td>\n",
              "    </tr>\n",
              "    <tr>\n",
              "      <th>6</th>\n",
              "      <td>Braveheart (1995)</td>\n",
              "      <td>53769</td>\n",
              "    </tr>\n",
              "    <tr>\n",
              "      <th>7</th>\n",
              "      <td>Terminator 2: Judgment Day (1991)</td>\n",
              "      <td>52244</td>\n",
              "    </tr>\n",
              "    <tr>\n",
              "      <th>8</th>\n",
              "      <td>Matrix, The (1999)</td>\n",
              "      <td>51334</td>\n",
              "    </tr>\n",
              "    <tr>\n",
              "      <th>9</th>\n",
              "      <td>Schindler's List (1993)</td>\n",
              "      <td>50054</td>\n",
              "    </tr>\n",
              "    <tr>\n",
              "      <th>10</th>\n",
              "      <td>Toy Story (1995)</td>\n",
              "      <td>49695</td>\n",
              "    </tr>\n",
              "    <tr>\n",
              "      <th>11</th>\n",
              "      <td>Fugitive, The (1993)</td>\n",
              "      <td>49581</td>\n",
              "    </tr>\n",
              "    <tr>\n",
              "      <th>12</th>\n",
              "      <td>Apollo 13 (1995)</td>\n",
              "      <td>47777</td>\n",
              "    </tr>\n",
              "    <tr>\n",
              "      <th>13</th>\n",
              "      <td>Independence Day (a.k.a. ID4) (1996)</td>\n",
              "      <td>47048</td>\n",
              "    </tr>\n",
              "    <tr>\n",
              "      <th>14</th>\n",
              "      <td>Usual Suspects, The (1995)</td>\n",
              "      <td>47006</td>\n",
              "    </tr>\n",
              "    <tr>\n",
              "      <th>15</th>\n",
              "      <td>Star Wars: Episode VI - Return of the Jedi (1983)</td>\n",
              "      <td>46839</td>\n",
              "    </tr>\n",
              "    <tr>\n",
              "      <th>16</th>\n",
              "      <td>Batman (1989)</td>\n",
              "      <td>46054</td>\n",
              "    </tr>\n",
              "    <tr>\n",
              "      <th>17</th>\n",
              "      <td>Star Wars: Episode V - The Empire Strikes Back...</td>\n",
              "      <td>45313</td>\n",
              "    </tr>\n",
              "    <tr>\n",
              "      <th>18</th>\n",
              "      <td>American Beauty (1999)</td>\n",
              "      <td>44987</td>\n",
              "    </tr>\n",
              "    <tr>\n",
              "      <th>19</th>\n",
              "      <td>Twelve Monkeys (a.k.a. 12 Monkeys) (1995)</td>\n",
              "      <td>44980</td>\n",
              "    </tr>\n",
              "  </tbody>\n",
              "</table>\n",
              "</div>"
            ],
            "text/plain": [
              "                                                title  count\n",
              "0                                 Pulp Fiction (1994)  67310\n",
              "1                                 Forrest Gump (1994)  66172\n",
              "2                    Shawshank Redemption, The (1994)  63366\n",
              "3                    Silence of the Lambs, The (1991)  63299\n",
              "4                                Jurassic Park (1993)  59715\n",
              "5           Star Wars: Episode IV - A New Hope (1977)  54502\n",
              "6                                   Braveheart (1995)  53769\n",
              "7                   Terminator 2: Judgment Day (1991)  52244\n",
              "8                                  Matrix, The (1999)  51334\n",
              "9                             Schindler's List (1993)  50054\n",
              "10                                   Toy Story (1995)  49695\n",
              "11                               Fugitive, The (1993)  49581\n",
              "12                                   Apollo 13 (1995)  47777\n",
              "13               Independence Day (a.k.a. ID4) (1996)  47048\n",
              "14                         Usual Suspects, The (1995)  47006\n",
              "15  Star Wars: Episode VI - Return of the Jedi (1983)  46839\n",
              "16                                      Batman (1989)  46054\n",
              "17  Star Wars: Episode V - The Empire Strikes Back...  45313\n",
              "18                             American Beauty (1999)  44987\n",
              "19          Twelve Monkeys (a.k.a. 12 Monkeys) (1995)  44980"
            ]
          },
          "execution_count": 109,
          "metadata": {},
          "output_type": "execute_result"
        }
      ],
      "source": [
        "movie_df_counts = pd.DataFrame(df_merged[\"title\"].value_counts()).reset_index()\n",
        "movie_df_counts.head(20)"
      ]
    },
    {
      "cell_type": "code",
      "execution_count": 111,
      "id": "njapF3f-ftpf",
      "metadata": {
        "colab": {
          "base_uri": "https://localhost:8080/"
        },
        "id": "njapF3f-ftpf",
        "outputId": "7f4d5ca2-4c15-46c5-c81c-72f17d153358"
      },
      "outputs": [
        {
          "ename": "IndexError",
          "evalue": "only integers, slices (`:`), ellipsis (`...`), numpy.newaxis (`None`) and integer or boolean arrays are valid indices",
          "output_type": "error",
          "traceback": [
            "\u001b[1;31m---------------------------------------------------------------------------\u001b[0m",
            "\u001b[1;31mIndexError\u001b[0m                                Traceback (most recent call last)",
            "Cell \u001b[1;32mIn[111], line 3\u001b[0m\n\u001b[0;32m      1\u001b[0m rare_movies \u001b[38;5;241m=\u001b[39m movie_df_counts[movie_df_counts[\u001b[38;5;124m\"\u001b[39m\u001b[38;5;124mcount\u001b[39m\u001b[38;5;124m\"\u001b[39m] \u001b[38;5;241m<\u001b[39m\u001b[38;5;241m=\u001b[39m \u001b[38;5;241m1000\u001b[39m]\u001b[38;5;241m.\u001b[39mindex\n\u001b[0;32m      2\u001b[0m rare_movies\n\u001b[1;32m----> 3\u001b[0m rare_movie_titles \u001b[38;5;241m=\u001b[39m \u001b[43mrare_movies\u001b[49m\u001b[43m[\u001b[49m\u001b[38;5;124;43m'\u001b[39;49m\u001b[38;5;124;43mtitle\u001b[39;49m\u001b[38;5;124;43m'\u001b[39;49m\u001b[43m]\u001b[49m\n",
            "File \u001b[1;32m~\\AppData\\Local\\Packages\\PythonSoftwareFoundation.Python.3.10_qbz5n2kfra8p0\\LocalCache\\local-packages\\Python310\\site-packages\\pandas\\core\\indexes\\base.py:5416\u001b[0m, in \u001b[0;36mIndex.__getitem__\u001b[1;34m(self, key)\u001b[0m\n\u001b[0;32m   5407\u001b[0m         \u001b[38;5;28;01mif\u001b[39;00m \u001b[38;5;28mlen\u001b[39m(key) \u001b[38;5;241m==\u001b[39m \u001b[38;5;241m0\u001b[39m \u001b[38;5;129;01mand\u001b[39;00m \u001b[38;5;28mlen\u001b[39m(key) \u001b[38;5;241m!=\u001b[39m \u001b[38;5;28mlen\u001b[39m(\u001b[38;5;28mself\u001b[39m):\n\u001b[0;32m   5408\u001b[0m             warnings\u001b[38;5;241m.\u001b[39mwarn(\n\u001b[0;32m   5409\u001b[0m                 \u001b[38;5;124m\"\u001b[39m\u001b[38;5;124mUsing a boolean indexer with length 0 on an Index with \u001b[39m\u001b[38;5;124m\"\u001b[39m\n\u001b[0;32m   5410\u001b[0m                 \u001b[38;5;124m\"\u001b[39m\u001b[38;5;124mlength greater than 0 is deprecated and will raise in a \u001b[39m\u001b[38;5;124m\"\u001b[39m\n\u001b[1;32m   (...)\u001b[0m\n\u001b[0;32m   5413\u001b[0m                 stacklevel\u001b[38;5;241m=\u001b[39mfind_stack_level(),\n\u001b[0;32m   5414\u001b[0m             )\n\u001b[1;32m-> 5416\u001b[0m result \u001b[38;5;241m=\u001b[39m \u001b[43mgetitem\u001b[49m\u001b[43m(\u001b[49m\u001b[43mkey\u001b[49m\u001b[43m)\u001b[49m\n\u001b[0;32m   5417\u001b[0m \u001b[38;5;66;03m# Because we ruled out integer above, we always get an arraylike here\u001b[39;00m\n\u001b[0;32m   5418\u001b[0m \u001b[38;5;28;01mif\u001b[39;00m result\u001b[38;5;241m.\u001b[39mndim \u001b[38;5;241m>\u001b[39m \u001b[38;5;241m1\u001b[39m:\n",
            "\u001b[1;31mIndexError\u001b[0m: only integers, slices (`:`), ellipsis (`...`), numpy.newaxis (`None`) and integer or boolean arrays are valid indices"
          ]
        }
      ],
      "source": [
        "rare_movies = movie_df_counts[movie_df_counts[\"count\"] <= 1000].index\n",
        "rare_movies\n",
        "rare_movie_titles = rare_movies['title']"
      ]
    },
    {
      "cell_type": "code",
      "execution_count": null,
      "id": "5AlHfexKftr8",
      "metadata": {
        "id": "5AlHfexKftr8"
      },
      "outputs": [],
      "source": [
        "common_movies = df_merged[~df_merged[\"title\"].isin(rare_movies)]"
      ]
    },
    {
      "cell_type": "code",
      "execution_count": null,
      "id": "IkVKoc8Sftuu",
      "metadata": {
        "colab": {
          "base_uri": "https://localhost:8080/"
        },
        "id": "IkVKoc8Sftuu",
        "outputId": "0a409d39-1eff-4c5e-d115-027c969c3105"
      },
      "outputs": [
        {
          "data": {
            "text/plain": [
              "0"
            ]
          },
          "execution_count": 31,
          "metadata": {},
          "output_type": "execute_result"
        }
      ],
      "source": [
        "common_movies[\"title\"].nunique()"
      ]
    },
    {
      "cell_type": "code",
      "execution_count": null,
      "id": "jI0BGu5gftxY",
      "metadata": {
        "colab": {
          "base_uri": "https://localhost:8080/"
        },
        "id": "jI0BGu5gftxY",
        "outputId": "e4e4edd5-ebcf-4daa-c6ed-60c1a491862d"
      },
      "outputs": [
        {
          "data": {
            "text/plain": [
              "9737"
            ]
          },
          "execution_count": 32,
          "metadata": {},
          "output_type": "execute_result"
        }
      ],
      "source": [
        "df_merged[\"title\"].nunique()"
      ]
    },
    {
      "cell_type": "code",
      "execution_count": null,
      "id": "j0N6QaA9ftz3",
      "metadata": {
        "id": "j0N6QaA9ftz3"
      },
      "outputs": [],
      "source": [
        "user_movie_df = common_movies.pivot_table(index=[\"userId\"], columns=[\"title\"], values=\"rating\")"
      ]
    },
    {
      "cell_type": "code",
      "execution_count": null,
      "id": "w4YNs47af2Cm",
      "metadata": {
        "colab": {
          "base_uri": "https://localhost:8080/"
        },
        "id": "w4YNs47af2Cm",
        "outputId": "7a1c5542-1d0d-4257-a8d3-e7df3943626b"
      },
      "outputs": [
        {
          "data": {
            "text/plain": [
              "(0, 0)"
            ]
          },
          "execution_count": 34,
          "metadata": {},
          "output_type": "execute_result"
        }
      ],
      "source": [
        "user_movie_df.shape"
      ]
    },
    {
      "cell_type": "code",
      "execution_count": null,
      "id": "_sHU9O0wf2FI",
      "metadata": {
        "colab": {
          "base_uri": "https://localhost:8080/"
        },
        "id": "_sHU9O0wf2FI",
        "outputId": "55ce0b0d-ab8e-4bd9-e65f-8a8c2a3ee3f6"
      },
      "outputs": [
        {
          "data": {
            "text/plain": [
              "Index([], dtype='object', name='title')"
            ]
          },
          "execution_count": 35,
          "metadata": {},
          "output_type": "execute_result"
        }
      ],
      "source": [
        "user_movie_df.columns"
      ]
    },
    {
      "cell_type": "code",
      "execution_count": null,
      "id": "JahhMeg5f2Hv",
      "metadata": {
        "id": "JahhMeg5f2Hv"
      },
      "outputs": [],
      "source": [
        "movie_name1 = \"Mission: Impossible (1996)\""
      ]
    },
    {
      "cell_type": "code",
      "execution_count": null,
      "id": "FwZVF0WCf2Kr",
      "metadata": {
        "colab": {
          "base_uri": "https://localhost:8080/",
          "height": 477
        },
        "id": "FwZVF0WCf2Kr",
        "outputId": "679bd603-7b13-4bec-f93f-15e34b42c396"
      },
      "outputs": [
        {
          "ename": "KeyError",
          "evalue": "'Mission: Impossible (1996)'",
          "output_type": "error",
          "traceback": [
            "\u001b[0;31m---------------------------------------------------------------------------\u001b[0m",
            "\u001b[0;31mKeyError\u001b[0m                                  Traceback (most recent call last)",
            "\u001b[0;32m/usr/local/lib/python3.10/dist-packages/pandas/core/indexes/base.py\u001b[0m in \u001b[0;36mget_loc\u001b[0;34m(self, key, method, tolerance)\u001b[0m\n\u001b[1;32m   3801\u001b[0m             \u001b[0;32mtry\u001b[0m\u001b[0;34m:\u001b[0m\u001b[0;34m\u001b[0m\u001b[0;34m\u001b[0m\u001b[0m\n\u001b[0;32m-> 3802\u001b[0;31m                 \u001b[0;32mreturn\u001b[0m \u001b[0mself\u001b[0m\u001b[0;34m.\u001b[0m\u001b[0m_engine\u001b[0m\u001b[0;34m.\u001b[0m\u001b[0mget_loc\u001b[0m\u001b[0;34m(\u001b[0m\u001b[0mcasted_key\u001b[0m\u001b[0;34m)\u001b[0m\u001b[0;34m\u001b[0m\u001b[0;34m\u001b[0m\u001b[0m\n\u001b[0m\u001b[1;32m   3803\u001b[0m             \u001b[0;32mexcept\u001b[0m \u001b[0mKeyError\u001b[0m \u001b[0;32mas\u001b[0m \u001b[0merr\u001b[0m\u001b[0;34m:\u001b[0m\u001b[0;34m\u001b[0m\u001b[0;34m\u001b[0m\u001b[0m\n",
            "\u001b[0;32m/usr/local/lib/python3.10/dist-packages/pandas/_libs/index.pyx\u001b[0m in \u001b[0;36mpandas._libs.index.IndexEngine.get_loc\u001b[0;34m()\u001b[0m\n",
            "\u001b[0;32m/usr/local/lib/python3.10/dist-packages/pandas/_libs/index.pyx\u001b[0m in \u001b[0;36mpandas._libs.index.IndexEngine.get_loc\u001b[0;34m()\u001b[0m\n",
            "\u001b[0;32mpandas/_libs/hashtable_class_helper.pxi\u001b[0m in \u001b[0;36mpandas._libs.hashtable.PyObjectHashTable.get_item\u001b[0;34m()\u001b[0m\n",
            "\u001b[0;32mpandas/_libs/hashtable_class_helper.pxi\u001b[0m in \u001b[0;36mpandas._libs.hashtable.PyObjectHashTable.get_item\u001b[0;34m()\u001b[0m\n",
            "\u001b[0;31mKeyError\u001b[0m: 'Mission: Impossible (1996)'",
            "\nThe above exception was the direct cause of the following exception:\n",
            "\u001b[0;31mKeyError\u001b[0m                                  Traceback (most recent call last)",
            "\u001b[0;32m<ipython-input-37-3cff349ef321>\u001b[0m in \u001b[0;36m<cell line: 1>\u001b[0;34m()\u001b[0m\n\u001b[0;32m----> 1\u001b[0;31m \u001b[0mmovie_name\u001b[0m \u001b[0;34m=\u001b[0m \u001b[0muser_movie_df\u001b[0m\u001b[0;34m[\u001b[0m\u001b[0mmovie_name1\u001b[0m\u001b[0;34m]\u001b[0m\u001b[0;34m\u001b[0m\u001b[0;34m\u001b[0m\u001b[0m\n\u001b[0m",
            "\u001b[0;32m/usr/local/lib/python3.10/dist-packages/pandas/core/frame.py\u001b[0m in \u001b[0;36m__getitem__\u001b[0;34m(self, key)\u001b[0m\n\u001b[1;32m   3805\u001b[0m             \u001b[0;32mif\u001b[0m \u001b[0mself\u001b[0m\u001b[0;34m.\u001b[0m\u001b[0mcolumns\u001b[0m\u001b[0;34m.\u001b[0m\u001b[0mnlevels\u001b[0m \u001b[0;34m>\u001b[0m \u001b[0;36m1\u001b[0m\u001b[0;34m:\u001b[0m\u001b[0;34m\u001b[0m\u001b[0;34m\u001b[0m\u001b[0m\n\u001b[1;32m   3806\u001b[0m                 \u001b[0;32mreturn\u001b[0m \u001b[0mself\u001b[0m\u001b[0;34m.\u001b[0m\u001b[0m_getitem_multilevel\u001b[0m\u001b[0;34m(\u001b[0m\u001b[0mkey\u001b[0m\u001b[0;34m)\u001b[0m\u001b[0;34m\u001b[0m\u001b[0;34m\u001b[0m\u001b[0m\n\u001b[0;32m-> 3807\u001b[0;31m             \u001b[0mindexer\u001b[0m \u001b[0;34m=\u001b[0m \u001b[0mself\u001b[0m\u001b[0;34m.\u001b[0m\u001b[0mcolumns\u001b[0m\u001b[0;34m.\u001b[0m\u001b[0mget_loc\u001b[0m\u001b[0;34m(\u001b[0m\u001b[0mkey\u001b[0m\u001b[0;34m)\u001b[0m\u001b[0;34m\u001b[0m\u001b[0;34m\u001b[0m\u001b[0m\n\u001b[0m\u001b[1;32m   3808\u001b[0m             \u001b[0;32mif\u001b[0m \u001b[0mis_integer\u001b[0m\u001b[0;34m(\u001b[0m\u001b[0mindexer\u001b[0m\u001b[0;34m)\u001b[0m\u001b[0;34m:\u001b[0m\u001b[0;34m\u001b[0m\u001b[0;34m\u001b[0m\u001b[0m\n\u001b[1;32m   3809\u001b[0m                 \u001b[0mindexer\u001b[0m \u001b[0;34m=\u001b[0m \u001b[0;34m[\u001b[0m\u001b[0mindexer\u001b[0m\u001b[0;34m]\u001b[0m\u001b[0;34m\u001b[0m\u001b[0;34m\u001b[0m\u001b[0m\n",
            "\u001b[0;32m/usr/local/lib/python3.10/dist-packages/pandas/core/indexes/base.py\u001b[0m in \u001b[0;36mget_loc\u001b[0;34m(self, key, method, tolerance)\u001b[0m\n\u001b[1;32m   3802\u001b[0m                 \u001b[0;32mreturn\u001b[0m \u001b[0mself\u001b[0m\u001b[0;34m.\u001b[0m\u001b[0m_engine\u001b[0m\u001b[0;34m.\u001b[0m\u001b[0mget_loc\u001b[0m\u001b[0;34m(\u001b[0m\u001b[0mcasted_key\u001b[0m\u001b[0;34m)\u001b[0m\u001b[0;34m\u001b[0m\u001b[0;34m\u001b[0m\u001b[0m\n\u001b[1;32m   3803\u001b[0m             \u001b[0;32mexcept\u001b[0m \u001b[0mKeyError\u001b[0m \u001b[0;32mas\u001b[0m \u001b[0merr\u001b[0m\u001b[0;34m:\u001b[0m\u001b[0;34m\u001b[0m\u001b[0;34m\u001b[0m\u001b[0m\n\u001b[0;32m-> 3804\u001b[0;31m                 \u001b[0;32mraise\u001b[0m \u001b[0mKeyError\u001b[0m\u001b[0;34m(\u001b[0m\u001b[0mkey\u001b[0m\u001b[0;34m)\u001b[0m \u001b[0;32mfrom\u001b[0m \u001b[0merr\u001b[0m\u001b[0;34m\u001b[0m\u001b[0;34m\u001b[0m\u001b[0m\n\u001b[0m\u001b[1;32m   3805\u001b[0m             \u001b[0;32mexcept\u001b[0m \u001b[0mTypeError\u001b[0m\u001b[0;34m:\u001b[0m\u001b[0;34m\u001b[0m\u001b[0;34m\u001b[0m\u001b[0m\n\u001b[1;32m   3806\u001b[0m                 \u001b[0;31m# If we have a listlike key, _check_indexing_error will raise\u001b[0m\u001b[0;34m\u001b[0m\u001b[0;34m\u001b[0m\u001b[0m\n",
            "\u001b[0;31mKeyError\u001b[0m: 'Mission: Impossible (1996)'"
          ]
        }
      ],
      "source": [
        "movie_name = user_movie_df[movie_name1]"
      ]
    },
    {
      "cell_type": "code",
      "execution_count": null,
      "id": "JekgPIk7f2NX",
      "metadata": {
        "colab": {
          "base_uri": "https://localhost:8080/"
        },
        "id": "JekgPIk7f2NX",
        "outputId": "7cc7d3c9-cae9-4c9e-d3d8-615322035e00"
      },
      "outputs": [
        {
          "data": {
            "text/plain": [
              "title\n",
              "Mission: Impossible (1996)                     1.000000\n",
              "Mission: Impossible III (2006)                 0.546713\n",
              "Mission: Impossible II (2000)                  0.505765\n",
              "Mission: Impossible - Ghost Protocol (2011)    0.476099\n",
              "Cocktail (1988)                                0.441352\n",
              "GoldenEye (1995)                               0.426756\n",
              "Tomorrow Never Dies (1997)                     0.418250\n",
              "Top Gun (1986)                                 0.408289\n",
              "World Is Not Enough, The (1999)                0.405434\n",
              "Ocean's Eleven (2001)                          0.400077\n",
              "dtype: float64"
            ]
          },
          "execution_count": 114,
          "metadata": {},
          "output_type": "execute_result"
        }
      ],
      "source": [
        "user_movie_df.corrwith(movie_name).sort_values(ascending=False).head(10)"
      ]
    },
    {
      "cell_type": "code",
      "execution_count": null,
      "id": "cMMUDo4ngBZK",
      "metadata": {
        "id": "cMMUDo4ngBZK"
      },
      "outputs": [],
      "source": [
        "movie_name2 = \"Batman & Robin (1997)\""
      ]
    },
    {
      "cell_type": "code",
      "execution_count": null,
      "id": "FAgG-DtDgBbk",
      "metadata": {
        "colab": {
          "base_uri": "https://localhost:8080/",
          "height": 477
        },
        "id": "FAgG-DtDgBbk",
        "outputId": "2e98db33-879b-40f7-8084-a15dd6b89ce0"
      },
      "outputs": [
        {
          "ename": "KeyError",
          "evalue": "'Batman & Robin (1997)'",
          "output_type": "error",
          "traceback": [
            "\u001b[0;31m---------------------------------------------------------------------------\u001b[0m",
            "\u001b[0;31mKeyError\u001b[0m                                  Traceback (most recent call last)",
            "\u001b[0;32m/usr/local/lib/python3.10/dist-packages/pandas/core/indexes/base.py\u001b[0m in \u001b[0;36mget_loc\u001b[0;34m(self, key, method, tolerance)\u001b[0m\n\u001b[1;32m   3801\u001b[0m             \u001b[0;32mtry\u001b[0m\u001b[0;34m:\u001b[0m\u001b[0;34m\u001b[0m\u001b[0;34m\u001b[0m\u001b[0m\n\u001b[0;32m-> 3802\u001b[0;31m                 \u001b[0;32mreturn\u001b[0m \u001b[0mself\u001b[0m\u001b[0;34m.\u001b[0m\u001b[0m_engine\u001b[0m\u001b[0;34m.\u001b[0m\u001b[0mget_loc\u001b[0m\u001b[0;34m(\u001b[0m\u001b[0mcasted_key\u001b[0m\u001b[0;34m)\u001b[0m\u001b[0;34m\u001b[0m\u001b[0;34m\u001b[0m\u001b[0m\n\u001b[0m\u001b[1;32m   3803\u001b[0m             \u001b[0;32mexcept\u001b[0m \u001b[0mKeyError\u001b[0m \u001b[0;32mas\u001b[0m \u001b[0merr\u001b[0m\u001b[0;34m:\u001b[0m\u001b[0;34m\u001b[0m\u001b[0;34m\u001b[0m\u001b[0m\n",
            "\u001b[0;32m/usr/local/lib/python3.10/dist-packages/pandas/_libs/index.pyx\u001b[0m in \u001b[0;36mpandas._libs.index.IndexEngine.get_loc\u001b[0;34m()\u001b[0m\n",
            "\u001b[0;32m/usr/local/lib/python3.10/dist-packages/pandas/_libs/index.pyx\u001b[0m in \u001b[0;36mpandas._libs.index.IndexEngine.get_loc\u001b[0;34m()\u001b[0m\n",
            "\u001b[0;32mpandas/_libs/hashtable_class_helper.pxi\u001b[0m in \u001b[0;36mpandas._libs.hashtable.PyObjectHashTable.get_item\u001b[0;34m()\u001b[0m\n",
            "\u001b[0;32mpandas/_libs/hashtable_class_helper.pxi\u001b[0m in \u001b[0;36mpandas._libs.hashtable.PyObjectHashTable.get_item\u001b[0;34m()\u001b[0m\n",
            "\u001b[0;31mKeyError\u001b[0m: 'Batman & Robin (1997)'",
            "\nThe above exception was the direct cause of the following exception:\n",
            "\u001b[0;31mKeyError\u001b[0m                                  Traceback (most recent call last)",
            "\u001b[0;32m<ipython-input-39-ab2fa9c025ad>\u001b[0m in \u001b[0;36m<cell line: 1>\u001b[0;34m()\u001b[0m\n\u001b[0;32m----> 1\u001b[0;31m \u001b[0mmovie_name\u001b[0m \u001b[0;34m=\u001b[0m \u001b[0muser_movie_df\u001b[0m\u001b[0;34m[\u001b[0m\u001b[0mmovie_name2\u001b[0m\u001b[0;34m]\u001b[0m\u001b[0;34m\u001b[0m\u001b[0;34m\u001b[0m\u001b[0m\n\u001b[0m",
            "\u001b[0;32m/usr/local/lib/python3.10/dist-packages/pandas/core/frame.py\u001b[0m in \u001b[0;36m__getitem__\u001b[0;34m(self, key)\u001b[0m\n\u001b[1;32m   3805\u001b[0m             \u001b[0;32mif\u001b[0m \u001b[0mself\u001b[0m\u001b[0;34m.\u001b[0m\u001b[0mcolumns\u001b[0m\u001b[0;34m.\u001b[0m\u001b[0mnlevels\u001b[0m \u001b[0;34m>\u001b[0m \u001b[0;36m1\u001b[0m\u001b[0;34m:\u001b[0m\u001b[0;34m\u001b[0m\u001b[0;34m\u001b[0m\u001b[0m\n\u001b[1;32m   3806\u001b[0m                 \u001b[0;32mreturn\u001b[0m \u001b[0mself\u001b[0m\u001b[0;34m.\u001b[0m\u001b[0m_getitem_multilevel\u001b[0m\u001b[0;34m(\u001b[0m\u001b[0mkey\u001b[0m\u001b[0;34m)\u001b[0m\u001b[0;34m\u001b[0m\u001b[0;34m\u001b[0m\u001b[0m\n\u001b[0;32m-> 3807\u001b[0;31m             \u001b[0mindexer\u001b[0m \u001b[0;34m=\u001b[0m \u001b[0mself\u001b[0m\u001b[0;34m.\u001b[0m\u001b[0mcolumns\u001b[0m\u001b[0;34m.\u001b[0m\u001b[0mget_loc\u001b[0m\u001b[0;34m(\u001b[0m\u001b[0mkey\u001b[0m\u001b[0;34m)\u001b[0m\u001b[0;34m\u001b[0m\u001b[0;34m\u001b[0m\u001b[0m\n\u001b[0m\u001b[1;32m   3808\u001b[0m             \u001b[0;32mif\u001b[0m \u001b[0mis_integer\u001b[0m\u001b[0;34m(\u001b[0m\u001b[0mindexer\u001b[0m\u001b[0;34m)\u001b[0m\u001b[0;34m:\u001b[0m\u001b[0;34m\u001b[0m\u001b[0;34m\u001b[0m\u001b[0m\n\u001b[1;32m   3809\u001b[0m                 \u001b[0mindexer\u001b[0m \u001b[0;34m=\u001b[0m \u001b[0;34m[\u001b[0m\u001b[0mindexer\u001b[0m\u001b[0;34m]\u001b[0m\u001b[0;34m\u001b[0m\u001b[0;34m\u001b[0m\u001b[0m\n",
            "\u001b[0;32m/usr/local/lib/python3.10/dist-packages/pandas/core/indexes/base.py\u001b[0m in \u001b[0;36mget_loc\u001b[0;34m(self, key, method, tolerance)\u001b[0m\n\u001b[1;32m   3802\u001b[0m                 \u001b[0;32mreturn\u001b[0m \u001b[0mself\u001b[0m\u001b[0;34m.\u001b[0m\u001b[0m_engine\u001b[0m\u001b[0;34m.\u001b[0m\u001b[0mget_loc\u001b[0m\u001b[0;34m(\u001b[0m\u001b[0mcasted_key\u001b[0m\u001b[0;34m)\u001b[0m\u001b[0;34m\u001b[0m\u001b[0;34m\u001b[0m\u001b[0m\n\u001b[1;32m   3803\u001b[0m             \u001b[0;32mexcept\u001b[0m \u001b[0mKeyError\u001b[0m \u001b[0;32mas\u001b[0m \u001b[0merr\u001b[0m\u001b[0;34m:\u001b[0m\u001b[0;34m\u001b[0m\u001b[0;34m\u001b[0m\u001b[0m\n\u001b[0;32m-> 3804\u001b[0;31m                 \u001b[0;32mraise\u001b[0m \u001b[0mKeyError\u001b[0m\u001b[0;34m(\u001b[0m\u001b[0mkey\u001b[0m\u001b[0;34m)\u001b[0m \u001b[0;32mfrom\u001b[0m \u001b[0merr\u001b[0m\u001b[0;34m\u001b[0m\u001b[0;34m\u001b[0m\u001b[0m\n\u001b[0m\u001b[1;32m   3805\u001b[0m             \u001b[0;32mexcept\u001b[0m \u001b[0mTypeError\u001b[0m\u001b[0;34m:\u001b[0m\u001b[0;34m\u001b[0m\u001b[0;34m\u001b[0m\u001b[0m\n\u001b[1;32m   3806\u001b[0m                 \u001b[0;31m# If we have a listlike key, _check_indexing_error will raise\u001b[0m\u001b[0;34m\u001b[0m\u001b[0;34m\u001b[0m\u001b[0m\n",
            "\u001b[0;31mKeyError\u001b[0m: 'Batman & Robin (1997)'"
          ]
        }
      ],
      "source": [
        "movie_name = user_movie_df[movie_name2]"
      ]
    },
    {
      "cell_type": "code",
      "execution_count": null,
      "id": "PtFt5oMDgBeG",
      "metadata": {
        "colab": {
          "base_uri": "https://localhost:8080/"
        },
        "id": "PtFt5oMDgBeG",
        "outputId": "29d8d4fe-3f23-4725-84e8-410a31305e8a"
      },
      "outputs": [
        {
          "data": {
            "text/plain": [
              "title\n",
              "Batman & Robin (1997)                      1.000000\n",
              "Batman Forever (1995)                      0.620899\n",
              "Catwoman (2004)                            0.620201\n",
              "First Kid (1996)                           0.572027\n",
              "Man of the House (1995)                    0.541543\n",
              "Speed 2: Cruise Control (1997)             0.538331\n",
              "Superman IV: The Quest for Peace (1987)    0.517121\n",
              "D3: The Mighty Ducks (1996)                0.515045\n",
              "Jack Frost (1998)                          0.513860\n",
              "Universal Soldier: The Return (1999)       0.513829\n",
              "dtype: float64"
            ]
          },
          "execution_count": 117,
          "metadata": {},
          "output_type": "execute_result"
        }
      ],
      "source": [
        "user_movie_df.corrwith(movie_name).sort_values(ascending=False).head(10)"
      ]
    },
    {
      "cell_type": "markdown",
      "id": "Z2j8OwzPRlLT",
      "metadata": {
        "id": "Z2j8OwzPRlLT"
      },
      "source": [
        "Evaluation metrics for Cosine similarity and pearson correlation using KNN"
      ]
    },
    {
      "cell_type": "code",
      "execution_count": 112,
      "id": "7WUR7ICTOtXd",
      "metadata": {
        "colab": {
          "base_uri": "https://localhost:8080/"
        },
        "id": "7WUR7ICTOtXd",
        "outputId": "e4087b1e-8576-4f86-d184-a2f270be7a08"
      },
      "outputs": [
        {
          "name": "stdout",
          "output_type": "stream",
          "text": [
            "Computing the cosine similarity matrix...\n",
            "Done computing similarity matrix.\n",
            "RMSE: 0.9288\n",
            "RMSE: 0.9288392389198071\n",
            "nDCG: 0.9820627394940449\n"
          ]
        }
      ],
      "source": [
        "import pandas as pd\n",
        "from surprise import Reader, Dataset, KNNBasic\n",
        "from surprise.model_selection import train_test_split\n",
        "import numpy as np\n",
        "\n",
        "# Load data\n",
        "movies = pd.read_csv('ml-20m/ml-20m/movies.csv')\n",
        "ratings = pd.read_csv('ml-20m/ml-20m/ratings.csv')\n",
        "df = pd.merge(ratings, movies, on='movieId')\n",
        "\n",
        "# Create Surprise dataset\n",
        "reader = Reader(rating_scale=(1, 5))\n",
        "data = Dataset.load_from_df(df[['userId', 'movieId', 'rating']], reader)\n",
        "\n",
        "# Train-test split\n",
        "trainset, testset = train_test_split(data, test_size=0.25)\n",
        "\n",
        "# Train item-based collaborative filtering model\n",
        "sim_options = {'name': 'cosine', 'user_based': False}\n",
        "model = KNNBasic(sim_options=sim_options)\n",
        "model.fit(trainset)\n",
        "\n",
        "# Generate predictions\n",
        "predictions = model.test(testset)\n",
        "\n",
        "# Calculate RMSE\n",
        "from surprise import accuracy\n",
        "rmse = accuracy.rmse(predictions)\n",
        "print(f\"RMSE: {rmse}\")\n",
        "\n",
        "# Calculate nDCG\n",
        "def ndcg_at_k(y_true, y_score, k):\n",
        "    order = np.argsort(y_score)[::-1]\n",
        "    y_true = np.take(y_true, order[:k])\n",
        "    dcg = np.sum((2 ** y_true - 1) / np.log2(np.arange(2, y_true.size + 2)))\n",
        "    ideal_order = np.argsort(y_true)[::-1]\n",
        "    ideal_dcg = np.sum((2 ** np.take(y_true, ideal_order) - 1) / np.log2(np.arange(2, y_true.size + 2)))\n",
        "    ndcg = dcg / ideal_dcg if ideal_dcg > 0 else 0\n",
        "    return ndcg\n",
        "\n",
        "nDCG_values = []\n",
        "for user_id in df['userId'].unique():\n",
        "    user_ratings = df[df['userId'] == user_id]\n",
        "    user_movie_ratings = [(row['movieId'], row['rating']) for index, row in user_ratings.iterrows()]\n",
        "    user_movie_ratings.sort(key=lambda x: x[1], reverse=True)\n",
        "\n",
        "    top_k_movies = [movie for movie, _ in user_movie_ratings[:10]]\n",
        "    top_k_predictions = [model.predict(user_id, movie).est for movie in top_k_movies]\n",
        "    top_k_actual_ratings = [rating for _, rating in user_movie_ratings[:10]]\n",
        "\n",
        "    nDCG = ndcg_at_k(top_k_actual_ratings, top_k_predictions, k=10)\n",
        "    nDCG_values.append(nDCG)\n",
        "\n",
        "mean_nDCG = np.mean(nDCG_values)\n",
        "print(\"nDCG:\", mean_nDCG)"
      ]
    },
    {
      "cell_type": "code",
      "execution_count": 113,
      "id": "0JnJKLZCOtUA",
      "metadata": {
        "colab": {
          "base_uri": "https://localhost:8080/"
        },
        "id": "0JnJKLZCOtUA",
        "outputId": "d4cfa85f-e34e-4017-925d-9d59a392e481"
      },
      "outputs": [
        {
          "name": "stdout",
          "output_type": "stream",
          "text": [
            "Computing the pearson similarity matrix...\n"
          ]
        },
        {
          "ename": "MemoryError",
          "evalue": "Unable to allocate 4.88 GiB for an array with shape (25588, 25588) and data type float64",
          "output_type": "error",
          "traceback": [
            "\u001b[1;31m---------------------------------------------------------------------------\u001b[0m",
            "\u001b[1;31mMemoryError\u001b[0m                               Traceback (most recent call last)",
            "Cell \u001b[1;32mIn[113], line 21\u001b[0m\n\u001b[0;32m     19\u001b[0m sim_options \u001b[38;5;241m=\u001b[39m {\u001b[38;5;124m'\u001b[39m\u001b[38;5;124mname\u001b[39m\u001b[38;5;124m'\u001b[39m: \u001b[38;5;124m'\u001b[39m\u001b[38;5;124mpearson\u001b[39m\u001b[38;5;124m'\u001b[39m, \u001b[38;5;124m'\u001b[39m\u001b[38;5;124muser_based\u001b[39m\u001b[38;5;124m'\u001b[39m: \u001b[38;5;28;01mFalse\u001b[39;00m}\n\u001b[0;32m     20\u001b[0m model \u001b[38;5;241m=\u001b[39m KNNBasic(sim_options\u001b[38;5;241m=\u001b[39msim_options)\n\u001b[1;32m---> 21\u001b[0m \u001b[43mmodel\u001b[49m\u001b[38;5;241;43m.\u001b[39;49m\u001b[43mfit\u001b[49m\u001b[43m(\u001b[49m\u001b[43mtrainset\u001b[49m\u001b[43m)\u001b[49m\n\u001b[0;32m     23\u001b[0m \u001b[38;5;66;03m# Generate predictions\u001b[39;00m\n\u001b[0;32m     24\u001b[0m predictions \u001b[38;5;241m=\u001b[39m model\u001b[38;5;241m.\u001b[39mtest(testset)\n",
            "File \u001b[1;32m~\\AppData\\Local\\Packages\\PythonSoftwareFoundation.Python.3.10_qbz5n2kfra8p0\\LocalCache\\local-packages\\Python310\\site-packages\\surprise\\prediction_algorithms\\knns.py:98\u001b[0m, in \u001b[0;36mKNNBasic.fit\u001b[1;34m(self, trainset)\u001b[0m\n\u001b[0;32m     95\u001b[0m \u001b[38;5;28;01mdef\u001b[39;00m \u001b[38;5;21mfit\u001b[39m(\u001b[38;5;28mself\u001b[39m, trainset):\n\u001b[0;32m     97\u001b[0m     SymmetricAlgo\u001b[38;5;241m.\u001b[39mfit(\u001b[38;5;28mself\u001b[39m, trainset)\n\u001b[1;32m---> 98\u001b[0m     \u001b[38;5;28mself\u001b[39m\u001b[38;5;241m.\u001b[39msim \u001b[38;5;241m=\u001b[39m \u001b[38;5;28;43mself\u001b[39;49m\u001b[38;5;241;43m.\u001b[39;49m\u001b[43mcompute_similarities\u001b[49m\u001b[43m(\u001b[49m\u001b[43m)\u001b[49m\n\u001b[0;32m    100\u001b[0m     \u001b[38;5;28;01mreturn\u001b[39;00m \u001b[38;5;28mself\u001b[39m\n",
            "File \u001b[1;32m~\\AppData\\Local\\Packages\\PythonSoftwareFoundation.Python.3.10_qbz5n2kfra8p0\\LocalCache\\local-packages\\Python310\\site-packages\\surprise\\prediction_algorithms\\algo_base.py:248\u001b[0m, in \u001b[0;36mAlgoBase.compute_similarities\u001b[1;34m(self)\u001b[0m\n\u001b[0;32m    246\u001b[0m \u001b[38;5;28;01mif\u001b[39;00m \u001b[38;5;28mgetattr\u001b[39m(\u001b[38;5;28mself\u001b[39m, \u001b[38;5;124m\"\u001b[39m\u001b[38;5;124mverbose\u001b[39m\u001b[38;5;124m\"\u001b[39m, \u001b[38;5;28;01mFalse\u001b[39;00m):\n\u001b[0;32m    247\u001b[0m     \u001b[38;5;28mprint\u001b[39m(\u001b[38;5;124mf\u001b[39m\u001b[38;5;124m\"\u001b[39m\u001b[38;5;124mComputing the \u001b[39m\u001b[38;5;132;01m{\u001b[39;00mname\u001b[38;5;132;01m}\u001b[39;00m\u001b[38;5;124m similarity matrix...\u001b[39m\u001b[38;5;124m\"\u001b[39m)\n\u001b[1;32m--> 248\u001b[0m sim \u001b[38;5;241m=\u001b[39m \u001b[43mconstruction_func\u001b[49m\u001b[43m[\u001b[49m\u001b[43mname\u001b[49m\u001b[43m]\u001b[49m\u001b[43m(\u001b[49m\u001b[38;5;241;43m*\u001b[39;49m\u001b[43margs\u001b[49m\u001b[43m)\u001b[49m\n\u001b[0;32m    249\u001b[0m \u001b[38;5;28;01mif\u001b[39;00m \u001b[38;5;28mgetattr\u001b[39m(\u001b[38;5;28mself\u001b[39m, \u001b[38;5;124m\"\u001b[39m\u001b[38;5;124mverbose\u001b[39m\u001b[38;5;124m\"\u001b[39m, \u001b[38;5;28;01mFalse\u001b[39;00m):\n\u001b[0;32m    250\u001b[0m     \u001b[38;5;28mprint\u001b[39m(\u001b[38;5;124m\"\u001b[39m\u001b[38;5;124mDone computing similarity matrix.\u001b[39m\u001b[38;5;124m\"\u001b[39m)\n",
            "File \u001b[1;32m~\\AppData\\Local\\Packages\\PythonSoftwareFoundation.Python.3.10_qbz5n2kfra8p0\\LocalCache\\local-packages\\Python310\\site-packages\\surprise\\similarities.pyx:197\u001b[0m, in \u001b[0;36msurprise.similarities.pearson\u001b[1;34m()\u001b[0m\n",
            "\u001b[1;31mMemoryError\u001b[0m: Unable to allocate 4.88 GiB for an array with shape (25588, 25588) and data type float64"
          ]
        }
      ],
      "source": [
        "import pandas as pd\n",
        "from surprise import Reader, Dataset, KNNBasic\n",
        "from surprise.model_selection import train_test_split\n",
        "import numpy as np\n",
        "\n",
        "# Load data\n",
        "movies = pd.read_csv('ml-20m/ml-20m/movies.csv')\n",
        "ratings = pd.read_csv('ml-20m/ml-20m/ratings.csv')\n",
        "df = pd.merge(ratings, movies, on='movieId')\n",
        "\n",
        "# Create Surprise dataset\n",
        "reader = Reader(rating_scale=(1, 5))\n",
        "data = Dataset.load_from_df(df[['userId', 'movieId', 'rating']], reader)\n",
        "\n",
        "# Train-test split\n",
        "trainset, testset = train_test_split(data, test_size=0.25)\n",
        "\n",
        "# Train item-based collaborative filtering model\n",
        "sim_options = {'name': 'pearson', 'user_based': False}\n",
        "model = KNNBasic(sim_options=sim_options)\n",
        "model.fit(trainset)\n",
        "\n",
        "# Generate predictions\n",
        "predictions = model.test(testset)\n",
        "\n",
        "# Calculate RMSE\n",
        "from surprise import accuracy\n",
        "rmse = accuracy.rmse(predictions)\n",
        "print(f\"RMSE: {rmse}\")\n",
        "\n",
        "# Calculate nDCG\n",
        "def ndcg_at_k(y_true, y_score, k):\n",
        "    order = np.argsort(y_score)[::-1]\n",
        "    y_true = np.take(y_true, order[:k])\n",
        "    dcg = np.sum((2 ** y_true - 1) / np.log2(np.arange(2, y_true.size + 2)))\n",
        "    ideal_order = np.argsort(y_true)[::-1]\n",
        "    ideal_dcg = np.sum((2 ** np.take(y_true, ideal_order) - 1) / np.log2(np.arange(2, y_true.size + 2)))\n",
        "    ndcg = dcg / ideal_dcg if ideal_dcg > 0 else 0\n",
        "    return ndcg\n",
        "\n",
        "nDCG_values = []\n",
        "for user_id in df['userId'].unique():\n",
        "    user_ratings = df[df['userId'] == user_id]\n",
        "    user_movie_ratings = [(row['movieId'], row['rating']) for index, row in user_ratings.iterrows()]\n",
        "    user_movie_ratings.sort(key=lambda x: x[1], reverse=True)\n",
        "\n",
        "    top_k_movies = [movie for movie, _ in user_movie_ratings[:10]]\n",
        "    top_k_predictions = [model.predict(user_id, movie).est for movie in top_k_movies]\n",
        "    top_k_actual_ratings = [rating for _, rating in user_movie_ratings[:10]]\n",
        "\n",
        "    nDCG = ndcg_at_k(top_k_actual_ratings, top_k_predictions, k=10)\n",
        "    nDCG_values.append(nDCG)\n",
        "\n",
        "mean_nDCG = np.mean(nDCG_values)\n",
        "print(\"nDCG:\", mean_nDCG)"
      ]
    },
    {
      "cell_type": "markdown",
      "id": "o89rxe-2oeWR",
      "metadata": {
        "id": "o89rxe-2oeWR"
      },
      "source": []
    },
    {
      "cell_type": "markdown",
      "id": "uI92E_UzobzO",
      "metadata": {
        "id": "uI92E_UzobzO"
      },
      "source": [
        "\n",
        "\n"
      ]
    },
    {
      "cell_type": "code",
      "execution_count": null,
      "id": "lc0F_oSHobYl",
      "metadata": {
        "id": "lc0F_oSHobYl"
      },
      "outputs": [],
      "source": []
    },
    {
      "cell_type": "code",
      "execution_count": null,
      "id": "czixaYelYWkp",
      "metadata": {
        "id": "czixaYelYWkp"
      },
      "outputs": [],
      "source": []
    },
    {
      "cell_type": "code",
      "execution_count": null,
      "id": "IK0GqlEePMhA",
      "metadata": {
        "id": "IK0GqlEePMhA"
      },
      "outputs": [],
      "source": []
    },
    {
      "cell_type": "markdown",
      "id": "t6rxkrqZliEO",
      "metadata": {
        "id": "t6rxkrqZliEO"
      },
      "source": [
        "## **Deep Learning based Recommendation System**\n",
        "\n",
        "\n"
      ]
    },
    {
      "cell_type": "markdown",
      "id": "-ydDNL3fi7VC",
      "metadata": {
        "id": "-ydDNL3fi7VC"
      },
      "source": [
        "**Explanation**\n",
        "\n",
        "* Implicit feedback - Indirect feedback is gathered via user interactions and serves as a substitute for user preference. Videos you view on YouTube, for example, are utilized as implicit feedback to customize suggestions to you, even if you don't rate the videos directly.​\n",
        "\n",
        "* Implicit feedback also allows us to tailor recommendations in real time, with every click and interaction​\n",
        "\n",
        "* The Neural Network-based Collaborative Filtering (CF) model employs a deep learning method for recommendation systems. ​\n",
        "\n",
        "* Using implicit feedback, we will train a recommender system. We siimply binarize the ratings such that they are '1' (i.e. positive class) to transform this dataset into an implicit feedback dataset. The number '1' indicates that the user watched the movie.​\n",
        "\n",
        "* This approach represents users and items as embeddings, which are low-dimensional vectors that capture their attributes. ​\n",
        "\n",
        "* The embeddings of the user and items are fed into a neural network, which learns to predict ratings based on these embeddings. ​\n",
        "\n",
        "* When compared to standard matrix factorization algorithms, our method captures complicated and non-linear interactions between users and things, resulting in more accurate suggestions.​\n",
        "\n",
        "\n",
        "\n"
      ]
    },
    {
      "cell_type": "code",
      "execution_count": 114,
      "id": "dKOaYHFtgJZK",
      "metadata": {
        "id": "dKOaYHFtgJZK"
      },
      "outputs": [],
      "source": [
        "np.random.seed(123)"
      ]
    },
    {
      "cell_type": "code",
      "execution_count": 115,
      "id": "JOfssCLRgJb0",
      "metadata": {
        "id": "JOfssCLRgJb0"
      },
      "outputs": [
        {
          "name": "stderr",
          "output_type": "stream",
          "text": [
            "C:\\Users\\harsh\\AppData\\Local\\Temp\\ipykernel_26328\\1556436979.py:1: UserWarning: Could not infer format, so each element will be parsed individually, falling back to `dateutil`. To ensure parsing is consistent and as-expected, please specify a format.\n",
            "  ratings_2 = pd.read_csv('ml-20m/ml-20m/ratings.csv', parse_dates=['timestamp'])\n"
          ]
        }
      ],
      "source": [
        "ratings_2 = pd.read_csv('ml-20m/ml-20m/ratings.csv', parse_dates=['timestamp'])"
      ]
    },
    {
      "cell_type": "code",
      "execution_count": 116,
      "id": "3UMR-kXmgJeO",
      "metadata": {
        "colab": {
          "base_uri": "https://localhost:8080/"
        },
        "id": "3UMR-kXmgJeO",
        "outputId": "26979bde-f282-4c0d-fc90-441956d5a48e"
      },
      "outputs": [
        {
          "name": "stdout",
          "output_type": "stream",
          "text": [
            "There are 6027314 rows of data from 41547 users\n"
          ]
        }
      ],
      "source": [
        "rand_user = np.random.choice(ratings_2['userId'].unique(),size=int(len(ratings_2['userId'].unique())*0.3),replace=False)\n",
        "\n",
        "ratings_2 = ratings_2.loc[ratings_2['userId'].isin(rand_user)]\n",
        "\n",
        "print('There are {} rows of data from {} users'.format(len(ratings_2), len(rand_user)))"
      ]
    },
    {
      "cell_type": "code",
      "execution_count": 117,
      "id": "de2-YGwIm7v6",
      "metadata": {
        "colab": {
          "base_uri": "https://localhost:8080/",
          "height": 363
        },
        "id": "de2-YGwIm7v6",
        "outputId": "6bdc9bcd-650e-4ba1-fec0-62598e474aef"
      },
      "outputs": [
        {
          "data": {
            "text/html": [
              "<div>\n",
              "<style scoped>\n",
              "    .dataframe tbody tr th:only-of-type {\n",
              "        vertical-align: middle;\n",
              "    }\n",
              "\n",
              "    .dataframe tbody tr th {\n",
              "        vertical-align: top;\n",
              "    }\n",
              "\n",
              "    .dataframe thead th {\n",
              "        text-align: right;\n",
              "    }\n",
              "</style>\n",
              "<table border=\"1\" class=\"dataframe\">\n",
              "  <thead>\n",
              "    <tr style=\"text-align: right;\">\n",
              "      <th></th>\n",
              "      <th>userId</th>\n",
              "      <th>movieId</th>\n",
              "      <th>rating</th>\n",
              "      <th>timestamp</th>\n",
              "    </tr>\n",
              "  </thead>\n",
              "  <tbody>\n",
              "    <tr>\n",
              "      <th>3840312</th>\n",
              "      <td>26182</td>\n",
              "      <td>3704</td>\n",
              "      <td>4.0</td>\n",
              "      <td>1170280612</td>\n",
              "    </tr>\n",
              "    <tr>\n",
              "      <th>7608731</th>\n",
              "      <td>52439</td>\n",
              "      <td>3365</td>\n",
              "      <td>4.0</td>\n",
              "      <td>1079856176</td>\n",
              "    </tr>\n",
              "    <tr>\n",
              "      <th>19363634</th>\n",
              "      <td>134060</td>\n",
              "      <td>1027</td>\n",
              "      <td>3.0</td>\n",
              "      <td>1058309025</td>\n",
              "    </tr>\n",
              "    <tr>\n",
              "      <th>17181947</th>\n",
              "      <td>118860</td>\n",
              "      <td>2629</td>\n",
              "      <td>1.0</td>\n",
              "      <td>1196371628</td>\n",
              "    </tr>\n",
              "    <tr>\n",
              "      <th>9344779</th>\n",
              "      <td>64638</td>\n",
              "      <td>4723</td>\n",
              "      <td>2.0</td>\n",
              "      <td>1000152701</td>\n",
              "    </tr>\n",
              "    <tr>\n",
              "      <th>10356404</th>\n",
              "      <td>71637</td>\n",
              "      <td>3882</td>\n",
              "      <td>0.5</td>\n",
              "      <td>1077241733</td>\n",
              "    </tr>\n",
              "    <tr>\n",
              "      <th>962965</th>\n",
              "      <td>6460</td>\n",
              "      <td>11</td>\n",
              "      <td>4.0</td>\n",
              "      <td>845988812</td>\n",
              "    </tr>\n",
              "    <tr>\n",
              "      <th>12014375</th>\n",
              "      <td>82949</td>\n",
              "      <td>54001</td>\n",
              "      <td>4.5</td>\n",
              "      <td>1281112765</td>\n",
              "    </tr>\n",
              "    <tr>\n",
              "      <th>10532053</th>\n",
              "      <td>72855</td>\n",
              "      <td>7158</td>\n",
              "      <td>2.5</td>\n",
              "      <td>1311556078</td>\n",
              "    </tr>\n",
              "    <tr>\n",
              "      <th>18710288</th>\n",
              "      <td>129551</td>\n",
              "      <td>1228</td>\n",
              "      <td>4.5</td>\n",
              "      <td>1182989862</td>\n",
              "    </tr>\n",
              "  </tbody>\n",
              "</table>\n",
              "</div>"
            ],
            "text/plain": [
              "          userId  movieId  rating   timestamp\n",
              "3840312    26182     3704     4.0  1170280612\n",
              "7608731    52439     3365     4.0  1079856176\n",
              "19363634  134060     1027     3.0  1058309025\n",
              "17181947  118860     2629     1.0  1196371628\n",
              "9344779    64638     4723     2.0  1000152701\n",
              "10356404   71637     3882     0.5  1077241733\n",
              "962965      6460       11     4.0   845988812\n",
              "12014375   82949    54001     4.5  1281112765\n",
              "10532053   72855     7158     2.5  1311556078\n",
              "18710288  129551     1228     4.5  1182989862"
            ]
          },
          "execution_count": 117,
          "metadata": {},
          "output_type": "execute_result"
        }
      ],
      "source": [
        "ratings_2.sample(10)"
      ]
    },
    {
      "cell_type": "code",
      "execution_count": 118,
      "id": "qxbzlev8m7yT",
      "metadata": {
        "id": "qxbzlev8m7yT"
      },
      "outputs": [],
      "source": [
        "ratings_2['rank_latest'] = ratings_2.groupby(['userId'])['timestamp'] \\\n",
        "                                .rank(method='first', ascending=False)\n",
        "\n",
        "train_ratings = ratings_2[ratings_2['rank_latest'] != 1]\n",
        "test_ratings = ratings_2[ratings_2['rank_latest'] == 1]\n",
        "\n",
        "\n",
        "train_ratings = train_ratings[['userId', 'movieId', 'rating']]\n",
        "test_ratings = test_ratings[['userId', 'movieId', 'rating']]"
      ]
    },
    {
      "cell_type": "code",
      "execution_count": 119,
      "id": "cGaRZ377m70s",
      "metadata": {
        "colab": {
          "base_uri": "https://localhost:8080/",
          "height": 418
        },
        "id": "cGaRZ377m70s",
        "outputId": "75375ad1-99f4-4ce8-e73a-07c8f878b07f"
      },
      "outputs": [
        {
          "data": {
            "text/html": [
              "<div>\n",
              "<style scoped>\n",
              "    .dataframe tbody tr th:only-of-type {\n",
              "        vertical-align: middle;\n",
              "    }\n",
              "\n",
              "    .dataframe tbody tr th {\n",
              "        vertical-align: top;\n",
              "    }\n",
              "\n",
              "    .dataframe thead th {\n",
              "        text-align: right;\n",
              "    }\n",
              "</style>\n",
              "<table border=\"1\" class=\"dataframe\">\n",
              "  <thead>\n",
              "    <tr style=\"text-align: right;\">\n",
              "      <th></th>\n",
              "      <th>userId</th>\n",
              "      <th>movieId</th>\n",
              "      <th>rating</th>\n",
              "    </tr>\n",
              "  </thead>\n",
              "  <tbody>\n",
              "    <tr>\n",
              "      <th>3411906</th>\n",
              "      <td>23263</td>\n",
              "      <td>5481</td>\n",
              "      <td>1.0</td>\n",
              "    </tr>\n",
              "    <tr>\n",
              "      <th>1815983</th>\n",
              "      <td>12245</td>\n",
              "      <td>5464</td>\n",
              "      <td>1.0</td>\n",
              "    </tr>\n",
              "    <tr>\n",
              "      <th>16198592</th>\n",
              "      <td>112109</td>\n",
              "      <td>6</td>\n",
              "      <td>1.0</td>\n",
              "    </tr>\n",
              "    <tr>\n",
              "      <th>13914487</th>\n",
              "      <td>96124</td>\n",
              "      <td>1247</td>\n",
              "      <td>1.0</td>\n",
              "    </tr>\n",
              "    <tr>\n",
              "      <th>1445807</th>\n",
              "      <td>9790</td>\n",
              "      <td>1690</td>\n",
              "      <td>1.0</td>\n",
              "    </tr>\n",
              "    <tr>\n",
              "      <th>11467559</th>\n",
              "      <td>79181</td>\n",
              "      <td>1757</td>\n",
              "      <td>1.0</td>\n",
              "    </tr>\n",
              "    <tr>\n",
              "      <th>1764803</th>\n",
              "      <td>11940</td>\n",
              "      <td>5673</td>\n",
              "      <td>1.0</td>\n",
              "    </tr>\n",
              "    <tr>\n",
              "      <th>18402598</th>\n",
              "      <td>127366</td>\n",
              "      <td>64839</td>\n",
              "      <td>1.0</td>\n",
              "    </tr>\n",
              "    <tr>\n",
              "      <th>1029887</th>\n",
              "      <td>6976</td>\n",
              "      <td>69746</td>\n",
              "      <td>1.0</td>\n",
              "    </tr>\n",
              "    <tr>\n",
              "      <th>4867506</th>\n",
              "      <td>33444</td>\n",
              "      <td>1960</td>\n",
              "      <td>1.0</td>\n",
              "    </tr>\n",
              "  </tbody>\n",
              "</table>\n",
              "</div>"
            ],
            "text/plain": [
              "          userId  movieId  rating\n",
              "3411906    23263     5481     1.0\n",
              "1815983    12245     5464     1.0\n",
              "16198592  112109        6     1.0\n",
              "13914487   96124     1247     1.0\n",
              "1445807     9790     1690     1.0\n",
              "11467559   79181     1757     1.0\n",
              "1764803    11940     5673     1.0\n",
              "18402598  127366    64839     1.0\n",
              "1029887     6976    69746     1.0\n",
              "4867506    33444     1960     1.0"
            ]
          },
          "execution_count": 119,
          "metadata": {},
          "output_type": "execute_result"
        }
      ],
      "source": [
        "train_ratings.loc[:, 'rating'] = 1\n",
        "\n",
        "train_ratings.sample(10)"
      ]
    },
    {
      "cell_type": "markdown",
      "id": "ta4HeYfLkt2o",
      "metadata": {
        "id": "ta4HeYfLkt2o"
      },
      "source": [
        "Below Code:\n",
        "\n",
        "* It gathers all unique movie IDs before iterating over user-movie combinations and marking each as a \"positive\" interaction.\n",
        "\n",
        "* It creates four 'negative' samples (movies not interacted with by the user) for each positive case.\n",
        "\n",
        "* The technique generates a balanced dataset including both positive and negative instances, which is critical for training useful recommendation system"
      ]
    },
    {
      "cell_type": "code",
      "execution_count": 120,
      "id": "o3WVTt0Mm727",
      "metadata": {
        "colab": {
          "base_uri": "https://localhost:8080/"
        },
        "id": "o3WVTt0Mm727",
        "outputId": "8db8c4cf-0ca3-4ca2-ce17-932fa98f864b"
      },
      "outputs": [
        {
          "name": "stderr",
          "output_type": "stream",
          "text": [
            "100%|██████████| 5985767/5985767 [03:40<00:00, 27141.73it/s]\n"
          ]
        }
      ],
      "source": [
        "\n",
        "all_movieIds = ratings_2['movieId'].unique()\n",
        "\n",
        "users, items, labels = [], [], []\n",
        "\n",
        "user_item_set = set(zip(train_ratings['userId'], train_ratings['movieId']))\n",
        "\n",
        "num_negatives = 4\n",
        "\n",
        "for (u, i) in tqdm(user_item_set):\n",
        "    users.append(u)\n",
        "    items.append(i)\n",
        "    labels.append(1)\n",
        "    for _ in range(num_negatives):\n",
        "        negative_item = np.random.choice(all_movieIds)\n",
        "        while (u, negative_item) in user_item_set:\n",
        "            negative_item = np.random.choice(all_movieIds)\n",
        "        users.append(u)\n",
        "        items.append(negative_item)\n",
        "        labels.append(0)"
      ]
    },
    {
      "cell_type": "markdown",
      "id": "StZHkPVcvHEM",
      "metadata": {
        "id": "StZHkPVcvHEM"
      },
      "source": [
        " * It starts with user ratings and movie IDs and builds a dataset of user-movie interactions that are categorized as positive (the user interacted with the movie) or negative (the user did not interact).\n",
        "\n",
        " * It produces four negative interactions at random for each good interaction, guaranteeing that these negative instances are not present in the user's interacted movies.\n",
        " This method is commonly used in the development of machine learning-based recommendation systems."
      ]
    },
    {
      "cell_type": "code",
      "execution_count": 121,
      "id": "z2YimEd-m75S",
      "metadata": {
        "id": "z2YimEd-m75S"
      },
      "outputs": [],
      "source": [
        "class MovieLensTrainDataset(Dataset):\n",
        "\n",
        "    def __init__(self, ratings, all_movieIds):\n",
        "        self.users, self.items, self.labels = self.get_dataset(ratings, all_movieIds)\n",
        "\n",
        "    def __len__(self):\n",
        "        return len(self.users)\n",
        "\n",
        "    def __getitem__(self, idx):\n",
        "        return self.users[idx], self.items[idx], self.labels[idx]\n",
        "\n",
        "    def get_dataset(self, ratings, all_movieIds):\n",
        "        users, items, labels = [], [], []\n",
        "        user_item_set = set(zip(ratings['userId'], ratings['movieId']))\n",
        "\n",
        "        num_negatives = 4\n",
        "        for u, i in user_item_set:\n",
        "            users.append(u)\n",
        "            items.append(i)\n",
        "            labels.append(1)\n",
        "            for _ in range(num_negatives):\n",
        "                negative_item = np.random.choice(all_movieIds)\n",
        "                while (u, negative_item) in user_item_set:\n",
        "                    negative_item = np.random.choice(all_movieIds)\n",
        "                users.append(u)\n",
        "                items.append(negative_item)\n",
        "                labels.append(0)\n",
        "\n",
        "        return torch.tensor(users), torch.tensor(items), torch.tensor(labels)"
      ]
    },
    {
      "cell_type": "markdown",
      "id": "FCDGZ9Y9vh6z",
      "metadata": {
        "id": "FCDGZ9Y9vh6z"
      },
      "source": [
        "* Using PyTorch Lightning, this code creates a Neural Collaborative Filtering (NCF) model.\n",
        "\n",
        "* It has user and item embedding layers, fully linked layers, and a sigmoid output layer for binary classification.\n",
        "\n",
        "* The data flows over the network is defined by the 'forward' mechanism. It entails embedding users and items, concatenating these embeddings, passing them through dense layers activated by ReLU, and ultimately a sigmoid activation for prediction.\n",
        "\n",
        "* For training, the 'training_step' technique computes the binary cross-entropy loss. For training data, the model use the Adam optimizer and a custom DataLoader."
      ]
    },
    {
      "cell_type": "code",
      "execution_count": 122,
      "id": "O3DRMZ_Dm77l",
      "metadata": {
        "id": "O3DRMZ_Dm77l"
      },
      "outputs": [],
      "source": [
        "class NCF(pl.LightningModule):\n",
        "\n",
        "    def __init__(self, num_users, num_items, ratings, all_movieIds):\n",
        "        super().__init__()\n",
        "        self.user_embedding = nn.Embedding(num_embeddings=num_users, embedding_dim=8)\n",
        "        self.item_embedding = nn.Embedding(num_embeddings=num_items, embedding_dim=8)\n",
        "        self.fc1 = nn.Linear(in_features=16, out_features=64)\n",
        "        self.fc2 = nn.Linear(in_features=64, out_features=32)\n",
        "        self.output = nn.Linear(in_features=32, out_features=1)\n",
        "        self.ratings = ratings\n",
        "        self.all_movieIds = all_movieIds\n",
        "\n",
        "    def forward(self, user_input, item_input):\n",
        "        user_embedded = self.user_embedding(user_input)\n",
        "        item_embedded = self.item_embedding(item_input)\n",
        "        vector = torch.cat([user_embedded, item_embedded], dim=-1)\n",
        "        vector = nn.ReLU()(self.fc1(vector))\n",
        "        vector = nn.ReLU()(self.fc2(vector))\n",
        "        pred = nn.Sigmoid()(self.output(vector))\n",
        "\n",
        "        return pred\n",
        "\n",
        "    def training_step(self, batch, batch_idx):\n",
        "        user_input, item_input, labels = batch\n",
        "        predicted_labels = self(user_input, item_input)\n",
        "        loss = nn.BCELoss()(predicted_labels, labels.view(-1, 1).float())\n",
        "        return loss\n",
        "\n",
        "    def configure_optimizers(self):\n",
        "        return torch.optim.Adam(self.parameters())\n",
        "\n",
        "    def train_dataloader(self):\n",
        "        return DataLoader(MovieLensTrainDataset(self.ratings, self.all_movieIds),\n",
        "                          batch_size=32, num_workers=2)"
      ]
    },
    {
      "cell_type": "code",
      "execution_count": 123,
      "id": "EL2V10TpnU4t",
      "metadata": {
        "id": "EL2V10TpnU4t"
      },
      "outputs": [],
      "source": [
        "num_users = ratings_2['userId'].max()+1\n",
        "num_items = ratings_2['movieId'].max()+1\n",
        "\n",
        "all_movieIds = ratings_2['movieId'].unique()\n",
        "\n",
        "model = NCF(num_users, num_items, train_ratings, all_movieIds)"
      ]
    },
    {
      "cell_type": "code",
      "execution_count": 132,
      "id": "RtWwbnzVnU68",
      "metadata": {
        "colab": {
          "base_uri": "https://localhost:8080/",
          "height": 451,
          "referenced_widgets": [
            "ffbe450f805a472aa9fb28e7ed5e4590",
            "823cb909686842ca8559b5b0edfc73ac",
            "2bb04176d6ec47b0aff286787aa41584",
            "827e902c64b44772a623d1e3247b3d13",
            "4e279ddc5ce54c7488330651f6fa6aa1",
            "2d6e89dc2f69458f9e0a1cc02bf81399",
            "a42805e2836b47db959e640ee39e771c",
            "990c104859704bc085e6e069ed4ed5fc",
            "60916398f8744c4c875e3704a3483633",
            "abe32ad2048949da8728bab0bc920518",
            "25e044ca8d084be28ef05f26f1f3d0de"
          ]
        },
        "id": "RtWwbnzVnU68",
        "outputId": "62c3d196-f2db-4850-a7d1-98937d99dde2"
      },
      "outputs": [
        {
          "name": "stderr",
          "output_type": "stream",
          "text": [
            "GPU available: False, used: False\n",
            "TPU available: False, using: 0 TPU cores\n",
            "IPU available: False, using: 0 IPUs\n",
            "HPU available: False, using: 0 HPUs\n",
            "\n",
            "  | Name           | Type      | Params\n",
            "---------------------------------------------\n",
            "0 | user_embedding | Embedding | 1.1 M \n",
            "1 | item_embedding | Embedding | 1.1 M \n",
            "2 | fc1            | Linear    | 1.1 K \n",
            "3 | fc2            | Linear    | 2.1 K \n",
            "4 | output         | Linear    | 33    \n",
            "---------------------------------------------\n",
            "2.2 M     Trainable params\n",
            "0         Non-trainable params\n",
            "2.2 M     Total params\n",
            "8.645     Total estimated model params size (MB)\n"
          ]
        },
        {
          "data": {
            "application/vnd.jupyter.widget-view+json": {
              "model_id": "1b7ea90f45a74ab8bec7b5f847b98b2e",
              "version_major": 2,
              "version_minor": 0
            },
            "text/plain": [
              "Training: |          | 0/? [00:00<?, ?it/s]"
            ]
          },
          "metadata": {},
          "output_type": "display_data"
        },
        {
          "ename": "RuntimeError",
          "evalue": "DataLoader worker (pid(s) 37140) exited unexpectedly",
          "output_type": "error",
          "traceback": [
            "\u001b[1;31m---------------------------------------------------------------------------\u001b[0m",
            "\u001b[1;31mEmpty\u001b[0m                                     Traceback (most recent call last)",
            "File \u001b[1;32m~\\AppData\\Local\\Packages\\PythonSoftwareFoundation.Python.3.10_qbz5n2kfra8p0\\LocalCache\\local-packages\\Python310\\site-packages\\torch\\utils\\data\\dataloader.py:1132\u001b[0m, in \u001b[0;36m_MultiProcessingDataLoaderIter._try_get_data\u001b[1;34m(self, timeout)\u001b[0m\n\u001b[0;32m   1131\u001b[0m \u001b[38;5;28;01mtry\u001b[39;00m:\n\u001b[1;32m-> 1132\u001b[0m     data \u001b[38;5;241m=\u001b[39m \u001b[38;5;28;43mself\u001b[39;49m\u001b[38;5;241;43m.\u001b[39;49m\u001b[43m_data_queue\u001b[49m\u001b[38;5;241;43m.\u001b[39;49m\u001b[43mget\u001b[49m\u001b[43m(\u001b[49m\u001b[43mtimeout\u001b[49m\u001b[38;5;241;43m=\u001b[39;49m\u001b[43mtimeout\u001b[49m\u001b[43m)\u001b[49m\n\u001b[0;32m   1133\u001b[0m     \u001b[38;5;28;01mreturn\u001b[39;00m (\u001b[38;5;28;01mTrue\u001b[39;00m, data)\n",
            "File \u001b[1;32mC:\\Program Files\\WindowsApps\\PythonSoftwareFoundation.Python.3.10_3.10.3056.0_x64__qbz5n2kfra8p0\\lib\\multiprocessing\\queues.py:114\u001b[0m, in \u001b[0;36mQueue.get\u001b[1;34m(self, block, timeout)\u001b[0m\n\u001b[0;32m    113\u001b[0m     \u001b[38;5;28;01mif\u001b[39;00m \u001b[38;5;129;01mnot\u001b[39;00m \u001b[38;5;28mself\u001b[39m\u001b[38;5;241m.\u001b[39m_poll(timeout):\n\u001b[1;32m--> 114\u001b[0m         \u001b[38;5;28;01mraise\u001b[39;00m Empty\n\u001b[0;32m    115\u001b[0m \u001b[38;5;28;01melif\u001b[39;00m \u001b[38;5;129;01mnot\u001b[39;00m \u001b[38;5;28mself\u001b[39m\u001b[38;5;241m.\u001b[39m_poll():\n",
            "\u001b[1;31mEmpty\u001b[0m: ",
            "\nThe above exception was the direct cause of the following exception:\n",
            "\u001b[1;31mRuntimeError\u001b[0m                              Traceback (most recent call last)",
            "Cell \u001b[1;32mIn[132], line 21\u001b[0m\n\u001b[0;32m     17\u001b[0m data_module \u001b[38;5;241m=\u001b[39m MyDataModule(train_ratings, all_movieIds, batch_size\u001b[38;5;241m=\u001b[39m\u001b[38;5;241m16\u001b[39m, num_workers\u001b[38;5;241m=\u001b[39m\u001b[38;5;241m1\u001b[39m)\n\u001b[0;32m     20\u001b[0m trainer \u001b[38;5;241m=\u001b[39m pl\u001b[38;5;241m.\u001b[39mTrainer(max_epochs\u001b[38;5;241m=\u001b[39m\u001b[38;5;241m3\u001b[39m, accelerator\u001b[38;5;241m=\u001b[39m\u001b[38;5;124m\"\u001b[39m\u001b[38;5;124mcpu\u001b[39m\u001b[38;5;124m\"\u001b[39m)\n\u001b[1;32m---> 21\u001b[0m \u001b[43mtrainer\u001b[49m\u001b[38;5;241;43m.\u001b[39;49m\u001b[43mfit\u001b[49m\u001b[43m(\u001b[49m\u001b[43mmodel\u001b[49m\u001b[43m,\u001b[49m\u001b[43m \u001b[49m\u001b[43mdatamodule\u001b[49m\u001b[38;5;241;43m=\u001b[39;49m\u001b[43mdata_module\u001b[49m\u001b[43m)\u001b[49m\n",
            "File \u001b[1;32m~\\AppData\\Local\\Packages\\PythonSoftwareFoundation.Python.3.10_qbz5n2kfra8p0\\LocalCache\\local-packages\\Python310\\site-packages\\pytorch_lightning\\trainer\\trainer.py:544\u001b[0m, in \u001b[0;36mTrainer.fit\u001b[1;34m(self, model, train_dataloaders, val_dataloaders, datamodule, ckpt_path)\u001b[0m\n\u001b[0;32m    542\u001b[0m \u001b[38;5;28mself\u001b[39m\u001b[38;5;241m.\u001b[39mstate\u001b[38;5;241m.\u001b[39mstatus \u001b[38;5;241m=\u001b[39m TrainerStatus\u001b[38;5;241m.\u001b[39mRUNNING\n\u001b[0;32m    543\u001b[0m \u001b[38;5;28mself\u001b[39m\u001b[38;5;241m.\u001b[39mtraining \u001b[38;5;241m=\u001b[39m \u001b[38;5;28;01mTrue\u001b[39;00m\n\u001b[1;32m--> 544\u001b[0m \u001b[43mcall\u001b[49m\u001b[38;5;241;43m.\u001b[39;49m\u001b[43m_call_and_handle_interrupt\u001b[49m\u001b[43m(\u001b[49m\n\u001b[0;32m    545\u001b[0m \u001b[43m    \u001b[49m\u001b[38;5;28;43mself\u001b[39;49m\u001b[43m,\u001b[49m\u001b[43m \u001b[49m\u001b[38;5;28;43mself\u001b[39;49m\u001b[38;5;241;43m.\u001b[39;49m\u001b[43m_fit_impl\u001b[49m\u001b[43m,\u001b[49m\u001b[43m \u001b[49m\u001b[43mmodel\u001b[49m\u001b[43m,\u001b[49m\u001b[43m \u001b[49m\u001b[43mtrain_dataloaders\u001b[49m\u001b[43m,\u001b[49m\u001b[43m \u001b[49m\u001b[43mval_dataloaders\u001b[49m\u001b[43m,\u001b[49m\u001b[43m \u001b[49m\u001b[43mdatamodule\u001b[49m\u001b[43m,\u001b[49m\u001b[43m \u001b[49m\u001b[43mckpt_path\u001b[49m\n\u001b[0;32m    546\u001b[0m \u001b[43m\u001b[49m\u001b[43m)\u001b[49m\n",
            "File \u001b[1;32m~\\AppData\\Local\\Packages\\PythonSoftwareFoundation.Python.3.10_qbz5n2kfra8p0\\LocalCache\\local-packages\\Python310\\site-packages\\pytorch_lightning\\trainer\\call.py:44\u001b[0m, in \u001b[0;36m_call_and_handle_interrupt\u001b[1;34m(trainer, trainer_fn, *args, **kwargs)\u001b[0m\n\u001b[0;32m     42\u001b[0m     \u001b[38;5;28;01mif\u001b[39;00m trainer\u001b[38;5;241m.\u001b[39mstrategy\u001b[38;5;241m.\u001b[39mlauncher \u001b[38;5;129;01mis\u001b[39;00m \u001b[38;5;129;01mnot\u001b[39;00m \u001b[38;5;28;01mNone\u001b[39;00m:\n\u001b[0;32m     43\u001b[0m         \u001b[38;5;28;01mreturn\u001b[39;00m trainer\u001b[38;5;241m.\u001b[39mstrategy\u001b[38;5;241m.\u001b[39mlauncher\u001b[38;5;241m.\u001b[39mlaunch(trainer_fn, \u001b[38;5;241m*\u001b[39margs, trainer\u001b[38;5;241m=\u001b[39mtrainer, \u001b[38;5;241m*\u001b[39m\u001b[38;5;241m*\u001b[39mkwargs)\n\u001b[1;32m---> 44\u001b[0m     \u001b[38;5;28;01mreturn\u001b[39;00m trainer_fn(\u001b[38;5;241m*\u001b[39margs, \u001b[38;5;241m*\u001b[39m\u001b[38;5;241m*\u001b[39mkwargs)\n\u001b[0;32m     46\u001b[0m \u001b[38;5;28;01mexcept\u001b[39;00m _TunerExitException:\n\u001b[0;32m     47\u001b[0m     _call_teardown_hook(trainer)\n",
            "File \u001b[1;32m~\\AppData\\Local\\Packages\\PythonSoftwareFoundation.Python.3.10_qbz5n2kfra8p0\\LocalCache\\local-packages\\Python310\\site-packages\\pytorch_lightning\\trainer\\trainer.py:580\u001b[0m, in \u001b[0;36mTrainer._fit_impl\u001b[1;34m(self, model, train_dataloaders, val_dataloaders, datamodule, ckpt_path)\u001b[0m\n\u001b[0;32m    573\u001b[0m \u001b[38;5;28;01massert\u001b[39;00m \u001b[38;5;28mself\u001b[39m\u001b[38;5;241m.\u001b[39mstate\u001b[38;5;241m.\u001b[39mfn \u001b[38;5;129;01mis\u001b[39;00m \u001b[38;5;129;01mnot\u001b[39;00m \u001b[38;5;28;01mNone\u001b[39;00m\n\u001b[0;32m    574\u001b[0m ckpt_path \u001b[38;5;241m=\u001b[39m \u001b[38;5;28mself\u001b[39m\u001b[38;5;241m.\u001b[39m_checkpoint_connector\u001b[38;5;241m.\u001b[39m_select_ckpt_path(\n\u001b[0;32m    575\u001b[0m     \u001b[38;5;28mself\u001b[39m\u001b[38;5;241m.\u001b[39mstate\u001b[38;5;241m.\u001b[39mfn,\n\u001b[0;32m    576\u001b[0m     ckpt_path,\n\u001b[0;32m    577\u001b[0m     model_provided\u001b[38;5;241m=\u001b[39m\u001b[38;5;28;01mTrue\u001b[39;00m,\n\u001b[0;32m    578\u001b[0m     model_connected\u001b[38;5;241m=\u001b[39m\u001b[38;5;28mself\u001b[39m\u001b[38;5;241m.\u001b[39mlightning_module \u001b[38;5;129;01mis\u001b[39;00m \u001b[38;5;129;01mnot\u001b[39;00m \u001b[38;5;28;01mNone\u001b[39;00m,\n\u001b[0;32m    579\u001b[0m )\n\u001b[1;32m--> 580\u001b[0m \u001b[38;5;28;43mself\u001b[39;49m\u001b[38;5;241;43m.\u001b[39;49m\u001b[43m_run\u001b[49m\u001b[43m(\u001b[49m\u001b[43mmodel\u001b[49m\u001b[43m,\u001b[49m\u001b[43m \u001b[49m\u001b[43mckpt_path\u001b[49m\u001b[38;5;241;43m=\u001b[39;49m\u001b[43mckpt_path\u001b[49m\u001b[43m)\u001b[49m\n\u001b[0;32m    582\u001b[0m \u001b[38;5;28;01massert\u001b[39;00m \u001b[38;5;28mself\u001b[39m\u001b[38;5;241m.\u001b[39mstate\u001b[38;5;241m.\u001b[39mstopped\n\u001b[0;32m    583\u001b[0m \u001b[38;5;28mself\u001b[39m\u001b[38;5;241m.\u001b[39mtraining \u001b[38;5;241m=\u001b[39m \u001b[38;5;28;01mFalse\u001b[39;00m\n",
            "File \u001b[1;32m~\\AppData\\Local\\Packages\\PythonSoftwareFoundation.Python.3.10_qbz5n2kfra8p0\\LocalCache\\local-packages\\Python310\\site-packages\\pytorch_lightning\\trainer\\trainer.py:989\u001b[0m, in \u001b[0;36mTrainer._run\u001b[1;34m(self, model, ckpt_path)\u001b[0m\n\u001b[0;32m    984\u001b[0m \u001b[38;5;28mself\u001b[39m\u001b[38;5;241m.\u001b[39m_signal_connector\u001b[38;5;241m.\u001b[39mregister_signal_handlers()\n\u001b[0;32m    986\u001b[0m \u001b[38;5;66;03m# ----------------------------\u001b[39;00m\n\u001b[0;32m    987\u001b[0m \u001b[38;5;66;03m# RUN THE TRAINER\u001b[39;00m\n\u001b[0;32m    988\u001b[0m \u001b[38;5;66;03m# ----------------------------\u001b[39;00m\n\u001b[1;32m--> 989\u001b[0m results \u001b[38;5;241m=\u001b[39m \u001b[38;5;28;43mself\u001b[39;49m\u001b[38;5;241;43m.\u001b[39;49m\u001b[43m_run_stage\u001b[49m\u001b[43m(\u001b[49m\u001b[43m)\u001b[49m\n\u001b[0;32m    991\u001b[0m \u001b[38;5;66;03m# ----------------------------\u001b[39;00m\n\u001b[0;32m    992\u001b[0m \u001b[38;5;66;03m# POST-Training CLEAN UP\u001b[39;00m\n\u001b[0;32m    993\u001b[0m \u001b[38;5;66;03m# ----------------------------\u001b[39;00m\n\u001b[0;32m    994\u001b[0m log\u001b[38;5;241m.\u001b[39mdebug(\u001b[38;5;124mf\u001b[39m\u001b[38;5;124m\"\u001b[39m\u001b[38;5;132;01m{\u001b[39;00m\u001b[38;5;28mself\u001b[39m\u001b[38;5;241m.\u001b[39m\u001b[38;5;18m__class__\u001b[39m\u001b[38;5;241m.\u001b[39m\u001b[38;5;18m__name__\u001b[39m\u001b[38;5;132;01m}\u001b[39;00m\u001b[38;5;124m: trainer tearing down\u001b[39m\u001b[38;5;124m\"\u001b[39m)\n",
            "File \u001b[1;32m~\\AppData\\Local\\Packages\\PythonSoftwareFoundation.Python.3.10_qbz5n2kfra8p0\\LocalCache\\local-packages\\Python310\\site-packages\\pytorch_lightning\\trainer\\trainer.py:1035\u001b[0m, in \u001b[0;36mTrainer._run_stage\u001b[1;34m(self)\u001b[0m\n\u001b[0;32m   1033\u001b[0m         \u001b[38;5;28mself\u001b[39m\u001b[38;5;241m.\u001b[39m_run_sanity_check()\n\u001b[0;32m   1034\u001b[0m     \u001b[38;5;28;01mwith\u001b[39;00m torch\u001b[38;5;241m.\u001b[39mautograd\u001b[38;5;241m.\u001b[39mset_detect_anomaly(\u001b[38;5;28mself\u001b[39m\u001b[38;5;241m.\u001b[39m_detect_anomaly):\n\u001b[1;32m-> 1035\u001b[0m         \u001b[38;5;28;43mself\u001b[39;49m\u001b[38;5;241;43m.\u001b[39;49m\u001b[43mfit_loop\u001b[49m\u001b[38;5;241;43m.\u001b[39;49m\u001b[43mrun\u001b[49m\u001b[43m(\u001b[49m\u001b[43m)\u001b[49m\n\u001b[0;32m   1036\u001b[0m     \u001b[38;5;28;01mreturn\u001b[39;00m \u001b[38;5;28;01mNone\u001b[39;00m\n\u001b[0;32m   1037\u001b[0m \u001b[38;5;28;01mraise\u001b[39;00m \u001b[38;5;167;01mRuntimeError\u001b[39;00m(\u001b[38;5;124mf\u001b[39m\u001b[38;5;124m\"\u001b[39m\u001b[38;5;124mUnexpected state \u001b[39m\u001b[38;5;132;01m{\u001b[39;00m\u001b[38;5;28mself\u001b[39m\u001b[38;5;241m.\u001b[39mstate\u001b[38;5;132;01m}\u001b[39;00m\u001b[38;5;124m\"\u001b[39m)\n",
            "File \u001b[1;32m~\\AppData\\Local\\Packages\\PythonSoftwareFoundation.Python.3.10_qbz5n2kfra8p0\\LocalCache\\local-packages\\Python310\\site-packages\\pytorch_lightning\\loops\\fit_loop.py:202\u001b[0m, in \u001b[0;36m_FitLoop.run\u001b[1;34m(self)\u001b[0m\n\u001b[0;32m    200\u001b[0m \u001b[38;5;28;01mtry\u001b[39;00m:\n\u001b[0;32m    201\u001b[0m     \u001b[38;5;28mself\u001b[39m\u001b[38;5;241m.\u001b[39mon_advance_start()\n\u001b[1;32m--> 202\u001b[0m     \u001b[38;5;28;43mself\u001b[39;49m\u001b[38;5;241;43m.\u001b[39;49m\u001b[43madvance\u001b[49m\u001b[43m(\u001b[49m\u001b[43m)\u001b[49m\n\u001b[0;32m    203\u001b[0m     \u001b[38;5;28mself\u001b[39m\u001b[38;5;241m.\u001b[39mon_advance_end()\n\u001b[0;32m    204\u001b[0m     \u001b[38;5;28mself\u001b[39m\u001b[38;5;241m.\u001b[39m_restarting \u001b[38;5;241m=\u001b[39m \u001b[38;5;28;01mFalse\u001b[39;00m\n",
            "File \u001b[1;32m~\\AppData\\Local\\Packages\\PythonSoftwareFoundation.Python.3.10_qbz5n2kfra8p0\\LocalCache\\local-packages\\Python310\\site-packages\\pytorch_lightning\\loops\\fit_loop.py:359\u001b[0m, in \u001b[0;36m_FitLoop.advance\u001b[1;34m(self)\u001b[0m\n\u001b[0;32m    357\u001b[0m \u001b[38;5;28;01mwith\u001b[39;00m \u001b[38;5;28mself\u001b[39m\u001b[38;5;241m.\u001b[39mtrainer\u001b[38;5;241m.\u001b[39mprofiler\u001b[38;5;241m.\u001b[39mprofile(\u001b[38;5;124m\"\u001b[39m\u001b[38;5;124mrun_training_epoch\u001b[39m\u001b[38;5;124m\"\u001b[39m):\n\u001b[0;32m    358\u001b[0m     \u001b[38;5;28;01massert\u001b[39;00m \u001b[38;5;28mself\u001b[39m\u001b[38;5;241m.\u001b[39m_data_fetcher \u001b[38;5;129;01mis\u001b[39;00m \u001b[38;5;129;01mnot\u001b[39;00m \u001b[38;5;28;01mNone\u001b[39;00m\n\u001b[1;32m--> 359\u001b[0m     \u001b[38;5;28;43mself\u001b[39;49m\u001b[38;5;241;43m.\u001b[39;49m\u001b[43mepoch_loop\u001b[49m\u001b[38;5;241;43m.\u001b[39;49m\u001b[43mrun\u001b[49m\u001b[43m(\u001b[49m\u001b[38;5;28;43mself\u001b[39;49m\u001b[38;5;241;43m.\u001b[39;49m\u001b[43m_data_fetcher\u001b[49m\u001b[43m)\u001b[49m\n",
            "File \u001b[1;32m~\\AppData\\Local\\Packages\\PythonSoftwareFoundation.Python.3.10_qbz5n2kfra8p0\\LocalCache\\local-packages\\Python310\\site-packages\\pytorch_lightning\\loops\\training_epoch_loop.py:136\u001b[0m, in \u001b[0;36m_TrainingEpochLoop.run\u001b[1;34m(self, data_fetcher)\u001b[0m\n\u001b[0;32m    134\u001b[0m \u001b[38;5;28;01mwhile\u001b[39;00m \u001b[38;5;129;01mnot\u001b[39;00m \u001b[38;5;28mself\u001b[39m\u001b[38;5;241m.\u001b[39mdone:\n\u001b[0;32m    135\u001b[0m     \u001b[38;5;28;01mtry\u001b[39;00m:\n\u001b[1;32m--> 136\u001b[0m         \u001b[38;5;28;43mself\u001b[39;49m\u001b[38;5;241;43m.\u001b[39;49m\u001b[43madvance\u001b[49m\u001b[43m(\u001b[49m\u001b[43mdata_fetcher\u001b[49m\u001b[43m)\u001b[49m\n\u001b[0;32m    137\u001b[0m         \u001b[38;5;28mself\u001b[39m\u001b[38;5;241m.\u001b[39mon_advance_end(data_fetcher)\n\u001b[0;32m    138\u001b[0m         \u001b[38;5;28mself\u001b[39m\u001b[38;5;241m.\u001b[39m_restarting \u001b[38;5;241m=\u001b[39m \u001b[38;5;28;01mFalse\u001b[39;00m\n",
            "File \u001b[1;32m~\\AppData\\Local\\Packages\\PythonSoftwareFoundation.Python.3.10_qbz5n2kfra8p0\\LocalCache\\local-packages\\Python310\\site-packages\\pytorch_lightning\\loops\\training_epoch_loop.py:202\u001b[0m, in \u001b[0;36m_TrainingEpochLoop.advance\u001b[1;34m(self, data_fetcher)\u001b[0m\n\u001b[0;32m    200\u001b[0m \u001b[38;5;28;01melse\u001b[39;00m:\n\u001b[0;32m    201\u001b[0m     dataloader_iter \u001b[38;5;241m=\u001b[39m \u001b[38;5;28;01mNone\u001b[39;00m\n\u001b[1;32m--> 202\u001b[0m     batch, _, __ \u001b[38;5;241m=\u001b[39m \u001b[38;5;28;43mnext\u001b[39;49m\u001b[43m(\u001b[49m\u001b[43mdata_fetcher\u001b[49m\u001b[43m)\u001b[49m\n\u001b[0;32m    203\u001b[0m     \u001b[38;5;66;03m# TODO: we should instead use the batch_idx returned by the fetcher, however, that will require saving the\u001b[39;00m\n\u001b[0;32m    204\u001b[0m     \u001b[38;5;66;03m# fetcher state so that the batch_idx is correct after restarting\u001b[39;00m\n\u001b[0;32m    205\u001b[0m     batch_idx \u001b[38;5;241m=\u001b[39m \u001b[38;5;28mself\u001b[39m\u001b[38;5;241m.\u001b[39mbatch_idx \u001b[38;5;241m+\u001b[39m \u001b[38;5;241m1\u001b[39m\n",
            "File \u001b[1;32m~\\AppData\\Local\\Packages\\PythonSoftwareFoundation.Python.3.10_qbz5n2kfra8p0\\LocalCache\\local-packages\\Python310\\site-packages\\pytorch_lightning\\loops\\fetchers.py:127\u001b[0m, in \u001b[0;36m_PrefetchDataFetcher.__next__\u001b[1;34m(self)\u001b[0m\n\u001b[0;32m    124\u001b[0m         \u001b[38;5;28mself\u001b[39m\u001b[38;5;241m.\u001b[39mdone \u001b[38;5;241m=\u001b[39m \u001b[38;5;129;01mnot\u001b[39;00m \u001b[38;5;28mself\u001b[39m\u001b[38;5;241m.\u001b[39mbatches\n\u001b[0;32m    125\u001b[0m \u001b[38;5;28;01melif\u001b[39;00m \u001b[38;5;129;01mnot\u001b[39;00m \u001b[38;5;28mself\u001b[39m\u001b[38;5;241m.\u001b[39mdone:\n\u001b[0;32m    126\u001b[0m     \u001b[38;5;66;03m# this will run only when no pre-fetching was done.\u001b[39;00m\n\u001b[1;32m--> 127\u001b[0m     batch \u001b[38;5;241m=\u001b[39m \u001b[38;5;28;43msuper\u001b[39;49m\u001b[43m(\u001b[49m\u001b[43m)\u001b[49m\u001b[38;5;241;43m.\u001b[39;49m\u001b[38;5;21;43m__next__\u001b[39;49m\u001b[43m(\u001b[49m\u001b[43m)\u001b[49m\n\u001b[0;32m    128\u001b[0m \u001b[38;5;28;01melse\u001b[39;00m:\n\u001b[0;32m    129\u001b[0m     \u001b[38;5;66;03m# the iterator is empty\u001b[39;00m\n\u001b[0;32m    130\u001b[0m     \u001b[38;5;28;01mraise\u001b[39;00m \u001b[38;5;167;01mStopIteration\u001b[39;00m\n",
            "File \u001b[1;32m~\\AppData\\Local\\Packages\\PythonSoftwareFoundation.Python.3.10_qbz5n2kfra8p0\\LocalCache\\local-packages\\Python310\\site-packages\\pytorch_lightning\\loops\\fetchers.py:56\u001b[0m, in \u001b[0;36m_DataFetcher.__next__\u001b[1;34m(self)\u001b[0m\n\u001b[0;32m     54\u001b[0m \u001b[38;5;28mself\u001b[39m\u001b[38;5;241m.\u001b[39m_start_profiler()\n\u001b[0;32m     55\u001b[0m \u001b[38;5;28;01mtry\u001b[39;00m:\n\u001b[1;32m---> 56\u001b[0m     batch \u001b[38;5;241m=\u001b[39m \u001b[38;5;28;43mnext\u001b[39;49m\u001b[43m(\u001b[49m\u001b[38;5;28;43mself\u001b[39;49m\u001b[38;5;241;43m.\u001b[39;49m\u001b[43miterator\u001b[49m\u001b[43m)\u001b[49m\n\u001b[0;32m     57\u001b[0m \u001b[38;5;28;01mexcept\u001b[39;00m \u001b[38;5;167;01mStopIteration\u001b[39;00m:\n\u001b[0;32m     58\u001b[0m     \u001b[38;5;28mself\u001b[39m\u001b[38;5;241m.\u001b[39mdone \u001b[38;5;241m=\u001b[39m \u001b[38;5;28;01mTrue\u001b[39;00m\n",
            "File \u001b[1;32m~\\AppData\\Local\\Packages\\PythonSoftwareFoundation.Python.3.10_qbz5n2kfra8p0\\LocalCache\\local-packages\\Python310\\site-packages\\pytorch_lightning\\utilities\\combined_loader.py:326\u001b[0m, in \u001b[0;36mCombinedLoader.__next__\u001b[1;34m(self)\u001b[0m\n\u001b[0;32m    324\u001b[0m \u001b[38;5;28;01mdef\u001b[39;00m \u001b[38;5;21m__next__\u001b[39m(\u001b[38;5;28mself\u001b[39m) \u001b[38;5;241m-\u001b[39m\u001b[38;5;241m>\u001b[39m _ITERATOR_RETURN:\n\u001b[0;32m    325\u001b[0m     \u001b[38;5;28;01massert\u001b[39;00m \u001b[38;5;28mself\u001b[39m\u001b[38;5;241m.\u001b[39m_iterator \u001b[38;5;129;01mis\u001b[39;00m \u001b[38;5;129;01mnot\u001b[39;00m \u001b[38;5;28;01mNone\u001b[39;00m\n\u001b[1;32m--> 326\u001b[0m     out \u001b[38;5;241m=\u001b[39m \u001b[38;5;28;43mnext\u001b[39;49m\u001b[43m(\u001b[49m\u001b[38;5;28;43mself\u001b[39;49m\u001b[38;5;241;43m.\u001b[39;49m\u001b[43m_iterator\u001b[49m\u001b[43m)\u001b[49m\n\u001b[0;32m    327\u001b[0m     \u001b[38;5;28;01mif\u001b[39;00m \u001b[38;5;28misinstance\u001b[39m(\u001b[38;5;28mself\u001b[39m\u001b[38;5;241m.\u001b[39m_iterator, _Sequential):\n\u001b[0;32m    328\u001b[0m         \u001b[38;5;28;01mreturn\u001b[39;00m out\n",
            "File \u001b[1;32m~\\AppData\\Local\\Packages\\PythonSoftwareFoundation.Python.3.10_qbz5n2kfra8p0\\LocalCache\\local-packages\\Python310\\site-packages\\pytorch_lightning\\utilities\\combined_loader.py:74\u001b[0m, in \u001b[0;36m_MaxSizeCycle.__next__\u001b[1;34m(self)\u001b[0m\n\u001b[0;32m     72\u001b[0m \u001b[38;5;28;01mfor\u001b[39;00m i \u001b[38;5;129;01min\u001b[39;00m \u001b[38;5;28mrange\u001b[39m(n):\n\u001b[0;32m     73\u001b[0m     \u001b[38;5;28;01mtry\u001b[39;00m:\n\u001b[1;32m---> 74\u001b[0m         out[i] \u001b[38;5;241m=\u001b[39m \u001b[38;5;28;43mnext\u001b[39;49m\u001b[43m(\u001b[49m\u001b[38;5;28;43mself\u001b[39;49m\u001b[38;5;241;43m.\u001b[39;49m\u001b[43miterators\u001b[49m\u001b[43m[\u001b[49m\u001b[43mi\u001b[49m\u001b[43m]\u001b[49m\u001b[43m)\u001b[49m\n\u001b[0;32m     75\u001b[0m     \u001b[38;5;28;01mexcept\u001b[39;00m \u001b[38;5;167;01mStopIteration\u001b[39;00m:\n\u001b[0;32m     76\u001b[0m         \u001b[38;5;28mself\u001b[39m\u001b[38;5;241m.\u001b[39m_consumed[i] \u001b[38;5;241m=\u001b[39m \u001b[38;5;28;01mTrue\u001b[39;00m\n",
            "File \u001b[1;32m~\\AppData\\Local\\Packages\\PythonSoftwareFoundation.Python.3.10_qbz5n2kfra8p0\\LocalCache\\local-packages\\Python310\\site-packages\\torch\\utils\\data\\dataloader.py:630\u001b[0m, in \u001b[0;36m_BaseDataLoaderIter.__next__\u001b[1;34m(self)\u001b[0m\n\u001b[0;32m    627\u001b[0m \u001b[38;5;28;01mif\u001b[39;00m \u001b[38;5;28mself\u001b[39m\u001b[38;5;241m.\u001b[39m_sampler_iter \u001b[38;5;129;01mis\u001b[39;00m \u001b[38;5;28;01mNone\u001b[39;00m:\n\u001b[0;32m    628\u001b[0m     \u001b[38;5;66;03m# TODO(https://github.com/pytorch/pytorch/issues/76750)\u001b[39;00m\n\u001b[0;32m    629\u001b[0m     \u001b[38;5;28mself\u001b[39m\u001b[38;5;241m.\u001b[39m_reset()  \u001b[38;5;66;03m# type: ignore[call-arg]\u001b[39;00m\n\u001b[1;32m--> 630\u001b[0m data \u001b[38;5;241m=\u001b[39m \u001b[38;5;28;43mself\u001b[39;49m\u001b[38;5;241;43m.\u001b[39;49m\u001b[43m_next_data\u001b[49m\u001b[43m(\u001b[49m\u001b[43m)\u001b[49m\n\u001b[0;32m    631\u001b[0m \u001b[38;5;28mself\u001b[39m\u001b[38;5;241m.\u001b[39m_num_yielded \u001b[38;5;241m+\u001b[39m\u001b[38;5;241m=\u001b[39m \u001b[38;5;241m1\u001b[39m\n\u001b[0;32m    632\u001b[0m \u001b[38;5;28;01mif\u001b[39;00m \u001b[38;5;28mself\u001b[39m\u001b[38;5;241m.\u001b[39m_dataset_kind \u001b[38;5;241m==\u001b[39m _DatasetKind\u001b[38;5;241m.\u001b[39mIterable \u001b[38;5;129;01mand\u001b[39;00m \\\n\u001b[0;32m    633\u001b[0m         \u001b[38;5;28mself\u001b[39m\u001b[38;5;241m.\u001b[39m_IterableDataset_len_called \u001b[38;5;129;01mis\u001b[39;00m \u001b[38;5;129;01mnot\u001b[39;00m \u001b[38;5;28;01mNone\u001b[39;00m \u001b[38;5;129;01mand\u001b[39;00m \\\n\u001b[0;32m    634\u001b[0m         \u001b[38;5;28mself\u001b[39m\u001b[38;5;241m.\u001b[39m_num_yielded \u001b[38;5;241m>\u001b[39m \u001b[38;5;28mself\u001b[39m\u001b[38;5;241m.\u001b[39m_IterableDataset_len_called:\n",
            "File \u001b[1;32m~\\AppData\\Local\\Packages\\PythonSoftwareFoundation.Python.3.10_qbz5n2kfra8p0\\LocalCache\\local-packages\\Python310\\site-packages\\torch\\utils\\data\\dataloader.py:1328\u001b[0m, in \u001b[0;36m_MultiProcessingDataLoaderIter._next_data\u001b[1;34m(self)\u001b[0m\n\u001b[0;32m   1325\u001b[0m     \u001b[38;5;28;01mreturn\u001b[39;00m \u001b[38;5;28mself\u001b[39m\u001b[38;5;241m.\u001b[39m_process_data(data)\n\u001b[0;32m   1327\u001b[0m \u001b[38;5;28;01massert\u001b[39;00m \u001b[38;5;129;01mnot\u001b[39;00m \u001b[38;5;28mself\u001b[39m\u001b[38;5;241m.\u001b[39m_shutdown \u001b[38;5;129;01mand\u001b[39;00m \u001b[38;5;28mself\u001b[39m\u001b[38;5;241m.\u001b[39m_tasks_outstanding \u001b[38;5;241m>\u001b[39m \u001b[38;5;241m0\u001b[39m\n\u001b[1;32m-> 1328\u001b[0m idx, data \u001b[38;5;241m=\u001b[39m \u001b[38;5;28;43mself\u001b[39;49m\u001b[38;5;241;43m.\u001b[39;49m\u001b[43m_get_data\u001b[49m\u001b[43m(\u001b[49m\u001b[43m)\u001b[49m\n\u001b[0;32m   1329\u001b[0m \u001b[38;5;28mself\u001b[39m\u001b[38;5;241m.\u001b[39m_tasks_outstanding \u001b[38;5;241m-\u001b[39m\u001b[38;5;241m=\u001b[39m \u001b[38;5;241m1\u001b[39m\n\u001b[0;32m   1330\u001b[0m \u001b[38;5;28;01mif\u001b[39;00m \u001b[38;5;28mself\u001b[39m\u001b[38;5;241m.\u001b[39m_dataset_kind \u001b[38;5;241m==\u001b[39m _DatasetKind\u001b[38;5;241m.\u001b[39mIterable:\n\u001b[0;32m   1331\u001b[0m     \u001b[38;5;66;03m# Check for _IterableDatasetStopIteration\u001b[39;00m\n",
            "File \u001b[1;32m~\\AppData\\Local\\Packages\\PythonSoftwareFoundation.Python.3.10_qbz5n2kfra8p0\\LocalCache\\local-packages\\Python310\\site-packages\\torch\\utils\\data\\dataloader.py:1294\u001b[0m, in \u001b[0;36m_MultiProcessingDataLoaderIter._get_data\u001b[1;34m(self)\u001b[0m\n\u001b[0;32m   1290\u001b[0m     \u001b[38;5;66;03m# In this case, `self._data_queue` is a `queue.Queue`,. But we don't\u001b[39;00m\n\u001b[0;32m   1291\u001b[0m     \u001b[38;5;66;03m# need to call `.task_done()` because we don't use `.join()`.\u001b[39;00m\n\u001b[0;32m   1292\u001b[0m \u001b[38;5;28;01melse\u001b[39;00m:\n\u001b[0;32m   1293\u001b[0m     \u001b[38;5;28;01mwhile\u001b[39;00m \u001b[38;5;28;01mTrue\u001b[39;00m:\n\u001b[1;32m-> 1294\u001b[0m         success, data \u001b[38;5;241m=\u001b[39m \u001b[38;5;28;43mself\u001b[39;49m\u001b[38;5;241;43m.\u001b[39;49m\u001b[43m_try_get_data\u001b[49m\u001b[43m(\u001b[49m\u001b[43m)\u001b[49m\n\u001b[0;32m   1295\u001b[0m         \u001b[38;5;28;01mif\u001b[39;00m success:\n\u001b[0;32m   1296\u001b[0m             \u001b[38;5;28;01mreturn\u001b[39;00m data\n",
            "File \u001b[1;32m~\\AppData\\Local\\Packages\\PythonSoftwareFoundation.Python.3.10_qbz5n2kfra8p0\\LocalCache\\local-packages\\Python310\\site-packages\\torch\\utils\\data\\dataloader.py:1145\u001b[0m, in \u001b[0;36m_MultiProcessingDataLoaderIter._try_get_data\u001b[1;34m(self, timeout)\u001b[0m\n\u001b[0;32m   1143\u001b[0m \u001b[38;5;28;01mif\u001b[39;00m \u001b[38;5;28mlen\u001b[39m(failed_workers) \u001b[38;5;241m>\u001b[39m \u001b[38;5;241m0\u001b[39m:\n\u001b[0;32m   1144\u001b[0m     pids_str \u001b[38;5;241m=\u001b[39m \u001b[38;5;124m'\u001b[39m\u001b[38;5;124m, \u001b[39m\u001b[38;5;124m'\u001b[39m\u001b[38;5;241m.\u001b[39mjoin(\u001b[38;5;28mstr\u001b[39m(w\u001b[38;5;241m.\u001b[39mpid) \u001b[38;5;28;01mfor\u001b[39;00m w \u001b[38;5;129;01min\u001b[39;00m failed_workers)\n\u001b[1;32m-> 1145\u001b[0m     \u001b[38;5;28;01mraise\u001b[39;00m \u001b[38;5;167;01mRuntimeError\u001b[39;00m(\u001b[38;5;124mf\u001b[39m\u001b[38;5;124m'\u001b[39m\u001b[38;5;124mDataLoader worker (pid(s) \u001b[39m\u001b[38;5;132;01m{\u001b[39;00mpids_str\u001b[38;5;132;01m}\u001b[39;00m\u001b[38;5;124m) exited unexpectedly\u001b[39m\u001b[38;5;124m'\u001b[39m) \u001b[38;5;28;01mfrom\u001b[39;00m \u001b[38;5;21;01me\u001b[39;00m\n\u001b[0;32m   1146\u001b[0m \u001b[38;5;28;01mif\u001b[39;00m \u001b[38;5;28misinstance\u001b[39m(e, queue\u001b[38;5;241m.\u001b[39mEmpty):\n\u001b[0;32m   1147\u001b[0m     \u001b[38;5;28;01mreturn\u001b[39;00m (\u001b[38;5;28;01mFalse\u001b[39;00m, \u001b[38;5;28;01mNone\u001b[39;00m)\n",
            "\u001b[1;31mRuntimeError\u001b[0m: DataLoader worker (pid(s) 37140) exited unexpectedly"
          ]
        }
      ],
      "source": [
        "trainer = pl.Trainer(max_epochs=3, accelerator=\"cpu\")\n",
        "trainer.fit(model, datamodule=data_module)\n"
      ]
    },
    {
      "cell_type": "markdown",
      "id": "Xwi98XmlwAev",
      "metadata": {
        "id": "Xwi98XmlwAev"
      },
      "source": [
        "* This code uses a Hit Ratio statistic to assess a recommendation model. It determines if the actual item (movie) with which a user interacts is among the top ten suggested movies.\n",
        "\n",
        "* It produces 99 movies not interacted with by the user for each user-item combination in the test set, mixes them with the actual interacted item, and predicts the probability of the user interacting with these 100 movies. If the real item is in the top ten of these predictions, it is termed a \"hit.\"\n",
        "\n",
        "* The Hit Ratio @ 10 is the average of these hits, and it indicates how well the model is in predicting user preferences."
      ]
    },
    {
      "cell_type": "code",
      "execution_count": null,
      "id": "DDhYpmCHnU9c",
      "metadata": {
        "colab": {
          "base_uri": "https://localhost:8080/"
        },
        "id": "DDhYpmCHnU9c",
        "outputId": "eb646aa6-5630-4ed8-a3c4-46ff6632c455"
      },
      "outputs": [
        {
          "name": "stderr",
          "output_type": "stream",
          "text": [
            "100%|██████████| 183/183 [00:00<00:00, 496.59it/s]"
          ]
        },
        {
          "name": "stdout",
          "output_type": "stream",
          "text": [
            "The Hit Ratio @ 10 is 0.26\n"
          ]
        },
        {
          "name": "stderr",
          "output_type": "stream",
          "text": [
            "\n"
          ]
        }
      ],
      "source": [
        "\n",
        "test_user_item_set = set(zip(test_ratings['userId'], test_ratings['movieId']))\n",
        "\n",
        "user_interacted_items = ratings_2.groupby('userId')['movieId'].apply(list).to_dict()\n",
        "\n",
        "hits = []\n",
        "for (u,i) in tqdm(test_user_item_set):\n",
        "    interacted_items = user_interacted_items[u]\n",
        "    not_interacted_items = set(all_movieIds) - set(interacted_items)\n",
        "    selected_not_interacted = list(np.random.choice(list(not_interacted_items), 99))\n",
        "    test_items = selected_not_interacted + [i]\n",
        "\n",
        "    predicted_labels = np.squeeze(model(torch.tensor([u]*100),\n",
        "                                        torch.tensor(test_items)).detach().numpy())\n",
        "\n",
        "    top10_items = [test_items[i] for i in np.argsort(predicted_labels)[::-1][0:10].tolist()]\n",
        "\n",
        "    if i in top10_items:\n",
        "        hits.append(1)\n",
        "    else:\n",
        "        hits.append(0)\n",
        "\n",
        "print(\"The Hit Ratio @ 10 is {:.2f}\".format(np.average(hits)))"
      ]
    },
    {
      "cell_type": "code",
      "execution_count": null,
      "id": "68nygxZn0Dcd",
      "metadata": {
        "colab": {
          "base_uri": "https://localhost:8080/"
        },
        "id": "68nygxZn0Dcd",
        "outputId": "6450be70-9344-4e56-ae34-187df0206404"
      },
      "outputs": [
        {
          "name": "stdout",
          "output_type": "stream",
          "text": [
            "RMSE: 3.6415352510676846\n"
          ]
        }
      ],
      "source": [
        "from sklearn.metrics import mean_squared_error\n",
        "import numpy as np\n",
        "\n",
        "# Assuming you have test data with actual ratings and predicted ratings\n",
        "actual_ratings = test_ratings['rating'].values  # Actual ratings\n",
        "predicted_ratings = model(torch.tensor(test_ratings['userId'].values),\n",
        "                          torch.tensor(test_ratings['movieId'].values)).detach().numpy().flatten()  # Predicted ratings\n",
        "\n",
        "rmse = np.sqrt(mean_squared_error(actual_ratings, predicted_ratings))\n",
        "print(\"RMSE:\", rmse)\n"
      ]
    },
    {
      "cell_type": "code",
      "execution_count": null,
      "id": "pfVc1lfm0IGH",
      "metadata": {
        "colab": {
          "base_uri": "https://localhost:8080/"
        },
        "id": "pfVc1lfm0IGH",
        "outputId": "1a9e2f44-b6d8-4574-898f-6a825e845a39"
      },
      "outputs": [
        {
          "name": "stdout",
          "output_type": "stream",
          "text": [
            "nDCG@10: 1.0\n"
          ]
        }
      ],
      "source": [
        "def dcg_at_k(ranked_list, k):\n",
        "    dcg = 0\n",
        "    for i in range(min(k, len(ranked_list))):\n",
        "        dcg += (2 ** ranked_list[i] - 1) / np.log2(i + 2)\n",
        "    return dcg\n",
        "\n",
        "def ndcg_at_k(actual, predicted, k):\n",
        "    sorted_indices = np.argsort(-predicted)\n",
        "    actual_sorted = actual[sorted_indices]\n",
        "    dcg = dcg_at_k(actual_sorted, k)\n",
        "    idcg = dcg_at_k(np.sort(actual)[::-1], k)\n",
        "    if idcg == 0:\n",
        "        return 0\n",
        "    return dcg / idcg\n",
        "\n",
        "\n",
        "actual_ratings_per_user = []\n",
        "predicted_ratings_per_user = []\n",
        "for user_id in test_ratings['userId'].unique():\n",
        "    user_ratings = test_ratings[test_ratings['userId'] == user_id]['rating'].values\n",
        "    user_predicted_ratings = predicted_ratings[test_ratings['userId'] == user_id]\n",
        "    actual_ratings_per_user.append(user_ratings)\n",
        "    predicted_ratings_per_user.append(user_predicted_ratings)\n",
        "\n",
        "# Calculate nDCG@10 for each user and average across all users\n",
        "nDCG_values = [ndcg_at_k(actual, predicted, 10) for actual, predicted in zip(actual_ratings_per_user, predicted_ratings_per_user)]\n",
        "nDCG = np.mean(nDCG_values)\n",
        "print(\"nDCG@10:\", nDCG)\n"
      ]
    },
    {
      "cell_type": "markdown",
      "id": "iBgwqirA3nDW",
      "metadata": {
        "id": "iBgwqirA3nDW"
      },
      "source": [
        "### Cold Start problem\n",
        "\n",
        "The cold start problem arises in recommendation systems when there is insufficient data about new users or items, making it challenging to provide accurate recommendations solely based on user-item interactions. One approach to address this issue is through content-based filtering."
      ]
    },
    {
      "cell_type": "code",
      "execution_count": null,
      "id": "g9uEeVXI3o1L",
      "metadata": {
        "colab": {
          "base_uri": "https://localhost:8080/",
          "height": 363
        },
        "id": "g9uEeVXI3o1L",
        "outputId": "c00100bd-686c-4291-9e6c-ac2ab94c914b"
      },
      "outputs": [
        {
          "data": {
            "application/vnd.google.colaboratory.intrinsic+json": {
              "summary": "{\n  \"name\": \"movies\",\n  \"rows\": 9742,\n  \"fields\": [\n    {\n      \"column\": \"movieId\",\n      \"properties\": {\n        \"dtype\": \"number\",\n        \"std\": 52160,\n        \"min\": 1,\n        \"max\": 193609,\n        \"num_unique_values\": 9742,\n        \"samples\": [\n          45635,\n          1373,\n          7325\n        ],\n        \"semantic_type\": \"\",\n        \"description\": \"\"\n      }\n    },\n    {\n      \"column\": \"title\",\n      \"properties\": {\n        \"dtype\": \"string\",\n        \"num_unique_values\": 9737,\n        \"samples\": [\n          \"Teenage Mutant Ninja Turtles (2014)\",\n          \"America's Sweethearts (2001)\",\n          \"Cast Away (2000)\"\n        ],\n        \"semantic_type\": \"\",\n        \"description\": \"\"\n      }\n    },\n    {\n      \"column\": \"genres\",\n      \"properties\": {\n        \"dtype\": \"category\",\n        \"num_unique_values\": 951,\n        \"samples\": [\n          \"Crime|Mystery|Romance|Thriller\",\n          \"Action|Adventure|Comedy|Western\",\n          \"Crime|Drama|Musical\"\n        ],\n        \"semantic_type\": \"\",\n        \"description\": \"\"\n      }\n    }\n  ]\n}",
              "type": "dataframe",
              "variable_name": "movies"
            },
            "text/html": [
              "\n",
              "  <div id=\"df-f9419d6d-bb7e-4574-a464-5bb65e52ba83\" class=\"colab-df-container\">\n",
              "    <div>\n",
              "<style scoped>\n",
              "    .dataframe tbody tr th:only-of-type {\n",
              "        vertical-align: middle;\n",
              "    }\n",
              "\n",
              "    .dataframe tbody tr th {\n",
              "        vertical-align: top;\n",
              "    }\n",
              "\n",
              "    .dataframe thead th {\n",
              "        text-align: right;\n",
              "    }\n",
              "</style>\n",
              "<table border=\"1\" class=\"dataframe\">\n",
              "  <thead>\n",
              "    <tr style=\"text-align: right;\">\n",
              "      <th></th>\n",
              "      <th>movieId</th>\n",
              "      <th>title</th>\n",
              "      <th>genres</th>\n",
              "    </tr>\n",
              "  </thead>\n",
              "  <tbody>\n",
              "    <tr>\n",
              "      <th>0</th>\n",
              "      <td>1</td>\n",
              "      <td>Toy Story (1995)</td>\n",
              "      <td>Adventure|Animation|Children|Comedy|Fantasy</td>\n",
              "    </tr>\n",
              "    <tr>\n",
              "      <th>1</th>\n",
              "      <td>2</td>\n",
              "      <td>Jumanji (1995)</td>\n",
              "      <td>Adventure|Children|Fantasy</td>\n",
              "    </tr>\n",
              "    <tr>\n",
              "      <th>2</th>\n",
              "      <td>3</td>\n",
              "      <td>Grumpier Old Men (1995)</td>\n",
              "      <td>Comedy|Romance</td>\n",
              "    </tr>\n",
              "    <tr>\n",
              "      <th>3</th>\n",
              "      <td>4</td>\n",
              "      <td>Waiting to Exhale (1995)</td>\n",
              "      <td>Comedy|Drama|Romance</td>\n",
              "    </tr>\n",
              "    <tr>\n",
              "      <th>4</th>\n",
              "      <td>5</td>\n",
              "      <td>Father of the Bride Part II (1995)</td>\n",
              "      <td>Comedy</td>\n",
              "    </tr>\n",
              "    <tr>\n",
              "      <th>5</th>\n",
              "      <td>6</td>\n",
              "      <td>Heat (1995)</td>\n",
              "      <td>Action|Crime|Thriller</td>\n",
              "    </tr>\n",
              "    <tr>\n",
              "      <th>6</th>\n",
              "      <td>7</td>\n",
              "      <td>Sabrina (1995)</td>\n",
              "      <td>Comedy|Romance</td>\n",
              "    </tr>\n",
              "    <tr>\n",
              "      <th>7</th>\n",
              "      <td>8</td>\n",
              "      <td>Tom and Huck (1995)</td>\n",
              "      <td>Adventure|Children</td>\n",
              "    </tr>\n",
              "    <tr>\n",
              "      <th>8</th>\n",
              "      <td>9</td>\n",
              "      <td>Sudden Death (1995)</td>\n",
              "      <td>Action</td>\n",
              "    </tr>\n",
              "    <tr>\n",
              "      <th>9</th>\n",
              "      <td>10</td>\n",
              "      <td>GoldenEye (1995)</td>\n",
              "      <td>Action|Adventure|Thriller</td>\n",
              "    </tr>\n",
              "  </tbody>\n",
              "</table>\n",
              "</div>\n",
              "    <div class=\"colab-df-buttons\">\n",
              "\n",
              "  <div class=\"colab-df-container\">\n",
              "    <button class=\"colab-df-convert\" onclick=\"convertToInteractive('df-f9419d6d-bb7e-4574-a464-5bb65e52ba83')\"\n",
              "            title=\"Convert this dataframe to an interactive table.\"\n",
              "            style=\"display:none;\">\n",
              "\n",
              "  <svg xmlns=\"http://www.w3.org/2000/svg\" height=\"24px\" viewBox=\"0 -960 960 960\">\n",
              "    <path d=\"M120-120v-720h720v720H120Zm60-500h600v-160H180v160Zm220 220h160v-160H400v160Zm0 220h160v-160H400v160ZM180-400h160v-160H180v160Zm440 0h160v-160H620v160ZM180-180h160v-160H180v160Zm440 0h160v-160H620v160Z\"/>\n",
              "  </svg>\n",
              "    </button>\n",
              "\n",
              "  <style>\n",
              "    .colab-df-container {\n",
              "      display:flex;\n",
              "      gap: 12px;\n",
              "    }\n",
              "\n",
              "    .colab-df-convert {\n",
              "      background-color: #E8F0FE;\n",
              "      border: none;\n",
              "      border-radius: 50%;\n",
              "      cursor: pointer;\n",
              "      display: none;\n",
              "      fill: #1967D2;\n",
              "      height: 32px;\n",
              "      padding: 0 0 0 0;\n",
              "      width: 32px;\n",
              "    }\n",
              "\n",
              "    .colab-df-convert:hover {\n",
              "      background-color: #E2EBFA;\n",
              "      box-shadow: 0px 1px 2px rgba(60, 64, 67, 0.3), 0px 1px 3px 1px rgba(60, 64, 67, 0.15);\n",
              "      fill: #174EA6;\n",
              "    }\n",
              "\n",
              "    .colab-df-buttons div {\n",
              "      margin-bottom: 4px;\n",
              "    }\n",
              "\n",
              "    [theme=dark] .colab-df-convert {\n",
              "      background-color: #3B4455;\n",
              "      fill: #D2E3FC;\n",
              "    }\n",
              "\n",
              "    [theme=dark] .colab-df-convert:hover {\n",
              "      background-color: #434B5C;\n",
              "      box-shadow: 0px 1px 3px 1px rgba(0, 0, 0, 0.15);\n",
              "      filter: drop-shadow(0px 1px 2px rgba(0, 0, 0, 0.3));\n",
              "      fill: #FFFFFF;\n",
              "    }\n",
              "  </style>\n",
              "\n",
              "    <script>\n",
              "      const buttonEl =\n",
              "        document.querySelector('#df-f9419d6d-bb7e-4574-a464-5bb65e52ba83 button.colab-df-convert');\n",
              "      buttonEl.style.display =\n",
              "        google.colab.kernel.accessAllowed ? 'block' : 'none';\n",
              "\n",
              "      async function convertToInteractive(key) {\n",
              "        const element = document.querySelector('#df-f9419d6d-bb7e-4574-a464-5bb65e52ba83');\n",
              "        const dataTable =\n",
              "          await google.colab.kernel.invokeFunction('convertToInteractive',\n",
              "                                                    [key], {});\n",
              "        if (!dataTable) return;\n",
              "\n",
              "        const docLinkHtml = 'Like what you see? Visit the ' +\n",
              "          '<a target=\"_blank\" href=https://colab.research.google.com/notebooks/data_table.ipynb>data table notebook</a>'\n",
              "          + ' to learn more about interactive tables.';\n",
              "        element.innerHTML = '';\n",
              "        dataTable['output_type'] = 'display_data';\n",
              "        await google.colab.output.renderOutput(dataTable, element);\n",
              "        const docLink = document.createElement('div');\n",
              "        docLink.innerHTML = docLinkHtml;\n",
              "        element.appendChild(docLink);\n",
              "      }\n",
              "    </script>\n",
              "  </div>\n",
              "\n",
              "\n",
              "<div id=\"df-198d21c6-0f30-4c9a-be1a-64605ac43bcd\">\n",
              "  <button class=\"colab-df-quickchart\" onclick=\"quickchart('df-198d21c6-0f30-4c9a-be1a-64605ac43bcd')\"\n",
              "            title=\"Suggest charts\"\n",
              "            style=\"display:none;\">\n",
              "\n",
              "<svg xmlns=\"http://www.w3.org/2000/svg\" height=\"24px\"viewBox=\"0 0 24 24\"\n",
              "     width=\"24px\">\n",
              "    <g>\n",
              "        <path d=\"M19 3H5c-1.1 0-2 .9-2 2v14c0 1.1.9 2 2 2h14c1.1 0 2-.9 2-2V5c0-1.1-.9-2-2-2zM9 17H7v-7h2v7zm4 0h-2V7h2v10zm4 0h-2v-4h2v4z\"/>\n",
              "    </g>\n",
              "</svg>\n",
              "  </button>\n",
              "\n",
              "<style>\n",
              "  .colab-df-quickchart {\n",
              "      --bg-color: #E8F0FE;\n",
              "      --fill-color: #1967D2;\n",
              "      --hover-bg-color: #E2EBFA;\n",
              "      --hover-fill-color: #174EA6;\n",
              "      --disabled-fill-color: #AAA;\n",
              "      --disabled-bg-color: #DDD;\n",
              "  }\n",
              "\n",
              "  [theme=dark] .colab-df-quickchart {\n",
              "      --bg-color: #3B4455;\n",
              "      --fill-color: #D2E3FC;\n",
              "      --hover-bg-color: #434B5C;\n",
              "      --hover-fill-color: #FFFFFF;\n",
              "      --disabled-bg-color: #3B4455;\n",
              "      --disabled-fill-color: #666;\n",
              "  }\n",
              "\n",
              "  .colab-df-quickchart {\n",
              "    background-color: var(--bg-color);\n",
              "    border: none;\n",
              "    border-radius: 50%;\n",
              "    cursor: pointer;\n",
              "    display: none;\n",
              "    fill: var(--fill-color);\n",
              "    height: 32px;\n",
              "    padding: 0;\n",
              "    width: 32px;\n",
              "  }\n",
              "\n",
              "  .colab-df-quickchart:hover {\n",
              "    background-color: var(--hover-bg-color);\n",
              "    box-shadow: 0 1px 2px rgba(60, 64, 67, 0.3), 0 1px 3px 1px rgba(60, 64, 67, 0.15);\n",
              "    fill: var(--button-hover-fill-color);\n",
              "  }\n",
              "\n",
              "  .colab-df-quickchart-complete:disabled,\n",
              "  .colab-df-quickchart-complete:disabled:hover {\n",
              "    background-color: var(--disabled-bg-color);\n",
              "    fill: var(--disabled-fill-color);\n",
              "    box-shadow: none;\n",
              "  }\n",
              "\n",
              "  .colab-df-spinner {\n",
              "    border: 2px solid var(--fill-color);\n",
              "    border-color: transparent;\n",
              "    border-bottom-color: var(--fill-color);\n",
              "    animation:\n",
              "      spin 1s steps(1) infinite;\n",
              "  }\n",
              "\n",
              "  @keyframes spin {\n",
              "    0% {\n",
              "      border-color: transparent;\n",
              "      border-bottom-color: var(--fill-color);\n",
              "      border-left-color: var(--fill-color);\n",
              "    }\n",
              "    20% {\n",
              "      border-color: transparent;\n",
              "      border-left-color: var(--fill-color);\n",
              "      border-top-color: var(--fill-color);\n",
              "    }\n",
              "    30% {\n",
              "      border-color: transparent;\n",
              "      border-left-color: var(--fill-color);\n",
              "      border-top-color: var(--fill-color);\n",
              "      border-right-color: var(--fill-color);\n",
              "    }\n",
              "    40% {\n",
              "      border-color: transparent;\n",
              "      border-right-color: var(--fill-color);\n",
              "      border-top-color: var(--fill-color);\n",
              "    }\n",
              "    60% {\n",
              "      border-color: transparent;\n",
              "      border-right-color: var(--fill-color);\n",
              "    }\n",
              "    80% {\n",
              "      border-color: transparent;\n",
              "      border-right-color: var(--fill-color);\n",
              "      border-bottom-color: var(--fill-color);\n",
              "    }\n",
              "    90% {\n",
              "      border-color: transparent;\n",
              "      border-bottom-color: var(--fill-color);\n",
              "    }\n",
              "  }\n",
              "</style>\n",
              "\n",
              "  <script>\n",
              "    async function quickchart(key) {\n",
              "      const quickchartButtonEl =\n",
              "        document.querySelector('#' + key + ' button');\n",
              "      quickchartButtonEl.disabled = true;  // To prevent multiple clicks.\n",
              "      quickchartButtonEl.classList.add('colab-df-spinner');\n",
              "      try {\n",
              "        const charts = await google.colab.kernel.invokeFunction(\n",
              "            'suggestCharts', [key], {});\n",
              "      } catch (error) {\n",
              "        console.error('Error during call to suggestCharts:', error);\n",
              "      }\n",
              "      quickchartButtonEl.classList.remove('colab-df-spinner');\n",
              "      quickchartButtonEl.classList.add('colab-df-quickchart-complete');\n",
              "    }\n",
              "    (() => {\n",
              "      let quickchartButtonEl =\n",
              "        document.querySelector('#df-198d21c6-0f30-4c9a-be1a-64605ac43bcd button');\n",
              "      quickchartButtonEl.style.display =\n",
              "        google.colab.kernel.accessAllowed ? 'block' : 'none';\n",
              "    })();\n",
              "  </script>\n",
              "</div>\n",
              "\n",
              "    </div>\n",
              "  </div>\n"
            ],
            "text/plain": [
              "   movieId                               title  \\\n",
              "0        1                    Toy Story (1995)   \n",
              "1        2                      Jumanji (1995)   \n",
              "2        3             Grumpier Old Men (1995)   \n",
              "3        4            Waiting to Exhale (1995)   \n",
              "4        5  Father of the Bride Part II (1995)   \n",
              "5        6                         Heat (1995)   \n",
              "6        7                      Sabrina (1995)   \n",
              "7        8                 Tom and Huck (1995)   \n",
              "8        9                 Sudden Death (1995)   \n",
              "9       10                    GoldenEye (1995)   \n",
              "\n",
              "                                        genres  \n",
              "0  Adventure|Animation|Children|Comedy|Fantasy  \n",
              "1                   Adventure|Children|Fantasy  \n",
              "2                               Comedy|Romance  \n",
              "3                         Comedy|Drama|Romance  \n",
              "4                                       Comedy  \n",
              "5                        Action|Crime|Thriller  \n",
              "6                               Comedy|Romance  \n",
              "7                           Adventure|Children  \n",
              "8                                       Action  \n",
              "9                    Action|Adventure|Thriller  "
            ]
          },
          "execution_count": 2,
          "metadata": {},
          "output_type": "execute_result"
        }
      ],
      "source": [
        "import pandas as pd\n",
        "import seaborn as sns\n",
        "import matplotlib.pyplot as plt\n",
        "import re\n",
        "from collections import Counter\n",
        "\n",
        "\n",
        "movies = pd.read_csv(\"ml-20m/ml-20m/movies.csv\")\n",
        "movies.head(10)"
      ]
    },
    {
      "cell_type": "code",
      "execution_count": null,
      "id": "j20gderC3ox8",
      "metadata": {
        "id": "j20gderC3ox8"
      },
      "outputs": [],
      "source": [
        "# Splitting genres and creating a list\n",
        "movies['genres'] = movies['genres'].apply(lambda x: x.split(\"|\"))"
      ]
    },
    {
      "cell_type": "code",
      "execution_count": null,
      "id": "hrO3LM2h3ovo",
      "metadata": {
        "colab": {
          "base_uri": "https://localhost:8080/"
        },
        "id": "hrO3LM2h3ovo",
        "outputId": "35ffa11d-2bc3-49c8-be1c-a561f81039b8"
      },
      "outputs": [
        {
          "name": "stdout",
          "output_type": "stream",
          "text": [
            "There are 20 genre labels.\n"
          ]
        }
      ],
      "source": [
        "# Counting occurrences of each genre\n",
        "genres_counts = Counter(g for genres in movies['genres'] for g in genres)\n",
        "print(f\"There are {len(genres_counts)} genre labels.\")"
      ]
    },
    {
      "cell_type": "code",
      "execution_count": null,
      "id": "R5w2nMj63otL",
      "metadata": {
        "id": "R5w2nMj63otL"
      },
      "outputs": [],
      "source": [
        "# Removing movies with no genre listed\n",
        "movies = movies[movies['genres'] != '(no genres listed)']\n",
        "del genres_counts['(no genres listed)']"
      ]
    },
    {
      "cell_type": "code",
      "execution_count": null,
      "id": "IRPQHGJ-3oq9",
      "metadata": {
        "colab": {
          "base_uri": "https://localhost:8080/"
        },
        "id": "IRPQHGJ-3oq9",
        "outputId": "80c5235b-3488-4010-ade7-d719b6416cc7"
      },
      "outputs": [
        {
          "name": "stdout",
          "output_type": "stream",
          "text": [
            "The 5 most common genres: \n",
            " [('Drama', 4361), ('Comedy', 3756), ('Thriller', 1894), ('Action', 1828), ('Romance', 1596)]\n"
          ]
        }
      ],
      "source": [
        "# Printing the 5 most common genres\n",
        "print(\"The 5 most common genres: \\n\", genres_counts.most_common(5))"
      ]
    },
    {
      "cell_type": "code",
      "execution_count": null,
      "id": "KWj2OGAY3ooh",
      "metadata": {
        "id": "KWj2OGAY3ooh"
      },
      "outputs": [],
      "source": [
        "# Converting Counter to DataFrame for plotting\n",
        "genres_counts_df = pd.DataFrame([genres_counts]).T.reset_index()\n",
        "genres_counts_df.columns = ['genres', 'count']\n",
        "genres_counts_df = genres_counts_df.sort_values(by='count', ascending=False)\n"
      ]
    },
    {
      "cell_type": "code",
      "execution_count": null,
      "id": "H5w1fQZmB0Wj",
      "metadata": {
        "colab": {
          "base_uri": "https://localhost:8080/",
          "height": 632
        },
        "id": "H5w1fQZmB0Wj",
        "outputId": "5a3ba30c-a4ac-45e9-a347-cf551f88c469"
      },
      "outputs": [
        {
          "name": "stderr",
          "output_type": "stream",
          "text": [
            "<ipython-input-8-2d6203877f60>:3: FutureWarning: \n",
            "\n",
            "Passing `palette` without assigning `hue` is deprecated and will be removed in v0.14.0. Assign the `x` variable to `hue` and set `legend=False` for the same effect.\n",
            "\n",
            "  sns.barplot(x='genres', y='count', data=genres_counts_df, palette='viridis')\n"
          ]
        },
        {
          "data": {
            "image/png": "[encoded data removed]",
            "text/plain": [
              "<Figure size 1000x500 with 1 Axes>"
            ]
          },
          "metadata": {},
          "output_type": "display_data"
        }
      ],
      "source": [
        "# Plotting genre counts\n",
        "plt.figure(figsize=(10,5))\n",
        "sns.barplot(x='genres', y='count', data=genres_counts_df, palette='viridis')\n",
        "plt.xticks(rotation=90)\n",
        "plt.show()"
      ]
    },
    {
      "cell_type": "code",
      "execution_count": null,
      "id": "QNCgym7tB0TD",
      "metadata": {
        "id": "QNCgym7tB0TD"
      },
      "outputs": [],
      "source": [
        "# Function to extract year from movie title\n",
        "def extract_year_from_title(title):\n",
        "    t = title.split(' ')\n",
        "    year = None\n",
        "    if re.search(r'\\(\\d+\\)', t[-1]):\n",
        "        year = t[-1].strip('()')\n",
        "        year = int(year)\n",
        "    return year"
      ]
    },
    {
      "cell_type": "code",
      "execution_count": null,
      "id": "j-L5vKzqB0Q_",
      "metadata": {
        "colab": {
          "base_uri": "https://localhost:8080/",
          "height": 363
        },
        "id": "j-L5vKzqB0Q_",
        "outputId": "5eaf146c-6b28-475c-cc66-34d1cdc9ab65"
      },
      "outputs": [
        {
          "data": {
            "application/vnd.google.colaboratory.intrinsic+json": {
              "summary": "{\n  \"name\": \"movies\",\n  \"rows\": 9718,\n  \"fields\": [\n    {\n      \"column\": \"movieId\",\n      \"properties\": {\n        \"dtype\": \"number\",\n        \"std\": 52026,\n        \"min\": 1,\n        \"max\": 193609,\n        \"num_unique_values\": 9718,\n        \"samples\": [\n          33677,\n          6350,\n          1446\n        ],\n        \"semantic_type\": \"\",\n        \"description\": \"\"\n      }\n    },\n    {\n      \"column\": \"title\",\n      \"properties\": {\n        \"dtype\": \"string\",\n        \"num_unique_values\": 9713,\n        \"samples\": [\n          \"Soul Surfer (2011)\",\n          \"Anastasia (1956)\",\n          \"Pan (2015)\"\n        ],\n        \"semantic_type\": \"\",\n        \"description\": \"\"\n      }\n    },\n    {\n      \"column\": \"genres\",\n      \"properties\": {\n        \"dtype\": \"object\",\n        \"semantic_type\": \"\",\n        \"description\": \"\"\n      }\n    },\n    {\n      \"column\": \"year\",\n      \"properties\": {\n        \"dtype\": \"number\",\n        \"std\": 18,\n        \"min\": 1902,\n        \"max\": 2018,\n        \"num_unique_values\": 106,\n        \"samples\": [\n          2014,\n          1982,\n          1992\n        ],\n        \"semantic_type\": \"\",\n        \"description\": \"\"\n      }\n    }\n  ]\n}",
              "type": "dataframe",
              "variable_name": "movies"
            },
            "text/html": [
              "\n",
              "  <div id=\"df-bb530f71-3e81-4b55-8809-0cc3235d5e23\" class=\"colab-df-container\">\n",
              "    <div>\n",
              "<style scoped>\n",
              "    .dataframe tbody tr th:only-of-type {\n",
              "        vertical-align: middle;\n",
              "    }\n",
              "\n",
              "    .dataframe tbody tr th {\n",
              "        vertical-align: top;\n",
              "    }\n",
              "\n",
              "    .dataframe thead th {\n",
              "        text-align: right;\n",
              "    }\n",
              "</style>\n",
              "<table border=\"1\" class=\"dataframe\">\n",
              "  <thead>\n",
              "    <tr style=\"text-align: right;\">\n",
              "      <th></th>\n",
              "      <th>movieId</th>\n",
              "      <th>title</th>\n",
              "      <th>genres</th>\n",
              "      <th>year</th>\n",
              "    </tr>\n",
              "  </thead>\n",
              "  <tbody>\n",
              "    <tr>\n",
              "      <th>0</th>\n",
              "      <td>1</td>\n",
              "      <td>Toy Story (1995)</td>\n",
              "      <td>[Adventure, Animation, Children, Comedy, Fantasy]</td>\n",
              "      <td>1995</td>\n",
              "    </tr>\n",
              "    <tr>\n",
              "      <th>1</th>\n",
              "      <td>2</td>\n",
              "      <td>Jumanji (1995)</td>\n",
              "      <td>[Adventure, Children, Fantasy]</td>\n",
              "      <td>1995</td>\n",
              "    </tr>\n",
              "    <tr>\n",
              "      <th>2</th>\n",
              "      <td>3</td>\n",
              "      <td>Grumpier Old Men (1995)</td>\n",
              "      <td>[Comedy, Romance]</td>\n",
              "      <td>1995</td>\n",
              "    </tr>\n",
              "    <tr>\n",
              "      <th>3</th>\n",
              "      <td>4</td>\n",
              "      <td>Waiting to Exhale (1995)</td>\n",
              "      <td>[Comedy, Drama, Romance]</td>\n",
              "      <td>1995</td>\n",
              "    </tr>\n",
              "    <tr>\n",
              "      <th>4</th>\n",
              "      <td>5</td>\n",
              "      <td>Father of the Bride Part II (1995)</td>\n",
              "      <td>[Comedy]</td>\n",
              "      <td>1995</td>\n",
              "    </tr>\n",
              "    <tr>\n",
              "      <th>5</th>\n",
              "      <td>6</td>\n",
              "      <td>Heat (1995)</td>\n",
              "      <td>[Action, Crime, Thriller]</td>\n",
              "      <td>1995</td>\n",
              "    </tr>\n",
              "    <tr>\n",
              "      <th>6</th>\n",
              "      <td>7</td>\n",
              "      <td>Sabrina (1995)</td>\n",
              "      <td>[Comedy, Romance]</td>\n",
              "      <td>1995</td>\n",
              "    </tr>\n",
              "    <tr>\n",
              "      <th>7</th>\n",
              "      <td>8</td>\n",
              "      <td>Tom and Huck (1995)</td>\n",
              "      <td>[Adventure, Children]</td>\n",
              "      <td>1995</td>\n",
              "    </tr>\n",
              "    <tr>\n",
              "      <th>8</th>\n",
              "      <td>9</td>\n",
              "      <td>Sudden Death (1995)</td>\n",
              "      <td>[Action]</td>\n",
              "      <td>1995</td>\n",
              "    </tr>\n",
              "    <tr>\n",
              "      <th>9</th>\n",
              "      <td>10</td>\n",
              "      <td>GoldenEye (1995)</td>\n",
              "      <td>[Action, Adventure, Thriller]</td>\n",
              "      <td>1995</td>\n",
              "    </tr>\n",
              "  </tbody>\n",
              "</table>\n",
              "</div>\n",
              "    <div class=\"colab-df-buttons\">\n",
              "\n",
              "  <div class=\"colab-df-container\">\n",
              "    <button class=\"colab-df-convert\" onclick=\"convertToInteractive('df-bb530f71-3e81-4b55-8809-0cc3235d5e23')\"\n",
              "            title=\"Convert this dataframe to an interactive table.\"\n",
              "            style=\"display:none;\">\n",
              "\n",
              "  <svg xmlns=\"http://www.w3.org/2000/svg\" height=\"24px\" viewBox=\"0 -960 960 960\">\n",
              "    <path d=\"M120-120v-720h720v720H120Zm60-500h600v-160H180v160Zm220 220h160v-160H400v160Zm0 220h160v-160H400v160ZM180-400h160v-160H180v160Zm440 0h160v-160H620v160ZM180-180h160v-160H180v160Zm440 0h160v-160H620v160Z\"/>\n",
              "  </svg>\n",
              "    </button>\n",
              "\n",
              "  <style>\n",
              "    .colab-df-container {\n",
              "      display:flex;\n",
              "      gap: 12px;\n",
              "    }\n",
              "\n",
              "    .colab-df-convert {\n",
              "      background-color: #E8F0FE;\n",
              "      border: none;\n",
              "      border-radius: 50%;\n",
              "      cursor: pointer;\n",
              "      display: none;\n",
              "      fill: #1967D2;\n",
              "      height: 32px;\n",
              "      padding: 0 0 0 0;\n",
              "      width: 32px;\n",
              "    }\n",
              "\n",
              "    .colab-df-convert:hover {\n",
              "      background-color: #E2EBFA;\n",
              "      box-shadow: 0px 1px 2px rgba(60, 64, 67, 0.3), 0px 1px 3px 1px rgba(60, 64, 67, 0.15);\n",
              "      fill: #174EA6;\n",
              "    }\n",
              "\n",
              "    .colab-df-buttons div {\n",
              "      margin-bottom: 4px;\n",
              "    }\n",
              "\n",
              "    [theme=dark] .colab-df-convert {\n",
              "      background-color: #3B4455;\n",
              "      fill: #D2E3FC;\n",
              "    }\n",
              "\n",
              "    [theme=dark] .colab-df-convert:hover {\n",
              "      background-color: #434B5C;\n",
              "      box-shadow: 0px 1px 3px 1px rgba(0, 0, 0, 0.15);\n",
              "      filter: drop-shadow(0px 1px 2px rgba(0, 0, 0, 0.3));\n",
              "      fill: #FFFFFF;\n",
              "    }\n",
              "  </style>\n",
              "\n",
              "    <script>\n",
              "      const buttonEl =\n",
              "        document.querySelector('#df-bb530f71-3e81-4b55-8809-0cc3235d5e23 button.colab-df-convert');\n",
              "      buttonEl.style.display =\n",
              "        google.colab.kernel.accessAllowed ? 'block' : 'none';\n",
              "\n",
              "      async function convertToInteractive(key) {\n",
              "        const element = document.querySelector('#df-bb530f71-3e81-4b55-8809-0cc3235d5e23');\n",
              "        const dataTable =\n",
              "          await google.colab.kernel.invokeFunction('convertToInteractive',\n",
              "                                                    [key], {});\n",
              "        if (!dataTable) return;\n",
              "\n",
              "        const docLinkHtml = 'Like what you see? Visit the ' +\n",
              "          '<a target=\"_blank\" href=https://colab.research.google.com/notebooks/data_table.ipynb>data table notebook</a>'\n",
              "          + ' to learn more about interactive tables.';\n",
              "        element.innerHTML = '';\n",
              "        dataTable['output_type'] = 'display_data';\n",
              "        await google.colab.output.renderOutput(dataTable, element);\n",
              "        const docLink = document.createElement('div');\n",
              "        docLink.innerHTML = docLinkHtml;\n",
              "        element.appendChild(docLink);\n",
              "      }\n",
              "    </script>\n",
              "  </div>\n",
              "\n",
              "\n",
              "<div id=\"df-849d0cbe-45db-4108-b55a-a33b5655d9ab\">\n",
              "  <button class=\"colab-df-quickchart\" onclick=\"quickchart('df-849d0cbe-45db-4108-b55a-a33b5655d9ab')\"\n",
              "            title=\"Suggest charts\"\n",
              "            style=\"display:none;\">\n",
              "\n",
              "<svg xmlns=\"http://www.w3.org/2000/svg\" height=\"24px\"viewBox=\"0 0 24 24\"\n",
              "     width=\"24px\">\n",
              "    <g>\n",
              "        <path d=\"M19 3H5c-1.1 0-2 .9-2 2v14c0 1.1.9 2 2 2h14c1.1 0 2-.9 2-2V5c0-1.1-.9-2-2-2zM9 17H7v-7h2v7zm4 0h-2V7h2v10zm4 0h-2v-4h2v4z\"/>\n",
              "    </g>\n",
              "</svg>\n",
              "  </button>\n",
              "\n",
              "<style>\n",
              "  .colab-df-quickchart {\n",
              "      --bg-color: #E8F0FE;\n",
              "      --fill-color: #1967D2;\n",
              "      --hover-bg-color: #E2EBFA;\n",
              "      --hover-fill-color: #174EA6;\n",
              "      --disabled-fill-color: #AAA;\n",
              "      --disabled-bg-color: #DDD;\n",
              "  }\n",
              "\n",
              "  [theme=dark] .colab-df-quickchart {\n",
              "      --bg-color: #3B4455;\n",
              "      --fill-color: #D2E3FC;\n",
              "      --hover-bg-color: #434B5C;\n",
              "      --hover-fill-color: #FFFFFF;\n",
              "      --disabled-bg-color: #3B4455;\n",
              "      --disabled-fill-color: #666;\n",
              "  }\n",
              "\n",
              "  .colab-df-quickchart {\n",
              "    background-color: var(--bg-color);\n",
              "    border: none;\n",
              "    border-radius: 50%;\n",
              "    cursor: pointer;\n",
              "    display: none;\n",
              "    fill: var(--fill-color);\n",
              "    height: 32px;\n",
              "    padding: 0;\n",
              "    width: 32px;\n",
              "  }\n",
              "\n",
              "  .colab-df-quickchart:hover {\n",
              "    background-color: var(--hover-bg-color);\n",
              "    box-shadow: 0 1px 2px rgba(60, 64, 67, 0.3), 0 1px 3px 1px rgba(60, 64, 67, 0.15);\n",
              "    fill: var(--button-hover-fill-color);\n",
              "  }\n",
              "\n",
              "  .colab-df-quickchart-complete:disabled,\n",
              "  .colab-df-quickchart-complete:disabled:hover {\n",
              "    background-color: var(--disabled-bg-color);\n",
              "    fill: var(--disabled-fill-color);\n",
              "    box-shadow: none;\n",
              "  }\n",
              "\n",
              "  .colab-df-spinner {\n",
              "    border: 2px solid var(--fill-color);\n",
              "    border-color: transparent;\n",
              "    border-bottom-color: var(--fill-color);\n",
              "    animation:\n",
              "      spin 1s steps(1) infinite;\n",
              "  }\n",
              "\n",
              "  @keyframes spin {\n",
              "    0% {\n",
              "      border-color: transparent;\n",
              "      border-bottom-color: var(--fill-color);\n",
              "      border-left-color: var(--fill-color);\n",
              "    }\n",
              "    20% {\n",
              "      border-color: transparent;\n",
              "      border-left-color: var(--fill-color);\n",
              "      border-top-color: var(--fill-color);\n",
              "    }\n",
              "    30% {\n",
              "      border-color: transparent;\n",
              "      border-left-color: var(--fill-color);\n",
              "      border-top-color: var(--fill-color);\n",
              "      border-right-color: var(--fill-color);\n",
              "    }\n",
              "    40% {\n",
              "      border-color: transparent;\n",
              "      border-right-color: var(--fill-color);\n",
              "      border-top-color: var(--fill-color);\n",
              "    }\n",
              "    60% {\n",
              "      border-color: transparent;\n",
              "      border-right-color: var(--fill-color);\n",
              "    }\n",
              "    80% {\n",
              "      border-color: transparent;\n",
              "      border-right-color: var(--fill-color);\n",
              "      border-bottom-color: var(--fill-color);\n",
              "    }\n",
              "    90% {\n",
              "      border-color: transparent;\n",
              "      border-bottom-color: var(--fill-color);\n",
              "    }\n",
              "  }\n",
              "</style>\n",
              "\n",
              "  <script>\n",
              "    async function quickchart(key) {\n",
              "      const quickchartButtonEl =\n",
              "        document.querySelector('#' + key + ' button');\n",
              "      quickchartButtonEl.disabled = true;  // To prevent multiple clicks.\n",
              "      quickchartButtonEl.classList.add('colab-df-spinner');\n",
              "      try {\n",
              "        const charts = await google.colab.kernel.invokeFunction(\n",
              "            'suggestCharts', [key], {});\n",
              "      } catch (error) {\n",
              "        console.error('Error during call to suggestCharts:', error);\n",
              "      }\n",
              "      quickchartButtonEl.classList.remove('colab-df-spinner');\n",
              "      quickchartButtonEl.classList.add('colab-df-quickchart-complete');\n",
              "    }\n",
              "    (() => {\n",
              "      let quickchartButtonEl =\n",
              "        document.querySelector('#df-849d0cbe-45db-4108-b55a-a33b5655d9ab button');\n",
              "      quickchartButtonEl.style.display =\n",
              "        google.colab.kernel.accessAllowed ? 'block' : 'none';\n",
              "    })();\n",
              "  </script>\n",
              "</div>\n",
              "\n",
              "    </div>\n",
              "  </div>\n"
            ],
            "text/plain": [
              "   movieId                               title  \\\n",
              "0        1                    Toy Story (1995)   \n",
              "1        2                      Jumanji (1995)   \n",
              "2        3             Grumpier Old Men (1995)   \n",
              "3        4            Waiting to Exhale (1995)   \n",
              "4        5  Father of the Bride Part II (1995)   \n",
              "5        6                         Heat (1995)   \n",
              "6        7                      Sabrina (1995)   \n",
              "7        8                 Tom and Huck (1995)   \n",
              "8        9                 Sudden Death (1995)   \n",
              "9       10                    GoldenEye (1995)   \n",
              "\n",
              "                                              genres  year  \n",
              "0  [Adventure, Animation, Children, Comedy, Fantasy]  1995  \n",
              "1                     [Adventure, Children, Fantasy]  1995  \n",
              "2                                  [Comedy, Romance]  1995  \n",
              "3                           [Comedy, Drama, Romance]  1995  \n",
              "4                                           [Comedy]  1995  \n",
              "5                          [Action, Crime, Thriller]  1995  \n",
              "6                                  [Comedy, Romance]  1995  \n",
              "7                              [Adventure, Children]  1995  \n",
              "8                                           [Action]  1995  \n",
              "9                      [Action, Adventure, Thriller]  1995  "
            ]
          },
          "execution_count": 12,
          "metadata": {},
          "output_type": "execute_result"
        }
      ],
      "source": [
        "# Applying the function to create a 'year' column\n",
        "movies['year'] = movies['title'].apply(extract_year_from_title)\n",
        "\n",
        "# Removing rows with null years\n",
        "movies = movies.dropna(subset=['year'])\n",
        "movies.head(10)"
      ]
    },
    {
      "cell_type": "code",
      "execution_count": null,
      "id": "7D1DM-HxB0O0",
      "metadata": {
        "colab": {
          "base_uri": "https://localhost:8080/"
        },
        "id": "7D1DM-HxB0O0",
        "outputId": "461004e1-d0b5-4d79-8557-01c4501395f0"
      },
      "outputs": [
        {
          "name": "stdout",
          "output_type": "stream",
          "text": [
            "Number of unique years: 106\n"
          ]
        }
      ],
      "source": [
        "# Counting unique years\n",
        "print(f\"Number of unique years: {movies['year'].nunique()}\")\n"
      ]
    },
    {
      "cell_type": "code",
      "execution_count": null,
      "id": "Aoq3_1OWB0MY",
      "metadata": {
        "colab": {
          "base_uri": "https://localhost:8080/"
        },
        "id": "Aoq3_1OWB0MY",
        "outputId": "0b202695-686a-46c7-a9ec-d277ab4b2169"
      },
      "outputs": [
        {
          "name": "stdout",
          "output_type": "stream",
          "text": [
            "Original number of movies: 9718\n",
            "Number of movies after removing null years: 9718\n"
          ]
        }
      ],
      "source": [
        "# Removing null years\n",
        "print(f\"Original number of movies: {movies['movieId'].nunique()}\")\n",
        "movies = movies.dropna(subset=['year'])\n",
        "print(f\"Number of movies after removing null years: {movies['movieId'].nunique()}\")\n"
      ]
    },
    {
      "cell_type": "code",
      "execution_count": null,
      "id": "uZtiA-mfCm6w",
      "metadata": {
        "id": "uZtiA-mfCm6w"
      },
      "outputs": [],
      "source": [
        "# Function to get decade from year\n",
        "def get_decade(year):\n",
        "    year = str(year)\n",
        "    decade_prefix = year[0:3] # get first 3 digits of year\n",
        "    decade = f'{decade_prefix}0' # append 0 at the end\n",
        "    return int(decade)\n",
        "\n",
        "# Applying the function to create a 'decade' column\n",
        "movies['decade'] = movies['year'].apply(get_decade)"
      ]
    },
    {
      "cell_type": "markdown",
      "id": "rj_ZjWC4DJx2",
      "metadata": {
        "id": "rj_ZjWC4DJx2"
      },
      "source": [
        "Transforming the Data:\n",
        "In order to build a content-based filtering recommender, we need to set up our dataset so that rows represent movies and columns represent features (i.e., genres and decades).\n",
        "\n",
        "First, we need to manipulate the genres column so that each genre is represented as a separate binary feature. \"1\" indicates that the movie falls under a given genre, while \"0\" does not."
      ]
    },
    {
      "cell_type": "code",
      "execution_count": null,
      "id": "onMdc7jZCm3a",
      "metadata": {
        "colab": {
          "base_uri": "https://localhost:8080/"
        },
        "id": "onMdc7jZCm3a",
        "outputId": "11106a0c-0d8f-4401-ee14-40e79f97e6ac"
      },
      "outputs": [
        {
          "name": "stdout",
          "output_type": "stream",
          "text": [
            "Collecting fuzzywuzzy\n",
            "  Downloading fuzzywuzzy-0.18.0-py2.py3-none-any.whl (18 kB)\n",
            "Installing collected packages: fuzzywuzzy\n",
            "Successfully installed fuzzywuzzy-0.18.0\n"
          ]
        }
      ],
      "source": [
        "!pip install fuzzywuzzy\n"
      ]
    },
    {
      "cell_type": "code",
      "execution_count": null,
      "id": "MQZNzmcsCm0p",
      "metadata": {
        "colab": {
          "base_uri": "https://localhost:8080/"
        },
        "id": "MQZNzmcsCm0p",
        "outputId": "edd1f01b-1daf-43cd-a442-7eb872816baa"
      },
      "outputs": [
        {
          "name": "stderr",
          "output_type": "stream",
          "text": [
            "/usr/local/lib/python3.10/dist-packages/fuzzywuzzy/fuzz.py:11: UserWarning: Using slow pure-python SequenceMatcher. Install python-Levenshtein to remove this warning\n",
            "  warnings.warn('Using slow pure-python SequenceMatcher. Install python-Levenshtein to remove this warning')\n"
          ]
        }
      ],
      "source": [
        "\n",
        "from sklearn.metrics.pairwise import cosine_similarity\n",
        "from fuzzywuzzy import process"
      ]
    },
    {
      "cell_type": "code",
      "execution_count": null,
      "id": "SkXsYtOjCmyT",
      "metadata": {
        "id": "SkXsYtOjCmyT"
      },
      "outputs": [],
      "source": [
        "# Define genres\n",
        "genres = list(genres_counts.keys())\n",
        "\n",
        "# Create genre binary features\n",
        "for g in genres:\n",
        "    movies[g] = movies['genres'].transform(lambda x: int(g in x))"
      ]
    },
    {
      "cell_type": "code",
      "execution_count": null,
      "id": "yLp4xvPECmv9",
      "metadata": {
        "id": "yLp4xvPECmv9"
      },
      "outputs": [],
      "source": [
        "# One-hot encode movie decades\n",
        "movie_decades = pd.get_dummies(movies['decade'])\n",
        "\n",
        "# Concatenate genre binary features and decade one-hot encoded features\n",
        "movie_features = pd.concat([movies[genres], movie_decades], axis=1)\n"
      ]
    },
    {
      "cell_type": "code",
      "execution_count": null,
      "id": "7hX66a6oCmti",
      "metadata": {
        "id": "7hX66a6oCmti"
      },
      "outputs": [],
      "source": [
        "# Compute cosine similarity matrix\n",
        "cosine_sim = cosine_similarity(movie_features, movie_features)\n",
        "\n",
        "# Function to find the closest matching movie title\n",
        "def movie_finder(title):\n",
        "    all_titles = movies['title'].tolist()\n",
        "    closest_match = process.extractOne(title, all_titles)\n",
        "    return closest_match[0]\n",
        "\n",
        "# Function to get content-based recommendations\n",
        "def get_content_based_recommendations(title_string, n_recommendations=10):\n",
        "    title = movie_finder(title_string)\n",
        "    idx = movie_idx[title]\n",
        "    sim_scores = list(enumerate(cosine_sim[idx]))\n",
        "    sim_scores = sorted(sim_scores, key=lambda x: x[1], reverse=True)\n",
        "    sim_scores = sim_scores[1:(n_recommendations+1)]\n",
        "    similar_movies = [i[0] for i in sim_scores]\n",
        "    print(f\"Recommendations for {title}:\")\n",
        "    print(movies['title'].iloc[similar_movies])\n"
      ]
    },
    {
      "cell_type": "code",
      "execution_count": null,
      "id": "0bBLtJI1CmrL",
      "metadata": {
        "colab": {
          "base_uri": "https://localhost:8080/"
        },
        "id": "0bBLtJI1CmrL",
        "outputId": "76db5e5d-e085-47b4-9e5a-9b6add3cc705"
      },
      "outputs": [
        {
          "name": "stdout",
          "output_type": "stream",
          "text": [
            "Recommendations for Aladdin (1992):\n",
            "1177                                      Hercules (1997)\n",
            "95                          Muppet Treasure Island (1996)\n",
            "673     Land Before Time III: The Time of the Great Gi...\n",
            "1757                                 Bug's Life, A (1998)\n",
            "3727                Ferngully: The Last Rainforest (1992)\n",
            "Name: title, dtype: object\n"
          ]
        }
      ],
      "source": [
        "# Finding movie index from title\n",
        "movie_idx = dict(zip(movies['title'], list(movies.index)))\n",
        "\n",
        "# Example usage\n",
        "get_content_based_recommendations('aladin', 5)"
      ]
    },
    {
      "cell_type": "markdown",
      "id": "HpFrOsHYP-2G",
      "metadata": {
        "id": "HpFrOsHYP-2G"
      },
      "source": [
        "# References\n",
        "\n",
        "* https://towardsdatascience.com/neural-collaborative-filtering-96cef1009401\n",
        "\n",
        "* https://www.mygreatlearning.com/blog/matrix-factorization-explained/\n",
        "\n",
        "* https://towardsdatascience.com/item-based-collaborative-filtering-in-python-91f747200fab\n",
        "\n",
        "* https://medium.com/data-science-in-your-pocket/recommendation-systems-using-neural-collaborative-filtering-ncf-explained-with-codes-21a97e48a2f7\n",
        "\n",
        "* https://towardsdatascience.com/fast-ai-season-1-episode-5-1-movie-recommendation-using-fastai-a53ed8e41269\n",
        "\n"
      ]
    }
  ],
  "metadata": {
    "accelerator": "GPU",
    "colab": {
      "gpuType": "T4",
      "machine_shape": "hm",
      "provenance": []
    },
    "kernelspec": {
      "display_name": "Python 3",
      "name": "python3"
    },
    "language_info": {
      "codemirror_mode": {
        "name": "ipython",
        "version": 3
      },
      "file_extension": ".py",
      "mimetype": "text/x-python",
      "name": "python",
      "nbconvert_exporter": "python",
      "pygments_lexer": "ipython3",
      "version": "3.10.11"
    },
    "widgets": {
      "application/vnd.jupyter.widget-state+json": {
        "25e044ca8d084be28ef05f26f1f3d0de": {
          "model_module": "@jupyter-widgets/controls",
          "model_module_version": "1.5.0",
          "model_name": "DescriptionStyleModel",
          "state": {
            "_model_module": "@jupyter-widgets/controls",
            "_model_module_version": "1.5.0",
            "_model_name": "DescriptionStyleModel",
            "_view_count": null,
            "_view_module": "@jupyter-widgets/base",
            "_view_module_version": "1.2.0",
            "_view_name": "StyleView",
            "description_width": ""
          }
        },
        "2bb04176d6ec47b0aff286787aa41584": {
          "model_module": "@jupyter-widgets/controls",
          "model_module_version": "1.5.0",
          "model_name": "FloatProgressModel",
          "state": {
            "_dom_classes": [],
            "_model_module": "@jupyter-widgets/controls",
            "_model_module_version": "1.5.0",
            "_model_name": "FloatProgressModel",
            "_view_count": null,
            "_view_module": "@jupyter-widgets/controls",
            "_view_module_version": "1.5.0",
            "_view_name": "ProgressView",
            "bar_style": "success",
            "description": "",
            "description_tooltip": null,
            "layout": "IPY_MODEL_990c104859704bc085e6e069ed4ed5fc",
            "max": 300,
            "min": 0,
            "orientation": "horizontal",
            "style": "IPY_MODEL_60916398f8744c4c875e3704a3483633",
            "value": 300
          }
        },
        "2d6e89dc2f69458f9e0a1cc02bf81399": {
          "model_module": "@jupyter-widgets/base",
          "model_module_version": "1.2.0",
          "model_name": "LayoutModel",
          "state": {
            "_model_module": "@jupyter-widgets/base",
            "_model_module_version": "1.2.0",
            "_model_name": "LayoutModel",
            "_view_count": null,
            "_view_module": "@jupyter-widgets/base",
            "_view_module_version": "1.2.0",
            "_view_name": "LayoutView",
            "align_content": null,
            "align_items": null,
            "align_self": null,
            "border": null,
            "bottom": null,
            "display": null,
            "flex": null,
            "flex_flow": null,
            "grid_area": null,
            "grid_auto_columns": null,
            "grid_auto_flow": null,
            "grid_auto_rows": null,
            "grid_column": null,
            "grid_gap": null,
            "grid_row": null,
            "grid_template_areas": null,
            "grid_template_columns": null,
            "grid_template_rows": null,
            "height": null,
            "justify_content": null,
            "justify_items": null,
            "left": null,
            "margin": null,
            "max_height": null,
            "max_width": null,
            "min_height": null,
            "min_width": null,
            "object_fit": null,
            "object_position": null,
            "order": null,
            "overflow": null,
            "overflow_x": null,
            "overflow_y": null,
            "padding": null,
            "right": null,
            "top": null,
            "visibility": null,
            "width": null
          }
        },
        "4e279ddc5ce54c7488330651f6fa6aa1": {
          "model_module": "@jupyter-widgets/base",
          "model_module_version": "1.2.0",
          "model_name": "LayoutModel",
          "state": {
            "_model_module": "@jupyter-widgets/base",
            "_model_module_version": "1.2.0",
            "_model_name": "LayoutModel",
            "_view_count": null,
            "_view_module": "@jupyter-widgets/base",
            "_view_module_version": "1.2.0",
            "_view_name": "LayoutView",
            "align_content": null,
            "align_items": null,
            "align_self": null,
            "border": null,
            "bottom": null,
            "display": "inline-flex",
            "flex": null,
            "flex_flow": "row wrap",
            "grid_area": null,
            "grid_auto_columns": null,
            "grid_auto_flow": null,
            "grid_auto_rows": null,
            "grid_column": null,
            "grid_gap": null,
            "grid_row": null,
            "grid_template_areas": null,
            "grid_template_columns": null,
            "grid_template_rows": null,
            "height": null,
            "justify_content": null,
            "justify_items": null,
            "left": null,
            "margin": null,
            "max_height": null,
            "max_width": null,
            "min_height": null,
            "min_width": null,
            "object_fit": null,
            "object_position": null,
            "order": null,
            "overflow": null,
            "overflow_x": null,
            "overflow_y": null,
            "padding": null,
            "right": null,
            "top": null,
            "visibility": null,
            "width": "100%"
          }
        },
        "60916398f8744c4c875e3704a3483633": {
          "model_module": "@jupyter-widgets/controls",
          "model_module_version": "1.5.0",
          "model_name": "ProgressStyleModel",
          "state": {
            "_model_module": "@jupyter-widgets/controls",
            "_model_module_version": "1.5.0",
            "_model_name": "ProgressStyleModel",
            "_view_count": null,
            "_view_module": "@jupyter-widgets/base",
            "_view_module_version": "1.2.0",
            "_view_name": "StyleView",
            "bar_color": null,
            "description_width": ""
          }
        },
        "823cb909686842ca8559b5b0edfc73ac": {
          "model_module": "@jupyter-widgets/controls",
          "model_module_version": "1.5.0",
          "model_name": "HTMLModel",
          "state": {
            "_dom_classes": [],
            "_model_module": "@jupyter-widgets/controls",
            "_model_module_version": "1.5.0",
            "_model_name": "HTMLModel",
            "_view_count": null,
            "_view_module": "@jupyter-widgets/controls",
            "_view_module_version": "1.5.0",
            "_view_name": "HTMLView",
            "description": "",
            "description_tooltip": null,
            "layout": "IPY_MODEL_2d6e89dc2f69458f9e0a1cc02bf81399",
            "placeholder": "​",
            "style": "IPY_MODEL_a42805e2836b47db959e640ee39e771c",
            "value": "Epoch 2: 100%"
          }
        },
        "827e902c64b44772a623d1e3247b3d13": {
          "model_module": "@jupyter-widgets/controls",
          "model_module_version": "1.5.0",
          "model_name": "HTMLModel",
          "state": {
            "_dom_classes": [],
            "_model_module": "@jupyter-widgets/controls",
            "_model_module_version": "1.5.0",
            "_model_name": "HTMLModel",
            "_view_count": null,
            "_view_module": "@jupyter-widgets/controls",
            "_view_module_version": "1.5.0",
            "_view_name": "HTMLView",
            "description": "",
            "description_tooltip": null,
            "layout": "IPY_MODEL_abe32ad2048949da8728bab0bc920518",
            "placeholder": "​",
            "style": "IPY_MODEL_25e044ca8d084be28ef05f26f1f3d0de",
            "value": " 300/300 [00:04&lt;00:00, 73.21it/s, v_num=0]"
          }
        },
        "990c104859704bc085e6e069ed4ed5fc": {
          "model_module": "@jupyter-widgets/base",
          "model_module_version": "1.2.0",
          "model_name": "LayoutModel",
          "state": {
            "_model_module": "@jupyter-widgets/base",
            "_model_module_version": "1.2.0",
            "_model_name": "LayoutModel",
            "_view_count": null,
            "_view_module": "@jupyter-widgets/base",
            "_view_module_version": "1.2.0",
            "_view_name": "LayoutView",
            "align_content": null,
            "align_items": null,
            "align_self": null,
            "border": null,
            "bottom": null,
            "display": null,
            "flex": "2",
            "flex_flow": null,
            "grid_area": null,
            "grid_auto_columns": null,
            "grid_auto_flow": null,
            "grid_auto_rows": null,
            "grid_column": null,
            "grid_gap": null,
            "grid_row": null,
            "grid_template_areas": null,
            "grid_template_columns": null,
            "grid_template_rows": null,
            "height": null,
            "justify_content": null,
            "justify_items": null,
            "left": null,
            "margin": null,
            "max_height": null,
            "max_width": null,
            "min_height": null,
            "min_width": null,
            "object_fit": null,
            "object_position": null,
            "order": null,
            "overflow": null,
            "overflow_x": null,
            "overflow_y": null,
            "padding": null,
            "right": null,
            "top": null,
            "visibility": null,
            "width": null
          }
        },
        "a42805e2836b47db959e640ee39e771c": {
          "model_module": "@jupyter-widgets/controls",
          "model_module_version": "1.5.0",
          "model_name": "DescriptionStyleModel",
          "state": {
            "_model_module": "@jupyter-widgets/controls",
            "_model_module_version": "1.5.0",
            "_model_name": "DescriptionStyleModel",
            "_view_count": null,
            "_view_module": "@jupyter-widgets/base",
            "_view_module_version": "1.2.0",
            "_view_name": "StyleView",
            "description_width": ""
          }
        },
        "abe32ad2048949da8728bab0bc920518": {
          "model_module": "@jupyter-widgets/base",
          "model_module_version": "1.2.0",
          "model_name": "LayoutModel",
          "state": {
            "_model_module": "@jupyter-widgets/base",
            "_model_module_version": "1.2.0",
            "_model_name": "LayoutModel",
            "_view_count": null,
            "_view_module": "@jupyter-widgets/base",
            "_view_module_version": "1.2.0",
            "_view_name": "LayoutView",
            "align_content": null,
            "align_items": null,
            "align_self": null,
            "border": null,
            "bottom": null,
            "display": null,
            "flex": null,
            "flex_flow": null,
            "grid_area": null,
            "grid_auto_columns": null,
            "grid_auto_flow": null,
            "grid_auto_rows": null,
            "grid_column": null,
            "grid_gap": null,
            "grid_row": null,
            "grid_template_areas": null,
            "grid_template_columns": null,
            "grid_template_rows": null,
            "height": null,
            "justify_content": null,
            "justify_items": null,
            "left": null,
            "margin": null,
            "max_height": null,
            "max_width": null,
            "min_height": null,
            "min_width": null,
            "object_fit": null,
            "object_position": null,
            "order": null,
            "overflow": null,
            "overflow_x": null,
            "overflow_y": null,
            "padding": null,
            "right": null,
            "top": null,
            "visibility": null,
            "width": null
          }
        },
        "ffbe450f805a472aa9fb28e7ed5e4590": {
          "model_module": "@jupyter-widgets/controls",
          "model_module_version": "1.5.0",
          "model_name": "HBoxModel",
          "state": {
            "_dom_classes": [],
            "_model_module": "@jupyter-widgets/controls",
            "_model_module_version": "1.5.0",
            "_model_name": "HBoxModel",
            "_view_count": null,
            "_view_module": "@jupyter-widgets/controls",
            "_view_module_version": "1.5.0",
            "_view_name": "HBoxView",
            "box_style": "",
            "children": [
              "IPY_MODEL_823cb909686842ca8559b5b0edfc73ac",
              "IPY_MODEL_2bb04176d6ec47b0aff286787aa41584",
              "IPY_MODEL_827e902c64b44772a623d1e3247b3d13"
            ],
            "layout": "IPY_MODEL_4e279ddc5ce54c7488330651f6fa6aa1"
          }
        }
      }
    }
  },
  "nbformat": 4,
  "nbformat_minor": 5
}
